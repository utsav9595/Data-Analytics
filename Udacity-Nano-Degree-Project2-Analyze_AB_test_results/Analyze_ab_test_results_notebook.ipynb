{
 "cells": [
  {
   "cell_type": "markdown",
   "metadata": {},
   "source": [
    "# Analyze A/B Test Results \n",
    "\n",
    "This project will assure you have mastered the subjects covered in the statistics lessons. We have organized the current notebook into the following sections: \n",
    "\n",
    "- [Introduction](#intro)\n",
    "- [Part I - Probability](#probability)\n",
    "- [Part II - A/B Test](#ab_test)\n",
    "- [Part III - Regression](#regression)\n",
    "- [Final Check](#finalcheck)\n",
    "- [Submission](#submission)\n",
    "\n",
    "Specific programming tasks are marked with a **ToDo** tag. \n",
    "\n",
    "<a id='intro'></a>\n",
    "## Introduction\n",
    "\n",
    "A/B tests are very commonly performed by data analysts and data scientists. For this project, you will be working to understand the results of an A/B test run by an e-commerce website.  Your goal is to work through this notebook to help the company understand if they should:\n",
    "- Implement the new webpage, \n",
    "- Keep the old webpage, or \n",
    "- Perhaps run the experiment longer to make their decision.\n",
    "\n",
    "Each **ToDo** task below has an associated quiz present in the classroom.  Though the classroom quizzes are **not necessary** to complete the project, they help ensure you are on the right track as you work through the project, and you can feel more confident in your final submission meeting the [rubric](https://review.udacity.com/#!/rubrics/1214/view) specification. \n",
    "\n",
    "\n",
    "<a id='probability'></a>\n",
    "## Part I - Probability\n",
    "\n",
    "To get started, let's import our libraries."
   ]
  },
  {
   "cell_type": "code",
   "execution_count": 2,
   "metadata": {},
   "outputs": [],
   "source": [
    "import pandas as pd\n",
    "import numpy as np\n",
    "import random\n",
    "import matplotlib.pyplot as plt\n",
    "%matplotlib inline\n",
    "#We are setting the seed to assure you get the same answers on quizzes as we set up\n",
    "random.seed(42)"
   ]
  },
  {
   "cell_type": "markdown",
   "metadata": {},
   "source": [
    "### ToDo 1.1\n",
    "Now, read in the `ab_data.csv` data. Store it in `df`. Below is the description of the data, there are a total of 5 columns:\n",
    "\n",
    "<center>\n",
    "\n",
    "|Data columns|Purpose|Valid values|\n",
    "| ------------- |:-------------| -----:|\n",
    "|user_id|Unique ID|Int64 values|\n",
    "|timestamp|Time stamp when the user visited the webpage|-|\n",
    "|group|In the current A/B experiment, the users are categorized into two broad groups. <br>The `control` group users are expected to be served with `old_page`; and `treatment` group users are matched with the `new_page`. <br>However, **some inaccurate rows** are present in the initial data, such as a `control` group user is matched with a `new_page`. |`['control', 'treatment']`|\n",
    "|landing_page|It denotes whether the user visited the old or new webpage.|`['old_page', 'new_page']`|\n",
    "|converted|It denotes whether the user decided to pay for the company's product. Here, `1` means yes, the user bought the product.|`[0, 1]`|\n",
    "</center>\n",
    "Use your dataframe to answer the questions in Quiz 1 of the classroom.\n",
    "\n",
    "\n",
    "\n",
    "**a.** Read in the dataset from the `ab_data.csv` file and take a look at the top few rows here:"
   ]
  },
  {
   "cell_type": "code",
   "execution_count": 3,
   "metadata": {},
   "outputs": [
    {
     "data": {
      "text/html": [
       "<div>\n",
       "<style scoped>\n",
       "    .dataframe tbody tr th:only-of-type {\n",
       "        vertical-align: middle;\n",
       "    }\n",
       "\n",
       "    .dataframe tbody tr th {\n",
       "        vertical-align: top;\n",
       "    }\n",
       "\n",
       "    .dataframe thead th {\n",
       "        text-align: right;\n",
       "    }\n",
       "</style>\n",
       "<table border=\"1\" class=\"dataframe\">\n",
       "  <thead>\n",
       "    <tr style=\"text-align: right;\">\n",
       "      <th></th>\n",
       "      <th>user_id</th>\n",
       "      <th>timestamp</th>\n",
       "      <th>group</th>\n",
       "      <th>landing_page</th>\n",
       "      <th>converted</th>\n",
       "    </tr>\n",
       "  </thead>\n",
       "  <tbody>\n",
       "    <tr>\n",
       "      <th>0</th>\n",
       "      <td>851104</td>\n",
       "      <td>2017-01-21 22:11:48.556739</td>\n",
       "      <td>control</td>\n",
       "      <td>old_page</td>\n",
       "      <td>0</td>\n",
       "    </tr>\n",
       "    <tr>\n",
       "      <th>1</th>\n",
       "      <td>804228</td>\n",
       "      <td>2017-01-12 08:01:45.159739</td>\n",
       "      <td>control</td>\n",
       "      <td>old_page</td>\n",
       "      <td>0</td>\n",
       "    </tr>\n",
       "    <tr>\n",
       "      <th>2</th>\n",
       "      <td>661590</td>\n",
       "      <td>2017-01-11 16:55:06.154213</td>\n",
       "      <td>treatment</td>\n",
       "      <td>new_page</td>\n",
       "      <td>0</td>\n",
       "    </tr>\n",
       "    <tr>\n",
       "      <th>3</th>\n",
       "      <td>853541</td>\n",
       "      <td>2017-01-08 18:28:03.143765</td>\n",
       "      <td>treatment</td>\n",
       "      <td>new_page</td>\n",
       "      <td>0</td>\n",
       "    </tr>\n",
       "    <tr>\n",
       "      <th>4</th>\n",
       "      <td>864975</td>\n",
       "      <td>2017-01-21 01:52:26.210827</td>\n",
       "      <td>control</td>\n",
       "      <td>old_page</td>\n",
       "      <td>1</td>\n",
       "    </tr>\n",
       "  </tbody>\n",
       "</table>\n",
       "</div>"
      ],
      "text/plain": [
       "   user_id                   timestamp      group landing_page  converted\n",
       "0   851104  2017-01-21 22:11:48.556739    control     old_page          0\n",
       "1   804228  2017-01-12 08:01:45.159739    control     old_page          0\n",
       "2   661590  2017-01-11 16:55:06.154213  treatment     new_page          0\n",
       "3   853541  2017-01-08 18:28:03.143765  treatment     new_page          0\n",
       "4   864975  2017-01-21 01:52:26.210827    control     old_page          1"
      ]
     },
     "execution_count": 3,
     "metadata": {},
     "output_type": "execute_result"
    }
   ],
   "source": [
    "df = pd.read_csv(\"ab_data.csv\")\n",
    "df.head()"
   ]
  },
  {
   "cell_type": "markdown",
   "metadata": {},
   "source": [
    "**b.** Use the cell below to find the number of rows in the dataset."
   ]
  },
  {
   "cell_type": "code",
   "execution_count": 4,
   "metadata": {},
   "outputs": [],
   "source": [
    "row =df.shape"
   ]
  },
  {
   "cell_type": "code",
   "execution_count": 5,
   "metadata": {},
   "outputs": [
    {
     "name": "stdout",
     "output_type": "stream",
     "text": [
      "Number of rows: 294478\n",
      "Number of columns: 5\n"
     ]
    }
   ],
   "source": [
    "print(\"Number of rows:\",row[0])\n",
    "print(\"Number of columns:\",row[1])"
   ]
  },
  {
   "cell_type": "markdown",
   "metadata": {},
   "source": [
    "Finding:- <br>Number of rows: 294478 <br>\n",
    "Number of columns: 5"
   ]
  },
  {
   "cell_type": "markdown",
   "metadata": {},
   "source": [
    "**c.** The number of unique users in the dataset."
   ]
  },
  {
   "cell_type": "code",
   "execution_count": 6,
   "metadata": {},
   "outputs": [
    {
     "data": {
      "text/plain": [
       "290584"
      ]
     },
     "execution_count": 6,
     "metadata": {},
     "output_type": "execute_result"
    }
   ],
   "source": [
    "df.user_id.nunique()"
   ]
  },
  {
   "cell_type": "markdown",
   "metadata": {},
   "source": [
    "Finding :- 290584 unique users in dataset"
   ]
  },
  {
   "cell_type": "markdown",
   "metadata": {
    "collapsed": true
   },
   "source": [
    "**d.** The proportion of users converted."
   ]
  },
  {
   "cell_type": "code",
   "execution_count": 7,
   "metadata": {},
   "outputs": [
    {
     "data": {
      "text/plain": [
       "user_id         35237\n",
       "timestamp       35237\n",
       "group           35237\n",
       "landing_page    35237\n",
       "converted       35237\n",
       "dtype: int64"
      ]
     },
     "execution_count": 7,
     "metadata": {},
     "output_type": "execute_result"
    }
   ],
   "source": [
    "df_convert = df.query('converted == 1')\n",
    "df_convert.count()\n"
   ]
  },
  {
   "cell_type": "code",
   "execution_count": 8,
   "metadata": {},
   "outputs": [
    {
     "data": {
      "text/plain": [
       "0.11965919355605512"
      ]
     },
     "execution_count": 8,
     "metadata": {},
     "output_type": "execute_result"
    }
   ],
   "source": [
    "(df_convert.count()['user_id'])/len(df.user_id)"
   ]
  },
  {
   "cell_type": "markdown",
   "metadata": {},
   "source": [
    "Finding :- 11.96 % of users are converted"
   ]
  },
  {
   "cell_type": "markdown",
   "metadata": {
    "collapsed": true
   },
   "source": [
    "**e.** The number of times when the \"group\" is `treatment` but \"landing_page\" is not a `new_page`."
   ]
  },
  {
   "cell_type": "code",
   "execution_count": 9,
   "metadata": {},
   "outputs": [
    {
     "data": {
      "text/plain": [
       "user_id         1965\n",
       "timestamp       1965\n",
       "group           1965\n",
       "landing_page    1965\n",
       "converted       1965\n",
       "dtype: int64"
      ]
     },
     "execution_count": 9,
     "metadata": {},
     "output_type": "execute_result"
    }
   ],
   "source": [
    "df.query('group ==\"treatment\" & landing_page!=\"new_page\"  ').count()"
   ]
  },
  {
   "cell_type": "markdown",
   "metadata": {},
   "source": [
    "Finding:- 1965 is the number of times when the \"group\" is treatment but \"landing_page\" is not a new_page."
   ]
  },
  {
   "cell_type": "markdown",
   "metadata": {},
   "source": [
    "**f.** Do any of the rows have missing values?"
   ]
  },
  {
   "cell_type": "code",
   "execution_count": 10,
   "metadata": {},
   "outputs": [
    {
     "name": "stdout",
     "output_type": "stream",
     "text": [
      "<class 'pandas.core.frame.DataFrame'>\n",
      "RangeIndex: 294478 entries, 0 to 294477\n",
      "Data columns (total 5 columns):\n",
      "user_id         294478 non-null int64\n",
      "timestamp       294478 non-null object\n",
      "group           294478 non-null object\n",
      "landing_page    294478 non-null object\n",
      "converted       294478 non-null int64\n",
      "dtypes: int64(2), object(3)\n",
      "memory usage: 11.2+ MB\n"
     ]
    }
   ],
   "source": [
    "df.info()"
   ]
  },
  {
   "cell_type": "markdown",
   "metadata": {},
   "source": [
    "Finding:- No missing values observed"
   ]
  },
  {
   "cell_type": "markdown",
   "metadata": {},
   "source": [
    "### ToDo 1.2  \n",
    "In a particular row, the **group** and **landing_page** columns should have either of the following acceptable values:\n",
    "\n",
    "|user_id| timestamp|group|landing_page|converted|\n",
    "|---|---|---|---|---|\n",
    "|XXXX|XXXX|`control`| `old_page`|X |\n",
    "|XXXX|XXXX|`treatment`|`new_page`|X |\n",
    "\n",
    "\n",
    "It means, the `control` group users should match with `old_page`; and `treatment` group users should matched with the `new_page`. \n",
    "\n",
    "However, for the rows where `treatment` does not match with `new_page` or `control` does not match with `old_page`, we cannot be sure if such rows truly received the new or old wepage.  \n",
    "\n",
    "\n",
    "Use **Quiz 2** in the classroom to figure out how should we handle the rows where the group and landing_page columns don't match?\n",
    "\n",
    "**a.** Now use the answer to the quiz to create a new dataset that meets the specifications from the quiz.  Store your new dataframe in **df2**."
   ]
  },
  {
   "cell_type": "code",
   "execution_count": 11,
   "metadata": {},
   "outputs": [
    {
     "data": {
      "text/plain": [
       "(290585, 5)"
      ]
     },
     "execution_count": 11,
     "metadata": {},
     "output_type": "execute_result"
    }
   ],
   "source": [
    "# Remove the inaccurate rows, and store the result in a new dataframe df2\n",
    "df2 = df.query('(group ==\"control\"  & landing_page== \"old_page\") or (group ==\"treatment\"  & landing_page== \"new_page\")')\n",
    "df2.shape"
   ]
  },
  {
   "cell_type": "code",
   "execution_count": 12,
   "metadata": {},
   "outputs": [
    {
     "data": {
      "text/plain": [
       "0"
      ]
     },
     "execution_count": 12,
     "metadata": {},
     "output_type": "execute_result"
    }
   ],
   "source": [
    "# Double Check all of the incorrect rows were removed from df2 - \n",
    "# Output of the statement below should be 0\n",
    "df2[((df2['group'] == 'treatment') == (df2['landing_page'] == 'new_page')) == False].shape[0]"
   ]
  },
  {
   "cell_type": "markdown",
   "metadata": {},
   "source": [
    "### ToDo 1.3  \n",
    "Use **df2** and the cells below to answer questions for **Quiz 3** in the classroom."
   ]
  },
  {
   "cell_type": "markdown",
   "metadata": {},
   "source": [
    "**a.** How many unique **user_id**s are in **df2**?"
   ]
  },
  {
   "cell_type": "code",
   "execution_count": 13,
   "metadata": {},
   "outputs": [
    {
     "data": {
      "text/html": [
       "<div>\n",
       "<style scoped>\n",
       "    .dataframe tbody tr th:only-of-type {\n",
       "        vertical-align: middle;\n",
       "    }\n",
       "\n",
       "    .dataframe tbody tr th {\n",
       "        vertical-align: top;\n",
       "    }\n",
       "\n",
       "    .dataframe thead th {\n",
       "        text-align: right;\n",
       "    }\n",
       "</style>\n",
       "<table border=\"1\" class=\"dataframe\">\n",
       "  <thead>\n",
       "    <tr style=\"text-align: right;\">\n",
       "      <th></th>\n",
       "      <th>user_id</th>\n",
       "      <th>timestamp</th>\n",
       "      <th>group</th>\n",
       "      <th>landing_page</th>\n",
       "      <th>converted</th>\n",
       "    </tr>\n",
       "  </thead>\n",
       "  <tbody>\n",
       "    <tr>\n",
       "      <th>0</th>\n",
       "      <td>851104</td>\n",
       "      <td>2017-01-21 22:11:48.556739</td>\n",
       "      <td>control</td>\n",
       "      <td>old_page</td>\n",
       "      <td>0</td>\n",
       "    </tr>\n",
       "    <tr>\n",
       "      <th>1</th>\n",
       "      <td>804228</td>\n",
       "      <td>2017-01-12 08:01:45.159739</td>\n",
       "      <td>control</td>\n",
       "      <td>old_page</td>\n",
       "      <td>0</td>\n",
       "    </tr>\n",
       "    <tr>\n",
       "      <th>2</th>\n",
       "      <td>661590</td>\n",
       "      <td>2017-01-11 16:55:06.154213</td>\n",
       "      <td>treatment</td>\n",
       "      <td>new_page</td>\n",
       "      <td>0</td>\n",
       "    </tr>\n",
       "    <tr>\n",
       "      <th>3</th>\n",
       "      <td>853541</td>\n",
       "      <td>2017-01-08 18:28:03.143765</td>\n",
       "      <td>treatment</td>\n",
       "      <td>new_page</td>\n",
       "      <td>0</td>\n",
       "    </tr>\n",
       "    <tr>\n",
       "      <th>4</th>\n",
       "      <td>864975</td>\n",
       "      <td>2017-01-21 01:52:26.210827</td>\n",
       "      <td>control</td>\n",
       "      <td>old_page</td>\n",
       "      <td>1</td>\n",
       "    </tr>\n",
       "  </tbody>\n",
       "</table>\n",
       "</div>"
      ],
      "text/plain": [
       "   user_id                   timestamp      group landing_page  converted\n",
       "0   851104  2017-01-21 22:11:48.556739    control     old_page          0\n",
       "1   804228  2017-01-12 08:01:45.159739    control     old_page          0\n",
       "2   661590  2017-01-11 16:55:06.154213  treatment     new_page          0\n",
       "3   853541  2017-01-08 18:28:03.143765  treatment     new_page          0\n",
       "4   864975  2017-01-21 01:52:26.210827    control     old_page          1"
      ]
     },
     "execution_count": 13,
     "metadata": {},
     "output_type": "execute_result"
    }
   ],
   "source": [
    "df2.head()"
   ]
  },
  {
   "cell_type": "code",
   "execution_count": 14,
   "metadata": {},
   "outputs": [
    {
     "data": {
      "text/plain": [
       "290584"
      ]
     },
     "execution_count": 14,
     "metadata": {},
     "output_type": "execute_result"
    }
   ],
   "source": [
    "df2.user_id.nunique()"
   ]
  },
  {
   "cell_type": "markdown",
   "metadata": {
    "collapsed": true
   },
   "source": [
    "**b.** There is one **user_id** repeated in **df2**.  What is it?"
   ]
  },
  {
   "cell_type": "code",
   "execution_count": 15,
   "metadata": {},
   "outputs": [
    {
     "data": {
      "text/html": [
       "<div>\n",
       "<style scoped>\n",
       "    .dataframe tbody tr th:only-of-type {\n",
       "        vertical-align: middle;\n",
       "    }\n",
       "\n",
       "    .dataframe tbody tr th {\n",
       "        vertical-align: top;\n",
       "    }\n",
       "\n",
       "    .dataframe thead th {\n",
       "        text-align: right;\n",
       "    }\n",
       "</style>\n",
       "<table border=\"1\" class=\"dataframe\">\n",
       "  <thead>\n",
       "    <tr style=\"text-align: right;\">\n",
       "      <th></th>\n",
       "      <th>user_id</th>\n",
       "      <th>timestamp</th>\n",
       "      <th>group</th>\n",
       "      <th>landing_page</th>\n",
       "      <th>converted</th>\n",
       "    </tr>\n",
       "  </thead>\n",
       "  <tbody>\n",
       "    <tr>\n",
       "      <th>2893</th>\n",
       "      <td>773192</td>\n",
       "      <td>2017-01-14 02:55:59.590927</td>\n",
       "      <td>treatment</td>\n",
       "      <td>new_page</td>\n",
       "      <td>0</td>\n",
       "    </tr>\n",
       "  </tbody>\n",
       "</table>\n",
       "</div>"
      ],
      "text/plain": [
       "      user_id                   timestamp      group landing_page  converted\n",
       "2893   773192  2017-01-14 02:55:59.590927  treatment     new_page          0"
      ]
     },
     "execution_count": 15,
     "metadata": {},
     "output_type": "execute_result"
    }
   ],
   "source": [
    "df2[df2.user_id.duplicated()==True]"
   ]
  },
  {
   "cell_type": "code",
   "execution_count": 16,
   "metadata": {
    "scrolled": true
   },
   "outputs": [
    {
     "data": {
      "text/html": [
       "<div>\n",
       "<style scoped>\n",
       "    .dataframe tbody tr th:only-of-type {\n",
       "        vertical-align: middle;\n",
       "    }\n",
       "\n",
       "    .dataframe tbody tr th {\n",
       "        vertical-align: top;\n",
       "    }\n",
       "\n",
       "    .dataframe thead th {\n",
       "        text-align: right;\n",
       "    }\n",
       "</style>\n",
       "<table border=\"1\" class=\"dataframe\">\n",
       "  <thead>\n",
       "    <tr style=\"text-align: right;\">\n",
       "      <th></th>\n",
       "      <th>user_id</th>\n",
       "      <th>timestamp</th>\n",
       "      <th>group</th>\n",
       "      <th>landing_page</th>\n",
       "      <th>converted</th>\n",
       "    </tr>\n",
       "  </thead>\n",
       "  <tbody>\n",
       "    <tr>\n",
       "      <th>1899</th>\n",
       "      <td>773192</td>\n",
       "      <td>2017-01-09 05:37:58.781806</td>\n",
       "      <td>treatment</td>\n",
       "      <td>new_page</td>\n",
       "      <td>0</td>\n",
       "    </tr>\n",
       "    <tr>\n",
       "      <th>2893</th>\n",
       "      <td>773192</td>\n",
       "      <td>2017-01-14 02:55:59.590927</td>\n",
       "      <td>treatment</td>\n",
       "      <td>new_page</td>\n",
       "      <td>0</td>\n",
       "    </tr>\n",
       "  </tbody>\n",
       "</table>\n",
       "</div>"
      ],
      "text/plain": [
       "      user_id                   timestamp      group landing_page  converted\n",
       "1899   773192  2017-01-09 05:37:58.781806  treatment     new_page          0\n",
       "2893   773192  2017-01-14 02:55:59.590927  treatment     new_page          0"
      ]
     },
     "execution_count": 16,
     "metadata": {},
     "output_type": "execute_result"
    }
   ],
   "source": [
    "df2[df2.user_id==773192]"
   ]
  },
  {
   "cell_type": "markdown",
   "metadata": {},
   "source": [
    "Finding:- UserId 773192 is repeated twice in df2."
   ]
  },
  {
   "cell_type": "markdown",
   "metadata": {},
   "source": [
    "**c.** Display the rows for the duplicate **user_id**? "
   ]
  },
  {
   "cell_type": "code",
   "execution_count": 17,
   "metadata": {},
   "outputs": [
    {
     "data": {
      "text/html": [
       "<div>\n",
       "<style scoped>\n",
       "    .dataframe tbody tr th:only-of-type {\n",
       "        vertical-align: middle;\n",
       "    }\n",
       "\n",
       "    .dataframe tbody tr th {\n",
       "        vertical-align: top;\n",
       "    }\n",
       "\n",
       "    .dataframe thead th {\n",
       "        text-align: right;\n",
       "    }\n",
       "</style>\n",
       "<table border=\"1\" class=\"dataframe\">\n",
       "  <thead>\n",
       "    <tr style=\"text-align: right;\">\n",
       "      <th></th>\n",
       "      <th>user_id</th>\n",
       "      <th>timestamp</th>\n",
       "      <th>group</th>\n",
       "      <th>landing_page</th>\n",
       "      <th>converted</th>\n",
       "    </tr>\n",
       "  </thead>\n",
       "  <tbody>\n",
       "    <tr>\n",
       "      <th>1899</th>\n",
       "      <td>773192</td>\n",
       "      <td>2017-01-09 05:37:58.781806</td>\n",
       "      <td>treatment</td>\n",
       "      <td>new_page</td>\n",
       "      <td>0</td>\n",
       "    </tr>\n",
       "    <tr>\n",
       "      <th>2893</th>\n",
       "      <td>773192</td>\n",
       "      <td>2017-01-14 02:55:59.590927</td>\n",
       "      <td>treatment</td>\n",
       "      <td>new_page</td>\n",
       "      <td>0</td>\n",
       "    </tr>\n",
       "  </tbody>\n",
       "</table>\n",
       "</div>"
      ],
      "text/plain": [
       "      user_id                   timestamp      group landing_page  converted\n",
       "1899   773192  2017-01-09 05:37:58.781806  treatment     new_page          0\n",
       "2893   773192  2017-01-14 02:55:59.590927  treatment     new_page          0"
      ]
     },
     "execution_count": 17,
     "metadata": {},
     "output_type": "execute_result"
    }
   ],
   "source": [
    "df2[df2.user_id==773192]"
   ]
  },
  {
   "cell_type": "markdown",
   "metadata": {},
   "source": [
    "**d.** Remove **one** of the rows with a duplicate **user_id**, from the **df2** dataframe."
   ]
  },
  {
   "cell_type": "code",
   "execution_count": 18,
   "metadata": {},
   "outputs": [
    {
     "name": "stderr",
     "output_type": "stream",
     "text": [
      "/opt/conda/lib/python3.6/site-packages/pandas/core/frame.py:3697: SettingWithCopyWarning: \n",
      "A value is trying to be set on a copy of a slice from a DataFrame\n",
      "\n",
      "See the caveats in the documentation: http://pandas.pydata.org/pandas-docs/stable/indexing.html#indexing-view-versus-copy\n",
      "  errors=errors)\n"
     ]
    }
   ],
   "source": [
    "# Remove one of the rows with a duplicate user_id..\n",
    "\n",
    "# Check again if the row with a duplicate user_id is deleted or not\n",
    "df2.drop(1899,inplace = True)"
   ]
  },
  {
   "cell_type": "code",
   "execution_count": 19,
   "metadata": {},
   "outputs": [
    {
     "data": {
      "text/html": [
       "<div>\n",
       "<style scoped>\n",
       "    .dataframe tbody tr th:only-of-type {\n",
       "        vertical-align: middle;\n",
       "    }\n",
       "\n",
       "    .dataframe tbody tr th {\n",
       "        vertical-align: top;\n",
       "    }\n",
       "\n",
       "    .dataframe thead th {\n",
       "        text-align: right;\n",
       "    }\n",
       "</style>\n",
       "<table border=\"1\" class=\"dataframe\">\n",
       "  <thead>\n",
       "    <tr style=\"text-align: right;\">\n",
       "      <th></th>\n",
       "      <th>user_id</th>\n",
       "      <th>timestamp</th>\n",
       "      <th>group</th>\n",
       "      <th>landing_page</th>\n",
       "      <th>converted</th>\n",
       "    </tr>\n",
       "  </thead>\n",
       "  <tbody>\n",
       "    <tr>\n",
       "      <th>2893</th>\n",
       "      <td>773192</td>\n",
       "      <td>2017-01-14 02:55:59.590927</td>\n",
       "      <td>treatment</td>\n",
       "      <td>new_page</td>\n",
       "      <td>0</td>\n",
       "    </tr>\n",
       "  </tbody>\n",
       "</table>\n",
       "</div>"
      ],
      "text/plain": [
       "      user_id                   timestamp      group landing_page  converted\n",
       "2893   773192  2017-01-14 02:55:59.590927  treatment     new_page          0"
      ]
     },
     "execution_count": 19,
     "metadata": {},
     "output_type": "execute_result"
    }
   ],
   "source": [
    "df2[df2.user_id==773192]"
   ]
  },
  {
   "cell_type": "code",
   "execution_count": 20,
   "metadata": {},
   "outputs": [
    {
     "data": {
      "text/plain": [
       "user_id         290584\n",
       "timestamp       290584\n",
       "group           290584\n",
       "landing_page    290584\n",
       "converted       290584\n",
       "dtype: int64"
      ]
     },
     "execution_count": 20,
     "metadata": {},
     "output_type": "execute_result"
    }
   ],
   "source": [
    "df2.count()"
   ]
  },
  {
   "cell_type": "code",
   "execution_count": 21,
   "metadata": {},
   "outputs": [
    {
     "data": {
      "text/html": [
       "<div>\n",
       "<style scoped>\n",
       "    .dataframe tbody tr th:only-of-type {\n",
       "        vertical-align: middle;\n",
       "    }\n",
       "\n",
       "    .dataframe tbody tr th {\n",
       "        vertical-align: top;\n",
       "    }\n",
       "\n",
       "    .dataframe thead th {\n",
       "        text-align: right;\n",
       "    }\n",
       "</style>\n",
       "<table border=\"1\" class=\"dataframe\">\n",
       "  <thead>\n",
       "    <tr style=\"text-align: right;\">\n",
       "      <th></th>\n",
       "      <th>user_id</th>\n",
       "      <th>timestamp</th>\n",
       "      <th>group</th>\n",
       "      <th>landing_page</th>\n",
       "      <th>converted</th>\n",
       "    </tr>\n",
       "  </thead>\n",
       "  <tbody>\n",
       "  </tbody>\n",
       "</table>\n",
       "</div>"
      ],
      "text/plain": [
       "Empty DataFrame\n",
       "Columns: [user_id, timestamp, group, landing_page, converted]\n",
       "Index: []"
      ]
     },
     "execution_count": 21,
     "metadata": {},
     "output_type": "execute_result"
    }
   ],
   "source": [
    "df2[df2.user_id.duplicated() == True]"
   ]
  },
  {
   "cell_type": "markdown",
   "metadata": {},
   "source": [
    "### ToDo 1.4  \n",
    "Use **df2** in the cells below to answer the quiz questions related to **Quiz 4** in the classroom.\n",
    "\n",
    "**a.** What is the probability of an individual converting regardless of the page they receive?<br><br>\n",
    "\n",
    "\n",
    "\n"
   ]
  },
  {
   "cell_type": "code",
   "execution_count": 22,
   "metadata": {},
   "outputs": [
    {
     "data": {
      "text/html": [
       "<div>\n",
       "<style scoped>\n",
       "    .dataframe tbody tr th:only-of-type {\n",
       "        vertical-align: middle;\n",
       "    }\n",
       "\n",
       "    .dataframe tbody tr th {\n",
       "        vertical-align: top;\n",
       "    }\n",
       "\n",
       "    .dataframe thead th {\n",
       "        text-align: right;\n",
       "    }\n",
       "</style>\n",
       "<table border=\"1\" class=\"dataframe\">\n",
       "  <thead>\n",
       "    <tr style=\"text-align: right;\">\n",
       "      <th></th>\n",
       "      <th>user_id</th>\n",
       "      <th>timestamp</th>\n",
       "      <th>group</th>\n",
       "      <th>landing_page</th>\n",
       "      <th>converted</th>\n",
       "    </tr>\n",
       "  </thead>\n",
       "  <tbody>\n",
       "    <tr>\n",
       "      <th>0</th>\n",
       "      <td>851104</td>\n",
       "      <td>2017-01-21 22:11:48.556739</td>\n",
       "      <td>control</td>\n",
       "      <td>old_page</td>\n",
       "      <td>0</td>\n",
       "    </tr>\n",
       "    <tr>\n",
       "      <th>1</th>\n",
       "      <td>804228</td>\n",
       "      <td>2017-01-12 08:01:45.159739</td>\n",
       "      <td>control</td>\n",
       "      <td>old_page</td>\n",
       "      <td>0</td>\n",
       "    </tr>\n",
       "    <tr>\n",
       "      <th>2</th>\n",
       "      <td>661590</td>\n",
       "      <td>2017-01-11 16:55:06.154213</td>\n",
       "      <td>treatment</td>\n",
       "      <td>new_page</td>\n",
       "      <td>0</td>\n",
       "    </tr>\n",
       "    <tr>\n",
       "      <th>3</th>\n",
       "      <td>853541</td>\n",
       "      <td>2017-01-08 18:28:03.143765</td>\n",
       "      <td>treatment</td>\n",
       "      <td>new_page</td>\n",
       "      <td>0</td>\n",
       "    </tr>\n",
       "    <tr>\n",
       "      <th>4</th>\n",
       "      <td>864975</td>\n",
       "      <td>2017-01-21 01:52:26.210827</td>\n",
       "      <td>control</td>\n",
       "      <td>old_page</td>\n",
       "      <td>1</td>\n",
       "    </tr>\n",
       "  </tbody>\n",
       "</table>\n",
       "</div>"
      ],
      "text/plain": [
       "   user_id                   timestamp      group landing_page  converted\n",
       "0   851104  2017-01-21 22:11:48.556739    control     old_page          0\n",
       "1   804228  2017-01-12 08:01:45.159739    control     old_page          0\n",
       "2   661590  2017-01-11 16:55:06.154213  treatment     new_page          0\n",
       "3   853541  2017-01-08 18:28:03.143765  treatment     new_page          0\n",
       "4   864975  2017-01-21 01:52:26.210827    control     old_page          1"
      ]
     },
     "execution_count": 22,
     "metadata": {},
     "output_type": "execute_result"
    }
   ],
   "source": [
    "df2.head()"
   ]
  },
  {
   "cell_type": "code",
   "execution_count": 23,
   "metadata": {},
   "outputs": [
    {
     "data": {
      "text/plain": [
       "0.11959708724499628"
      ]
     },
     "execution_count": 23,
     "metadata": {},
     "output_type": "execute_result"
    }
   ],
   "source": [
    "df2.converted.mean()"
   ]
  },
  {
   "cell_type": "markdown",
   "metadata": {},
   "source": [
    "Finding:- 11.959% of individuals converting regardless of the page they receive. Probability = 0.11959"
   ]
  },
  {
   "cell_type": "markdown",
   "metadata": {},
   "source": [
    "**b.** Given that an individual was in the `control` group, what is the probability they converted?"
   ]
  },
  {
   "cell_type": "code",
   "execution_count": 24,
   "metadata": {},
   "outputs": [
    {
     "data": {
      "text/plain": [
       "0.1203863045004612"
      ]
     },
     "execution_count": 24,
     "metadata": {},
     "output_type": "execute_result"
    }
   ],
   "source": [
    "control =df2.query('group==\"control\"')\n",
    "control['converted'].mean()"
   ]
  },
  {
   "cell_type": "markdown",
   "metadata": {},
   "source": [
    "Finding:- 0.12038 is the probability of an individual who was in the control group, & is converted"
   ]
  },
  {
   "cell_type": "markdown",
   "metadata": {},
   "source": [
    "**c.** Given that an individual was in the `treatment` group, what is the probability they converted?"
   ]
  },
  {
   "cell_type": "code",
   "execution_count": 25,
   "metadata": {},
   "outputs": [
    {
     "data": {
      "text/plain": [
       "0.11880806551510564"
      ]
     },
     "execution_count": 25,
     "metadata": {},
     "output_type": "execute_result"
    }
   ],
   "source": [
    "treatment =df2.query('group==\"treatment\"')\n",
    "treatment['converted'].mean()"
   ]
  },
  {
   "cell_type": "markdown",
   "metadata": {},
   "source": [
    "Finding:- 0.1188 is the probability of an individual who was in the treatment group & is converted"
   ]
  },
  {
   "cell_type": "code",
   "execution_count": 64,
   "metadata": {},
   "outputs": [
    {
     "data": {
      "text/plain": [
       "0.0015782389853555567"
      ]
     },
     "execution_count": 64,
     "metadata": {},
     "output_type": "execute_result"
    }
   ],
   "source": [
    "# Calculate the actual difference (obs_diff) between the conversion rates for the two groups.\n",
    "obs_diff =control['converted'].mean()-treatment['converted'].mean() #Conversion rate of control - treatment\n",
    "obs_diff"
   ]
  },
  {
   "cell_type": "markdown",
   "metadata": {},
   "source": [
    "**d.** What is the probability that an individual received the new page?"
   ]
  },
  {
   "cell_type": "code",
   "execution_count": 27,
   "metadata": {},
   "outputs": [
    {
     "data": {
      "text/plain": [
       "0.5000619442226688"
      ]
     },
     "execution_count": 27,
     "metadata": {},
     "output_type": "execute_result"
    }
   ],
   "source": [
    "temp_new_page = df2.query('landing_page==\"new_page\"')\n",
    "len(temp_new_page)/len(df2)"
   ]
  },
  {
   "cell_type": "code",
   "execution_count": 28,
   "metadata": {},
   "outputs": [
    {
     "data": {
      "text/plain": [
       "new_page    145310\n",
       "old_page    145274\n",
       "Name: landing_page, dtype: int64"
      ]
     },
     "execution_count": 28,
     "metadata": {},
     "output_type": "execute_result"
    }
   ],
   "source": [
    "df2.landing_page.value_counts()"
   ]
  },
  {
   "cell_type": "code",
   "execution_count": 29,
   "metadata": {},
   "outputs": [
    {
     "data": {
      "text/plain": [
       "treatment    145310\n",
       "control      145274\n",
       "Name: group, dtype: int64"
      ]
     },
     "execution_count": 29,
     "metadata": {},
     "output_type": "execute_result"
    }
   ],
   "source": [
    "df2.group.value_counts()"
   ]
  },
  {
   "cell_type": "markdown",
   "metadata": {},
   "source": [
    "Finding:-Probability that an individual received the new page = 0.5"
   ]
  },
  {
   "cell_type": "markdown",
   "metadata": {},
   "source": [
    "**e.** Consider your results from parts (a) through (d) above, and explain below whether the new `treatment` group users lead to more conversions."
   ]
  },
  {
   "cell_type": "markdown",
   "metadata": {},
   "source": [
    ">**Your answer goes here.**\n",
    "Treatment group count is 145310 whereas control group count is 145274. But still control group conversion rates are slightly better than the treatment group conversion."
   ]
  },
  {
   "cell_type": "markdown",
   "metadata": {},
   "source": [
    "<a id='ab_test'></a>\n",
    "## Part II - A/B Test\n",
    "\n",
    "Since a timestamp is associated with each event, you could run a hypothesis test continuously as long as you observe the events. \n",
    "\n",
    "However, then the hard questions would be: \n",
    "- Do you stop as soon as one page is considered significantly better than another or does it need to happen consistently for a certain amount of time?  \n",
    "- How long do you run to render a decision that neither page is better than another?  \n",
    "\n",
    "These questions are the difficult parts associated with A/B tests in general.  \n",
    "\n",
    "\n",
    "### ToDo 2.1\n",
    "For now, consider you need to make the decision just based on all the data provided.  \n",
    "\n",
    "> Recall that you just calculated that the \"converted\" probability (or rate) for the old page is *slightly* higher than that of the new page (ToDo 1.4.c). \n",
    "\n",
    "If you want to assume that the old page is better unless the new page proves to be definitely better at a Type I error rate of 5%, what should be your null and alternative hypotheses (**$H_0$** and **$H_1$**)?  \n",
    "\n",
    "You can state your hypothesis in terms of words or in terms of **$p_{old}$** and **$p_{new}$**, which are the \"converted\" probability (or rate) for the old and new pages respectively."
   ]
  },
  {
   "cell_type": "markdown",
   "metadata": {},
   "source": [
    ">**Put your answer here.**\n",
    "<br>\n",
    "**$H_0$**=**$p_{new}$** -**$p_{old}$** <=0  <br> **$H_1$** =**$p_{new}$** -**$p_{old}$** >0 "
   ]
  },
  {
   "cell_type": "markdown",
   "metadata": {},
   "source": [
    "### ToDo 2.2 - Null Hypothesis $H_0$ Testing\n",
    "Under the null hypothesis $H_0$, assume that $p_{new}$ and $p_{old}$ are equal. Furthermore, assume that $p_{new}$ and $p_{old}$ both are equal to the **converted** success rate in the `df2` data regardless of the page. So, our assumption is: <br><br>\n",
    "<center>\n",
    "$p_{new}$ = $p_{old}$ = $p_{population}$\n",
    "</center>\n",
    "\n",
    "In this section, you will: \n",
    "\n",
    "- Simulate (bootstrap) sample data set for both groups, and compute the  \"converted\" probability $p$ for those samples. \n",
    "\n",
    "\n",
    "- Use a sample size for each group equal to the ones in the `df2` data.\n",
    "\n",
    "\n",
    "- Compute the difference in the \"converted\" probability for the two samples above. \n",
    "\n",
    "\n",
    "- Perform the sampling distribution for the \"difference in the converted probability\" between the two simulated-samples over 10,000 iterations; and calculate an estimate. \n",
    "\n",
    "\n",
    "\n",
    "Use the cells below to provide the necessary parts of this simulation.  You can use **Quiz 5** in the classroom to make sure you are on the right track."
   ]
  },
  {
   "cell_type": "markdown",
   "metadata": {},
   "source": [
    "**a.** What is the **conversion rate** for $p_{new}$ under the null hypothesis? "
   ]
  },
  {
   "cell_type": "code",
   "execution_count": 30,
   "metadata": {},
   "outputs": [],
   "source": [
    "p_new = df2['converted'].mean()\n",
    "control_df = df2.query('group==\"control\"')\n",
    "treatment_df = df2.query('group==\"treatment\"')\n",
    "convRateOld = control_df['converted'].mean()\n",
    "convRateNew = treatment_df['converted'].mean()"
   ]
  },
  {
   "cell_type": "code",
   "execution_count": 31,
   "metadata": {},
   "outputs": [
    {
     "data": {
      "text/plain": [
       "(0.11959708724499628, 0.1203863045004612, 0.11880806551510564)"
      ]
     },
     "execution_count": 31,
     "metadata": {},
     "output_type": "execute_result"
    }
   ],
   "source": [
    "p_new , convRateOld, convRateNew"
   ]
  },
  {
   "cell_type": "code",
   "execution_count": 32,
   "metadata": {},
   "outputs": [],
   "source": [
    "control_df = df2.query('group==\"control\"')\n",
    "treatment_df = df2.query('group==\"treatment\"')\n",
    "\n",
    "control_df_sample = control_df.sample(25000)\n",
    "treatment_df_sample = control_df.sample(25000)\n",
    "\n",
    "\n",
    "control_df_sample_mean = control_df_sample.converted.mean()\n",
    "treatment_df_sample_mean = control_df_sample.converted.mean()"
   ]
  },
  {
   "cell_type": "code",
   "execution_count": 33,
   "metadata": {},
   "outputs": [
    {
     "data": {
      "text/plain": [
       "(0.12, 0.12)"
      ]
     },
     "execution_count": 33,
     "metadata": {},
     "output_type": "execute_result"
    }
   ],
   "source": [
    "control_df_sample_mean, treatment_df_sample_mean"
   ]
  },
  {
   "cell_type": "code",
   "execution_count": 34,
   "metadata": {},
   "outputs": [],
   "source": [
    "diffs = []\n",
    "\n",
    "df22 = df2[['group','converted']]\n",
    "size = df22.shape[0]\n",
    "\n",
    "for _ in range(10000):\n",
    "    b_samp = df22.sample(60000, replace=True)\n",
    "    control_df = b_samp.query('group == \"control\"')\n",
    "    treatment_df = b_samp.query('group == \"treatment\"')\n",
    "    control_ctr = control_df.converted.mean()\n",
    "    treatment_ctr = treatment_df.converted.mean()\n",
    "    diffs.append(treatment_ctr - control_ctr) "
   ]
  },
  {
   "cell_type": "code",
   "execution_count": 35,
   "metadata": {},
   "outputs": [
    {
     "data": {
      "image/png": "[encoded data removed]",
      "text/plain": [
       "<matplotlib.figure.Figure at 0x7ff7854ff6d8>"
      ]
     },
     "metadata": {
      "needs_background": "light"
     },
     "output_type": "display_data"
    }
   ],
   "source": [
    "plt.hist(diffs)\n",
    "plt.show()"
   ]
  },
  {
   "cell_type": "markdown",
   "metadata": {},
   "source": [
    "**b.** What is the **conversion rate** for $p_{old}$ under the null hypothesis? "
   ]
  },
  {
   "cell_type": "code",
   "execution_count": 42,
   "metadata": {},
   "outputs": [],
   "source": [
    "p_old = df2['converted'].mean()\n"
   ]
  },
  {
   "cell_type": "code",
   "execution_count": 43,
   "metadata": {},
   "outputs": [
    {
     "data": {
      "text/plain": [
       "0.11959708724499628"
      ]
     },
     "execution_count": 43,
     "metadata": {},
     "output_type": "execute_result"
    }
   ],
   "source": [
    "p_old"
   ]
  },
  {
   "cell_type": "markdown",
   "metadata": {},
   "source": [
    "**c.** What is $n_{new}$, the number of individuals in the treatment group? <br><br>\n"
   ]
  },
  {
   "cell_type": "code",
   "execution_count": 44,
   "metadata": {},
   "outputs": [
    {
     "data": {
      "text/plain": [
       "treatment    145310\n",
       "control      145274\n",
       "Name: group, dtype: int64"
      ]
     },
     "execution_count": 44,
     "metadata": {},
     "output_type": "execute_result"
    }
   ],
   "source": [
    "df2.group.value_counts()"
   ]
  },
  {
   "cell_type": "code",
   "execution_count": 45,
   "metadata": {},
   "outputs": [],
   "source": [
    "n_new=145310\n",
    "n_old =145274"
   ]
  },
  {
   "cell_type": "markdown",
   "metadata": {},
   "source": [
    "Finding:- n_new = 145310"
   ]
  },
  {
   "cell_type": "markdown",
   "metadata": {},
   "source": [
    "**d.** What is $n_{old}$, the number of individuals in the control group?"
   ]
  },
  {
   "cell_type": "markdown",
   "metadata": {
    "collapsed": true
   },
   "source": [
    "Finding:- n_old = 145274"
   ]
  },
  {
   "cell_type": "code",
   "execution_count": 40,
   "metadata": {},
   "outputs": [
    {
     "data": {
      "text/plain": [
       "0.0"
      ]
     },
     "execution_count": 40,
     "metadata": {},
     "output_type": "execute_result"
    }
   ],
   "source": [
    "p_new- p_old"
   ]
  },
  {
   "cell_type": "markdown",
   "metadata": {},
   "source": [
    "**e. Simulate Sample for the `treatment` Group**<br> \n",
    "Simulate $n_{new}$ transactions with a conversion rate of $p_{new}$ under the null hypothesis.  <br><br>\n"
   ]
  },
  {
   "cell_type": "code",
   "execution_count": 49,
   "metadata": {},
   "outputs": [
    {
     "data": {
      "text/plain": [
       "array([[1],\n",
       "       [1],\n",
       "       [1],\n",
       "       ..., \n",
       "       [1],\n",
       "       [1],\n",
       "       [0]])"
      ]
     },
     "execution_count": 49,
     "metadata": {},
     "output_type": "execute_result"
    }
   ],
   "source": [
    "new_page_converted = np.random.choice([0,1],size = (n_new, 1), p=(p_new,1-p_new))\n",
    "new_page_converted"
   ]
  },
  {
   "cell_type": "markdown",
   "metadata": {},
   "source": [
    "**f. Simulate Sample for the `control` Group** <br>\n",
    "Simulate $n_{old}$ transactions with a conversion rate of $p_{old}$ under the null hypothesis. <br> Store these $n_{old}$ 1's and 0's in the `old_page_converted` numpy array."
   ]
  },
  {
   "cell_type": "code",
   "execution_count": 50,
   "metadata": {},
   "outputs": [
    {
     "data": {
      "text/plain": [
       "array([1, 1, 1, ..., 1, 1, 1])"
      ]
     },
     "execution_count": 50,
     "metadata": {},
     "output_type": "execute_result"
    }
   ],
   "source": [
    "old_page_converted = np.random.choice([0,1],n_new, p=(p_old,1-p_old))\n",
    "old_page_converted"
   ]
  },
  {
   "cell_type": "markdown",
   "metadata": {},
   "source": [
    "**g.** Find the difference in the \"converted\" probability $(p{'}_{new}$ - $p{'}_{old})$ for your simulated samples from the parts (e) and (f) above. "
   ]
  },
  {
   "cell_type": "code",
   "execution_count": 53,
   "metadata": {},
   "outputs": [
    {
     "name": "stdout",
     "output_type": "stream",
     "text": [
      "The output for p_new - p_old is 0.00097722111348153,  the value is really 0.\n"
     ]
    }
   ],
   "source": [
    "obs_diff = new_page_converted.mean()-old_page_converted.mean()\n",
    "obs_diff\n",
    "print('The output for p_new - p_old is {},  the value is really 0.'.format(obs_diff))"
   ]
  },
  {
   "cell_type": "markdown",
   "metadata": {},
   "source": [
    "\n",
    "**h. Sampling distribution** <br>\n",
    "Re-create `new_page_converted` and `old_page_converted` and find the $(p{'}_{new}$ - $p{'}_{old})$ value 10,000 times using the same simulation process you used in parts (a) through (g) above. \n",
    "\n",
    "<br>\n",
    "Store all  $(p{'}_{new}$ - $p{'}_{old})$  values in a NumPy array called `p_diffs`."
   ]
  },
  {
   "cell_type": "code",
   "execution_count": 48,
   "metadata": {},
   "outputs": [],
   "source": [
    "# Sampling distribution \n",
    "p_diffs=[]\n",
    "for _ in range(10000):\n",
    "    new_page_converted  = np.random.choice([0,1], n_new, p=[1-p_new,p_new]).mean()\n",
    "    old_page_converted  = np.random.choice([0,1], n_old, p=[1-p_old,p_old]).mean()\n",
    "    p_diffs.append(new_page_converted-old_page_converted)"
   ]
  },
  {
   "cell_type": "code",
   "execution_count": 39,
   "metadata": {},
   "outputs": [
    {
     "data": {
      "text/plain": [
       "[-0.0084747288983052643,\n",
       " -0.0059894695348280541,\n",
       " -0.0016043294040568867,\n",
       " -0.0010542052628475101,\n",
       " -0.00052861165002310306,\n",
       " -0.0031569234298411963,\n",
       " -0.0033130476155134037,\n",
       " 0.0013882723204505509,\n",
       " -0.0012368574390035914,\n",
       " -0.0055734417575123013,\n",
       " -0.0029417597408600143,\n",
       " -0.00017862253977340981,\n",
       " 0.0028343749837773657,\n",
       " -0.0016733160315210022,\n",
       " -0.0021058774608531533,\n",
       " -0.0018004826705834559,\n",
       " -0.0045395369091009025,\n",
       " -0.0028080355586755923,\n",
       " 0.0018776505245311215,\n",
       " 0.00074435349543698626,\n",
       " -0.0051392152834928428,\n",
       " -0.0017963284923015188,\n",
       " -0.0020728508855169525,\n",
       " -0.0029606527968508989,\n",
       " -0.0032380699047365735,\n",
       " -0.0018792784548090219,\n",
       " -0.0016306231960214745,\n",
       " 0.00082736792562534966,\n",
       " -0.0036651886172656828,\n",
       " -0.0045777798123465829,\n",
       " -0.0032321874412287177,\n",
       " -0.0023401342487016363,\n",
       " -0.0034422688697187398,\n",
       " -0.00074428833861837906,\n",
       " 0.003889265472163006,\n",
       " -0.00096940320986904638,\n",
       " -0.005374647783749617,\n",
       " -0.0010223425344161458,\n",
       " -0.0042353024711137832,\n",
       " -0.00077738472995420027,\n",
       " -0.0011278150053787434,\n",
       " -0.0010915422656238988,\n",
       " -0.0025136626614536972,\n",
       " 0.00070423579356256039,\n",
       " 0.0027016339548533025,\n",
       " -0.0045714167029698438,\n",
       " -0.00046110757043750505,\n",
       " -0.002153252712607745,\n",
       " -0.0035235070833830734,\n",
       " -0.0032091152330413486,\n",
       " -0.0038161348898169828,\n",
       " -0.0040768498428664368,\n",
       " -0.0017252162908366342,\n",
       " 0.0008445557394810288,\n",
       " -0.00067525641736933262,\n",
       " -0.0024530559601793761,\n",
       " -0.0032995268129531879,\n",
       " -0.0011464404127185523,\n",
       " -0.0020232222698185753,\n",
       " -0.0058287209603975904,\n",
       " -0.0046758506849673975,\n",
       " -0.0054588044505097938,\n",
       " -0.00025693457689668353,\n",
       " 0.0013737559532569082,\n",
       " 0.00046500624298526083,\n",
       " 0.001878386142512567,\n",
       " -0.0049957103933724184,\n",
       " 0.0018628112578450706,\n",
       " -0.0014163647847067473,\n",
       " 0.0026713392745999626,\n",
       " -0.0047446521463094943,\n",
       " -0.0018376508287512305,\n",
       " -0.0018528099446170898,\n",
       " -0.0067189829461033329,\n",
       " 0.00015517343264431771,\n",
       " -0.00039922844767394106,\n",
       " 0.00018178112128953983,\n",
       " -0.0022052628494969861,\n",
       " -0.0015340846835758676,\n",
       " -0.00012224315661249485,\n",
       " -0.0053684551291430238,\n",
       " 0.00022322046039166543,\n",
       " -0.0068857597645924501,\n",
       " -0.0010641136750320634,\n",
       " 0.00041196448629325644,\n",
       " 0.00045999562628566693,\n",
       " -0.0014101222989955364,\n",
       " -0.0010096140717765767,\n",
       " 0.0001775824242715579,\n",
       " -0.0012109389972402157,\n",
       " 0.00036052555033699862,\n",
       " -0.0014258957596668398,\n",
       " -0.0023815247400852807,\n",
       " -0.0002276622869794992,\n",
       " 0.001348640675932572,\n",
       " -0.0035518677262575821,\n",
       " 0.0025155178817772295,\n",
       " -0.0048246418383056794,\n",
       " -0.0028462174318864275,\n",
       " -0.00010247304485305753,\n",
       " -0.0012317600218979541,\n",
       " -0.006918057003131306,\n",
       " -0.00082469826885608888,\n",
       " 0.0018613418213925537,\n",
       " -0.001537667316465291,\n",
       " -0.0029286549943807749,\n",
       " -0.00023942976967647467,\n",
       " 0.0017483751608258907,\n",
       " -0.0061887089811726165,\n",
       " -0.0045309572343996685,\n",
       " -0.0048468144034866101,\n",
       " -0.00095561221866657942,\n",
       " -0.00027201740911417249,\n",
       " 0.0019170478587426931,\n",
       " -0.0048401768653273808,\n",
       " 0.0017860764808845242,\n",
       " -0.0013468078399287986,\n",
       " -0.0020197446688605125,\n",
       " -0.0027423441041824065,\n",
       " -0.0056526534023379899,\n",
       " 0.00098298943996071031,\n",
       " 0.0009221894373336037,\n",
       " -0.0012440968815483761,\n",
       " -0.0029047465365321379,\n",
       " -0.0037624113225523947,\n",
       " 0.0016929047351931098,\n",
       " 0.00013693099822698063,\n",
       " -0.0013319679614209462,\n",
       " 0.0049899086691221201,\n",
       " 0.00047987673118342344,\n",
       " -0.0056667847108386182,\n",
       " -0.0049931014466020468,\n",
       " -0.0025348318743379367,\n",
       " -0.0025321708954319233,\n",
       " -0.002429502801537628,\n",
       " -0.0018913862118397767,\n",
       " -0.0042895902335443603,\n",
       " -0.0013498435957254168,\n",
       " -0.0024646776851758728,\n",
       " -0.0036811675869585642,\n",
       " -0.0025004972304148443,\n",
       " -0.004935765983605428,\n",
       " -0.0014543008456787965,\n",
       " 0.00040206117985358558,\n",
       " -0.0023303290546011768,\n",
       " -0.0039111625343746653,\n",
       " -0.00045013784721563421,\n",
       " -0.00077544067549498163,\n",
       " 0.0012451231875153651,\n",
       " -0.0027181742186541402,\n",
       " -0.0048538641891163886,\n",
       " 0.0040459790566354931,\n",
       " -0.0026820256519261426,\n",
       " 0.00014828052344308118,\n",
       " -0.0013915680582347323,\n",
       " -0.0011133169449959041,\n",
       " -0.0022690770526171689,\n",
       " -0.0081915888376332957,\n",
       " -0.0059808732656975033,\n",
       " 0.0047904167145708387,\n",
       " -0.0017550853882903616,\n",
       " -0.00083661126820812337,\n",
       " -0.0026473248462820231,\n",
       " -0.001578581228766418,\n",
       " -0.0020701218033060964,\n",
       " -0.0052092859163660882,\n",
       " 0.0027931352919206842,\n",
       " 0.0030322377981728821,\n",
       " -0.0013671981648032266,\n",
       " -0.0021407480506354243,\n",
       " -0.0021236596277212777,\n",
       " 0.0012946398959811645,\n",
       " -4.59470620156055e-05,\n",
       " -0.0005641662052698615,\n",
       " -0.0028686711890091449,\n",
       " 0.0058644640409151599,\n",
       " -0.00034383336641855,\n",
       " -0.0012969129366982718,\n",
       " -0.00098656670612932984,\n",
       " 0.00089189904921395391,\n",
       " -0.0029249660091801716,\n",
       " -0.0015008153683493675,\n",
       " -0.0055987274160669287,\n",
       " -0.00094807397509492908,\n",
       " 0.0018430660174586777,\n",
       " 1.530240260355642e-05,\n",
       " 0.00010226086001383083,\n",
       " -0.0046704963388482096,\n",
       " -0.0027869754266615365,\n",
       " -0.0021188200847527955,\n",
       " 0.00083475557039565385,\n",
       " -0.0057188352634106043,\n",
       " -0.0017838266745947851,\n",
       " -0.00024351537925472455,\n",
       " 0.0006957657789736782,\n",
       " -0.0032482174787210327,\n",
       " -0.0027987524931547547,\n",
       " 0.00044267472531410446,\n",
       " 0.00095895406062265764,\n",
       " -0.003398103398103397,\n",
       " 0.001368730128001025,\n",
       " -0.0078453597746157011,\n",
       " -0.0065793908774768178,\n",
       " 0.0017869000123684892,\n",
       " -0.0028546320496876942,\n",
       " 0.0035242742295276963,\n",
       " -0.00027042002433780299,\n",
       " -0.0033561114994672264,\n",
       " 0.00086027224611867625,\n",
       " 0.00092077924268989253,\n",
       " -0.0039380994261088154,\n",
       " -0.0036859188331678366,\n",
       " -0.0022745022745022658,\n",
       " -0.0028547281615801112,\n",
       " -0.0039989188017558602,\n",
       " -0.0018586934257073251,\n",
       " -0.0015123890569321147,\n",
       " -0.0040972282909795682,\n",
       " 0.001006352523218873,\n",
       " -0.005141926167438568,\n",
       " -0.0018222719381015134,\n",
       " -0.0001958412568656559,\n",
       " -0.0020569481662822409,\n",
       " -0.0053437202909358827,\n",
       " -0.0047937945776054119,\n",
       " -0.0047934853104526914,\n",
       " 0.00055892015991766686,\n",
       " -0.0029424271309921451,\n",
       " -0.0042884554756816712,\n",
       " 0.00087783380541284206,\n",
       " 0.0011722880518581086,\n",
       " 0.0062632265716851265,\n",
       " 0.0004041365057253915,\n",
       " -0.0034076531455434766,\n",
       " -0.0062979748072385378,\n",
       " -0.0017985203269233335,\n",
       " 0.0026808195291861819,\n",
       " -0.0018113894028724264,\n",
       " -0.0030317065290702133,\n",
       " 0.00018538943844476075,\n",
       " 0.0038187752896082366,\n",
       " -0.0036389290887409581,\n",
       " -0.0042325043792252326,\n",
       " 0.003112079114983124,\n",
       " -0.002378356992700642,\n",
       " -0.004949710895522777,\n",
       " -0.0029055341539374335,\n",
       " 0.0042154966435316854,\n",
       " 0.0012343888864103508,\n",
       " -0.0084813006637320804,\n",
       " -2.8444646717487587e-05,\n",
       " -0.0025132062513859715,\n",
       " -0.0015535549508260277,\n",
       " 0.0034539137901993533,\n",
       " -0.003106031650121896,\n",
       " 0.001449778798396445,\n",
       " -0.00069166132425192706,\n",
       " -0.0038558256865061508,\n",
       " -0.00077975129880325511,\n",
       " -0.003553807996067998,\n",
       " -0.0012348151999073964,\n",
       " -0.0031468132532351117,\n",
       " 0.0017472347485934792,\n",
       " -0.003827754647605236,\n",
       " 0.00046284800062237896,\n",
       " -0.0047560337737427849,\n",
       " -0.0017977540105051648,\n",
       " -0.0072541243405190442,\n",
       " -0.0028160451021634336,\n",
       " -0.0015844719526380696,\n",
       " -0.0032770664314319964,\n",
       " -0.0054044331205719415,\n",
       " -0.0014981348314681703,\n",
       " 0.0003122028098252877,\n",
       " -0.0040643785313943526,\n",
       " -0.0024334638710534207,\n",
       " -0.0023620491711386776,\n",
       " 0.00330566248291983,\n",
       " 0.00031379664896254156,\n",
       " -0.0020654340032099094,\n",
       " -0.001931817812121206,\n",
       " -0.0017944014642758965,\n",
       " 0.00047117776449845383,\n",
       " 0.0021739550177432426,\n",
       " 0.0013894915833434357,\n",
       " 0.003946716408429668,\n",
       " -7.5413419137054793e-05,\n",
       " 0.0016509220667110663,\n",
       " 0.00042119516809084601,\n",
       " -0.0050573423194898715,\n",
       " -0.0041442305659712686,\n",
       " 7.6907627480235496e-05,\n",
       " -0.00023715205062321831,\n",
       " -0.0015408301026925281,\n",
       " 0.0008631787380237177,\n",
       " -0.00094050587816173203,\n",
       " -0.0033301355895562212,\n",
       " -0.0019671453783977055,\n",
       " -0.0038390092928792807,\n",
       " 0.0018857441957478988,\n",
       " 0.00063533679238921004,\n",
       " -0.004368971137759442,\n",
       " -0.00011206197677327001,\n",
       " 0.0023188891407692896,\n",
       " -0.0070737835298273211,\n",
       " 0.00037850851511489481,\n",
       " -0.0015309527796317918,\n",
       " -0.0034247165756282338,\n",
       " -0.0037864833305818468,\n",
       " -0.00026191722978861909,\n",
       " -0.0051183741458830645,\n",
       " -0.0015976749803839341,\n",
       " 0.0027072689272023553,\n",
       " -0.0024336296704426802,\n",
       " -0.00088752711097034309,\n",
       " -0.0049006025446189094,\n",
       " -0.0015085823818977023,\n",
       " -0.00067323963565345257,\n",
       " -0.0025765391633832818,\n",
       " 0.002467139342372443,\n",
       " 1.2133403221731287e-05,\n",
       " 1.6777091704958669e-05,\n",
       " -0.00090255862116865593,\n",
       " 0.0012475453814896342,\n",
       " -0.0013617897261795353,\n",
       " 0.0020128711305801156,\n",
       " 0.00039478674777133904,\n",
       " -0.0021736470426164112,\n",
       " 0.0016534444110222479,\n",
       " -0.0023716690383357164,\n",
       " -0.0014710515330440266,\n",
       " -0.0015853396746920295,\n",
       " -0.0039885295479361593,\n",
       " -0.0012513003128250683,\n",
       " -0.0046991328530406329,\n",
       " -0.0027974658610442904,\n",
       " -0.0052345438765466074,\n",
       " -0.0082729894862760833,\n",
       " 0.00088482209762842656,\n",
       " 0.00012976679643346423,\n",
       " -0.00058649839258959058,\n",
       " -0.0006660728880455713,\n",
       " -0.0048323190807953581,\n",
       " -0.0024288502185965261,\n",
       " -0.0037806499999598342,\n",
       " 0.002787662258006432,\n",
       " -0.0024870435813427599,\n",
       " -0.0028948733114946418,\n",
       " -0.001035896542019854,\n",
       " 0.0028574210933884764,\n",
       " 0.0025593334824348252,\n",
       " -0.0026528293391258895,\n",
       " -0.0015288900513673598,\n",
       " -0.00094979389160107508,\n",
       " -0.0018598978145004524,\n",
       " -0.0013718383716875698,\n",
       " -0.0046387970841584025,\n",
       " -0.001909179522563198,\n",
       " -0.0049658296448726602,\n",
       " -0.00094986030409893729,\n",
       " 0.00093521948908223407,\n",
       " -0.0029694538909307844,\n",
       " -0.0018620563947086,\n",
       " -0.00027369916868869026,\n",
       " 0.0021802742740391484,\n",
       " -0.0023139718731033793,\n",
       " -0.0035551372620939575,\n",
       " -0.0016482391011009984,\n",
       " -0.00583039351650394,\n",
       " -0.00045976275814986478,\n",
       " -0.0005096266717629222,\n",
       " -2.1690182414421666e-05,\n",
       " 0.0025857427061738852,\n",
       " -0.0018408979200866676,\n",
       " -0.00052075973609899684,\n",
       " -0.002650644456225093,\n",
       " 0.0012109269303796355,\n",
       " -0.0021239313096942103,\n",
       " -0.00068221038163697456,\n",
       " 0.00058554053486893631,\n",
       " -0.0013976889882801047,\n",
       " -0.00042546689547330596,\n",
       " -0.0055476013869003443,\n",
       " -0.0030964348445536582,\n",
       " -0.002347281683469149,\n",
       " -0.00024392015610889828,\n",
       " -0.0050560954932587499,\n",
       " -0.0015142134382590405,\n",
       " -3.6423350900927076e-06,\n",
       " -0.00099296765963431677,\n",
       " -0.0021160115205071661,\n",
       " -0.0028210237170320646,\n",
       " -0.0016227989772412826,\n",
       " -0.0025445938436057386,\n",
       " -0.003287853775367014,\n",
       " -0.0032069070772571262,\n",
       " -0.0055928865666170918,\n",
       " -0.0027296363319854466,\n",
       " -0.00058316105038860866,\n",
       " -0.0065728424377913958,\n",
       " 0.0028283214229694181,\n",
       " 0.0023508760701709402,\n",
       " 0.001984974515216939,\n",
       " -0.002063620879158401,\n",
       " -0.0047954295203525149,\n",
       " 0.0012058053501382421,\n",
       " -0.0098704149125997259,\n",
       " -0.002379244120505844,\n",
       " -0.0004550961562551914,\n",
       " -0.0053628466832725402,\n",
       " -0.00014416482904416883,\n",
       " -0.0018396988385161045,\n",
       " -0.0041009214506361191,\n",
       " 0.0018717798299745791,\n",
       " 0.00072242115385781625,\n",
       " -0.0010739466704883655,\n",
       " -0.00039228813886303671,\n",
       " 0.0033507177926698634,\n",
       " -0.0027066440970137939,\n",
       " -0.0040542786607095788,\n",
       " -0.0040134227209395607,\n",
       " -0.0034262034262034224,\n",
       " -0.001447157403420038,\n",
       " -0.0008190954302176312,\n",
       " -0.00080129334757854387,\n",
       " -0.0024476800979072039,\n",
       " -9.2255189354392697e-05,\n",
       " -0.003990303373236373,\n",
       " -0.0013909092079605612,\n",
       " 0.00028857829080584929,\n",
       " -0.0014118931122813483,\n",
       " -0.0036356017814448832,\n",
       " -0.0041542942380463077,\n",
       " 0.00092776069685136797,\n",
       " -0.0024572472705002291,\n",
       " -0.0036403990011083381,\n",
       " 0.001104390278714687,\n",
       " -0.00080820548253948687,\n",
       " -0.0014760279805107052,\n",
       " 0.00045468573862088302,\n",
       " 0.00078808513095415811,\n",
       " -0.0026232816720954538,\n",
       " -0.003471591643965849,\n",
       " 0.00047231397216050686,\n",
       " -2.0065638515823214e-05,\n",
       " 0.00055784035701783585,\n",
       " -0.00039534348223978222,\n",
       " -0.00052655701821394119,\n",
       " -0.00014242419490061164,\n",
       " -0.0003391399543026391,\n",
       " -0.0022857939661236615,\n",
       " -0.00072628382087169818,\n",
       " -0.0015607464592110598,\n",
       " 0.0016128580352124389,\n",
       " -0.0028978154124752326,\n",
       " -0.0011384259096211546,\n",
       " -0.002800043895720597,\n",
       " -0.00028693151786772508,\n",
       " 0.00069055988673905055,\n",
       " 0.0033665841646041139,\n",
       " 0.0024067242543647366,\n",
       " -0.00053132332896625722,\n",
       " 0.0024989537849783722,\n",
       " 0.00090415956603327741,\n",
       " 0.0015589038715235065,\n",
       " -0.0012536444790504503,\n",
       " -0.0022529389033056763,\n",
       " -0.00082885773372186333,\n",
       " -0.0034768061809887646,\n",
       " -4.9567112770682042e-05,\n",
       " 0.0003284704996401322,\n",
       " -0.0031683006388724816,\n",
       " -0.0023242668158948848,\n",
       " 0.0037585354590180253,\n",
       " -0.0031894237877048009,\n",
       " -0.0060509692283882283,\n",
       " 0.00064039129326685929,\n",
       " -0.0007161539453855309,\n",
       " -0.0020944984959221508,\n",
       " -0.0013378524579819445,\n",
       " -0.00029701206907427335,\n",
       " 0.0013842171510656393,\n",
       " -0.0050947166267905353,\n",
       " 0.0023043370851963396,\n",
       " 0.0014999943349836287,\n",
       " -0.00064097880521847561,\n",
       " -0.00034130222260145282,\n",
       " 0.00074016093908739478,\n",
       " -0.0042571433759047705,\n",
       " -0.00045423937391560198,\n",
       " 0.00129378352287772,\n",
       " -0.005417192276774549,\n",
       " -0.0021366223741598189,\n",
       " -0.0023930976812126109,\n",
       " -0.0024364146399440401,\n",
       " -0.0033782400799216433,\n",
       " -0.0044853423648508473,\n",
       " -0.0015779312987326682,\n",
       " -0.0033131101399340446,\n",
       " -0.00094519633334705366,\n",
       " -0.0080506589651893889,\n",
       " 0.00059334788566693664,\n",
       " -0.0023348212688056313,\n",
       " -0.0019666739426853208,\n",
       " -0.0031162974284961037,\n",
       " -0.0010516216565393949,\n",
       " -0.0016860382999325102,\n",
       " 0.0016643557096712169,\n",
       " -0.0050024827544293549,\n",
       " -0.0012373792862251237,\n",
       " -0.00088007391910194244,\n",
       " -0.0018997773965799408,\n",
       " -0.0036207785472544413,\n",
       " -0.0058439544693838497,\n",
       " -0.00016436171831045454,\n",
       " -0.0015847639689997722,\n",
       " -0.0055753501781515974,\n",
       " 0.0022064535319141487,\n",
       " -0.0044478549891944219,\n",
       " -0.0031216035516911517,\n",
       " -0.00053327116654929008,\n",
       " -0.0029679064068782457,\n",
       " 0.0040175658818487198,\n",
       " -0.00042490715011657409,\n",
       " -0.00063469024511010608,\n",
       " -0.0052086534784962363,\n",
       " -0.0027105138463711376,\n",
       " 0.0016312678953366161,\n",
       " -0.0047110175749604105,\n",
       " 0.0038325099853607492,\n",
       " -0.0017231800938175834,\n",
       " -0.004276303504094997,\n",
       " -0.0028026169331390738,\n",
       " -0.00086628490820964132,\n",
       " -0.0017813395403119964,\n",
       " -0.0034540877282812771,\n",
       " -0.0017603002736409634,\n",
       " -0.0021930825175262569,\n",
       " 0.0010833632549047123,\n",
       " 0.0039758747646482517,\n",
       " -0.0015148060619206843,\n",
       " 0.00054524372991961167,\n",
       " -0.0030138042402458598,\n",
       " -0.0008599500238875013,\n",
       " -0.00035953369286702286,\n",
       " 0.0025455696670536043,\n",
       " 0.0008481936984640337,\n",
       " -0.0058088570510018422,\n",
       " -0.0048325739726630262,\n",
       " -0.0023250935869960493,\n",
       " -0.0045746899565866223,\n",
       " 0.0022167468585101019,\n",
       " -0.0015408691118330431,\n",
       " 0.00087568056043554887,\n",
       " -0.0025839050923660012,\n",
       " 0.0032282201556858986,\n",
       " -0.002821402537590556,\n",
       " -0.0017236694298192329,\n",
       " -0.001038256489103051,\n",
       " -0.0034229033277223819,\n",
       " 0.00081548545545155615,\n",
       " -0.0055284274175098486,\n",
       " -0.0030176555689673673,\n",
       " -0.0020204408104212562,\n",
       " -0.0084197166960524872,\n",
       " -0.0013408366109114028,\n",
       " -0.0073328793957676275,\n",
       " 0.004271605582777796,\n",
       " -0.005264502938921542,\n",
       " -0.0022703810695810928,\n",
       " -0.0027731246084073402,\n",
       " -0.0045747011161941104,\n",
       " -0.0015368229361792524,\n",
       " -0.001367954883709957,\n",
       " 0.00070618154460326543,\n",
       " -0.0060591061119185663,\n",
       " -0.0026839493239265155,\n",
       " 0.00073569121206533417,\n",
       " -0.00078342991376302573,\n",
       " 0.0021003002714710117,\n",
       " -0.0010992182319089217,\n",
       " 0.0023149353498992387,\n",
       " -0.0018587817495049064,\n",
       " -0.0010676933590006432,\n",
       " -0.0049239480672563368,\n",
       " 0.00044186236310894689,\n",
       " -7.4994416252707752e-05,\n",
       " -0.0038301971043035454,\n",
       " -0.0059265000157850273,\n",
       " -0.0058353281312601285,\n",
       " -0.00193415061271765,\n",
       " 0.0022176747732039204,\n",
       " -0.002853134403966992,\n",
       " 0.00086881037745233092,\n",
       " -0.0011111344444677679,\n",
       " 0.00019557197627351197,\n",
       " -0.0017387013556906111,\n",
       " -0.0015188057674930255,\n",
       " -0.0053417053929892683,\n",
       " -0.00037497393495818099,\n",
       " -0.0083394855886103764,\n",
       " -0.0043412815628613571,\n",
       " -0.00077019350074332416,\n",
       " -0.0014731500409208287,\n",
       " 0.00027926412220280472,\n",
       " -0.0018881666550682741,\n",
       " -0.0009565810909563377,\n",
       " -0.0031721061592446392,\n",
       " -0.0036880598201513709,\n",
       " 0.00046515007873616787,\n",
       " -0.00075171695767181634,\n",
       " -0.0028123747743529909,\n",
       " 0.0034253441863824202,\n",
       " -0.00027747197855541861,\n",
       " -0.0053180013295003326,\n",
       " 0.0051273158039744776,\n",
       " -0.0018030963670496308,\n",
       " -0.0039882826197971399,\n",
       " -0.00085210076528000056,\n",
       " -0.0045109668865012109,\n",
       " -0.0010404672150620964,\n",
       " -0.002683204770141806,\n",
       " 0.00032807140009319391,\n",
       " -0.0059888423695273196,\n",
       " -0.0023053806669149635,\n",
       " 0.0018054822018379602,\n",
       " 0.0021671129657377802,\n",
       " -0.0016973851537561702,\n",
       " -0.0031250791669833328,\n",
       " -0.0013742997599305168,\n",
       " -0.0036819119686199026,\n",
       " -0.0039340065864214152,\n",
       " -0.00054712336892794033,\n",
       " -0.00019578867154265711,\n",
       " -0.0012637703189628952,\n",
       " -0.0025458961856452966,\n",
       " -0.00024133666693482159,\n",
       " -0.00070951773794344919,\n",
       " 0.00059147921027803696,\n",
       " -0.0054322689597674778,\n",
       " -0.00090879585625169845,\n",
       " -0.0012592360860639307,\n",
       " -0.0020330563528057621,\n",
       " -0.0022325610939549351,\n",
       " -0.0078649056856172211,\n",
       " 2.1300827631881569e-06,\n",
       " -0.0017019099678035887,\n",
       " -0.002135225020151274,\n",
       " -0.0052456095800006569,\n",
       " 0.0048876246818368024,\n",
       " -0.00059667831411940042,\n",
       " -0.0027695485983641882,\n",
       " -0.0040087110240673296,\n",
       " -0.0059949476258582962,\n",
       " -0.0022741953735607168,\n",
       " -0.0014007421085856508,\n",
       " -0.00094321616717389645,\n",
       " -0.0034274334285398222,\n",
       " -0.0043327915853090815,\n",
       " -0.005007294583535965,\n",
       " -0.0036439673389803973,\n",
       " -0.005069894142106679,\n",
       " -0.00067536734203400839,\n",
       " -0.0028353979406075813,\n",
       " -0.0053101752783088207,\n",
       " -0.00020968926166979596,\n",
       " 0.0013154368854457477,\n",
       " 0.00086958680580055681,\n",
       " -0.0009445486238551376,\n",
       " -0.00019329556783009849,\n",
       " 0.0014311519533173334,\n",
       " -0.00047377080067265154,\n",
       " -0.0025539285552976243,\n",
       " -0.0018849167427798658,\n",
       " 0.0049913036403524819,\n",
       " -0.0061498391334354752,\n",
       " -0.0012357994828503943,\n",
       " -0.0034856232092938116,\n",
       " -0.0026219967011424372,\n",
       " -0.0023615009845965179,\n",
       " -0.0018136316676184983,\n",
       " -0.0022862401214533284,\n",
       " -0.0046432845473425854,\n",
       " -0.0017321010417994109,\n",
       " 0.002588002407048734,\n",
       " -0.002833475657265383,\n",
       " -0.0015568391098044893,\n",
       " -0.0049354998156660723,\n",
       " -0.0028497708038826008,\n",
       " 0.001955042224403597,\n",
       " -0.0021590457533166435,\n",
       " -0.0010705079619812985,\n",
       " 0.0007243159481138961,\n",
       " 0.0025297738097142947,\n",
       " -0.0037069260124496101,\n",
       " -0.0056188099889955267,\n",
       " -0.001527375575273951,\n",
       " -0.0069680445683207998,\n",
       " 0.00046096442986817698,\n",
       " -0.0003165004659378412,\n",
       " -0.0016439536881755201,\n",
       " -0.0039878975401191757,\n",
       " -0.0026703308068892345,\n",
       " -0.0018234678770554791,\n",
       " -0.0025613530534366463,\n",
       " -0.0027099082675004077,\n",
       " -0.0025404042348629308,\n",
       " -0.0025688411014576223,\n",
       " -0.0007296368036762424,\n",
       " 0.0028436136461583855,\n",
       " -0.0021903455406207806,\n",
       " -0.00083169502201042855,\n",
       " -0.00029538027601645755,\n",
       " -0.0019052594943615719,\n",
       " -0.0011117367025529762,\n",
       " -0.00075065954922352851,\n",
       " -0.0040649339609939994,\n",
       " -0.00037169003345211005,\n",
       " -0.0054068501501902816,\n",
       " -0.0047450388111417857,\n",
       " -0.0021907492606609152,\n",
       " -0.0029752899929402221,\n",
       " 0.00059361822365101846,\n",
       " 0.00035687095205240438,\n",
       " -0.0080976341200873631,\n",
       " 0.0010019866844797609,\n",
       " -0.0024117739644713421,\n",
       " 0.0037497695994101743,\n",
       " -0.00076957845419266258,\n",
       " 0.0039457281062791894,\n",
       " -0.0032344920250841486,\n",
       " -0.0029380968892130793,\n",
       " 0.003174615506699216,\n",
       " -0.0017574429700786265,\n",
       " -0.0030326657486821063,\n",
       " -0.0034616538910563904,\n",
       " -0.0029109636653572024,\n",
       " 0.00052190293464540738,\n",
       " -0.0017339027313468952,\n",
       " -0.0015226761390396554,\n",
       " -0.0006720528695577932,\n",
       " 0.00092983397905137266,\n",
       " -0.0012165629372908882,\n",
       " -0.0049144380819365618,\n",
       " -0.0025566643207626943,\n",
       " -0.0034386017731903445,\n",
       " -0.0028702127359714336,\n",
       " -0.002876254368784914,\n",
       " -0.0027665946889647436,\n",
       " -0.00049320434659426426,\n",
       " -0.0043481072996296999,\n",
       " 0.0017461329106104179,\n",
       " 0.00073836539283377023,\n",
       " -0.0056389058861216479,\n",
       " -0.0033025868990134016,\n",
       " -0.00046650402528145007,\n",
       " 0.0009382801501248289,\n",
       " -0.00080505840913004667,\n",
       " -0.0041127510281877555,\n",
       " -0.0015800549096104954,\n",
       " -0.0021685292837008985,\n",
       " 0.0004413965165558642,\n",
       " -0.0013422816644285546,\n",
       " 0.0013895484979009887,\n",
       " 0.00087226373903030729,\n",
       " -0.002063031798735529,\n",
       " -0.0058256765120599657,\n",
       " 0.001591138735047487,\n",
       " -0.0049204153375708021,\n",
       " -0.00078578950336677389,\n",
       " -0.00022495631165871111,\n",
       " -0.0054796466169990815,\n",
       " -0.00092027966844122899,\n",
       " -0.0025668727016695952,\n",
       " -0.0029250843438089619,\n",
       " -0.0026847330247788959,\n",
       " -0.0027364037870872826,\n",
       " -0.0034557357437011577,\n",
       " -0.0017724093930408941,\n",
       " 0.006681379894053166,\n",
       " -0.0027999999999999969,\n",
       " 2.148908661236959e-06,\n",
       " -0.00030360256543550401,\n",
       " -0.0049669043637828314,\n",
       " -0.00042376762014381675,\n",
       " 0.00061058032835652198,\n",
       " 0.0058711188901575256,\n",
       " -0.00031550003505555202,\n",
       " -0.0043452568529913915,\n",
       " -0.00014828174539704975,\n",
       " -0.00070875132378997452,\n",
       " -0.0011727256469533098,\n",
       " 0.00026814667143372495,\n",
       " 0.0017634234906526297,\n",
       " -0.0015297878825328987,\n",
       " -0.0013970007772340226,\n",
       " -0.0025239309216428252,\n",
       " 0.0019233373044964253,\n",
       " 0.0017362430913845511,\n",
       " -0.0020999999999999908,\n",
       " -0.00094819337126106351,\n",
       " -0.00087477358215781731,\n",
       " -0.002631607102926356,\n",
       " 0.0044001411637733939,\n",
       " -0.0018842198987928938,\n",
       " -0.003700508670216443,\n",
       " -0.0013750917278950447,\n",
       " -0.0039628158887096282,\n",
       " -0.0057003655267048592,\n",
       " -0.0034118085947224958,\n",
       " -0.0010930601337389295,\n",
       " -0.0063495682540587323,\n",
       " -0.0041318622956775519,\n",
       " -0.0012645947795520418,\n",
       " 0.0014970246641189539,\n",
       " 0.00088557463683840154,\n",
       " -0.0032145038069005816,\n",
       " -0.0012029572309147502,\n",
       " 0.0010451390235346747,\n",
       " -0.0052417287291437881,\n",
       " -0.0030226142449707588,\n",
       " -0.00067348880499200348,\n",
       " 0.0004173510112307488,\n",
       " 0.0012332391537236004,\n",
       " -0.0031635011378998296,\n",
       " -0.0049367665930210441,\n",
       " -0.0016127087084089192,\n",
       " 0.0013328209474483682,\n",
       " -0.0023800740935028958,\n",
       " -0.00028515758334281271,\n",
       " -0.0024319443522202167,\n",
       " -0.0015649140906735387,\n",
       " 0.00067376544586014719,\n",
       " -0.00029861753667678737,\n",
       " -0.0005100318722003061,\n",
       " -0.0045184200155388016,\n",
       " -0.0011236087155366559,\n",
       " -0.00536067532032386,\n",
       " -0.002600715192094441,\n",
       " -0.00044604134010642338,\n",
       " -0.0031805430048895689,\n",
       " -0.0020941741456028812,\n",
       " 0.00037495927254656281,\n",
       " -0.0038883778826164922,\n",
       " -0.00080748826503816706,\n",
       " -0.0016177079667943767,\n",
       " 0.00039083412159222897,\n",
       " -0.0028901652697221614,\n",
       " -0.0010608938383090127,\n",
       " 0.0023960668037580485,\n",
       " -0.0011461254198502496,\n",
       " -0.0030836163713738596,\n",
       " -0.0043170902779125636,\n",
       " -0.0021560625404360434,\n",
       " -0.0059855648483075202,\n",
       " 0.00017160519105703653,\n",
       " -0.0023254425552703128,\n",
       " 0.0036486754779437025,\n",
       " 0.0009862250000535755,\n",
       " -0.00079412012705921964,\n",
       " -0.0021573400919795843,\n",
       " -0.0020864907131898786,\n",
       " -0.00035817883547591134,\n",
       " -0.0018418920607129741,\n",
       " -0.0036280232964043257,\n",
       " -0.0047720182671072003,\n",
       " -0.0015441874954685159,\n",
       " -0.0036778624224613893,\n",
       " -0.00099778054939041183,\n",
       " -0.0067492176980092217,\n",
       " -0.00038096558907291245,\n",
       " -0.004993011324221544,\n",
       " 0.0002552689027868621,\n",
       " -0.005853810737186535,\n",
       " -0.00056184239969131466,\n",
       " -0.0010374934993322843,\n",
       " -0.0023845716020014646,\n",
       " -0.002324471557190344,\n",
       " -0.0047213520656295555,\n",
       " -0.0026422237961457595,\n",
       " -0.0023392425846116699,\n",
       " 0.0013862077529065153,\n",
       " -0.0072420554281533989,\n",
       " -0.0010863171564160223,\n",
       " -0.0039049939893787966,\n",
       " -0.0030016948209000971,\n",
       " 0.0011408351320071758,\n",
       " -0.001180590780369653,\n",
       " -0.0024024403040612402,\n",
       " 0.0025009108030702443,\n",
       " -0.0052408789401806322,\n",
       " -0.0016515113052262553,\n",
       " 0.00086375091966327255,\n",
       " 0.0015117684966037687,\n",
       " -0.0017768190281454571,\n",
       " 0.00098371549483398935,\n",
       " -0.0028108185126353852,\n",
       " -0.0062975614108368577,\n",
       " -0.0012241272755465216,\n",
       " 0.00035728000357279632,\n",
       " -0.00033286814347548155,\n",
       " -0.0012547867349828323,\n",
       " 0.00086343419676752908,\n",
       " 0.0025018889728432442,\n",
       " 0.0038429957038059459,\n",
       " 0.00064721484939561646,\n",
       " 0.0025921139416906908,\n",
       " -0.00030722474692691792,\n",
       " -0.0031265102239405179,\n",
       " 0.0027805871180213576,\n",
       " -0.00085900577217011553,\n",
       " -0.0031931465905176704,\n",
       " -0.00090584166862986426,\n",
       " 0.00023802670475094045,\n",
       " -0.002152712107810234,\n",
       " -0.00010880015667223686,\n",
       " 0.001992007968031867,\n",
       " -0.0075887949860042464,\n",
       " -0.0041003058034001227,\n",
       " -0.0057585320915439636,\n",
       " 0.00019475822853515234,\n",
       " 7.3402220417170816e-05,\n",
       " -0.0019372919335929745,\n",
       " 4.00993433926633e-05,\n",
       " -0.0015802451712200044,\n",
       " -0.0019299062528962685,\n",
       " -0.001442451928269417,\n",
       " 0.0012773956251026508,\n",
       " -0.0012499668446791928,\n",
       " -0.0034665949159250198,\n",
       " 0.0012068670615690835,\n",
       " -0.0040231487402732635,\n",
       " -0.0037718467667374744,\n",
       " 0.0020519098920665779,\n",
       " -0.0017976482704041147,\n",
       " -0.0016811087050146167,\n",
       " -0.00061487640178095604,\n",
       " -0.0015441659574297467,\n",
       " -0.00094390244735788331,\n",
       " -0.0091747255657496918,\n",
       " -6.1700272098175191e-06,\n",
       " -0.0021977793040134086,\n",
       " 0.00066221157759463467,\n",
       " -0.00044202462112184759,\n",
       " 8.9834433805141556e-05,\n",
       " -0.0012579709076194073,\n",
       " 0.0014421229834148674,\n",
       " -0.0012395371476721651,\n",
       " -0.001882495235997414,\n",
       " -0.00230252902002058,\n",
       " -0.0035603752087514928,\n",
       " -0.00048640760585363929,\n",
       " -0.0038144685720469113,\n",
       " -0.002202386780257512,\n",
       " 1.3155557017280328e-05,\n",
       " -0.0083700808562003348,\n",
       " -0.003734806256869172,\n",
       " -0.0013540557376008205,\n",
       " -0.0046455177139314019,\n",
       " 0.0011362134141307267,\n",
       " 0.0016061925102832525,\n",
       " -0.0036107418859996632,\n",
       " 0.0014616758021404191,\n",
       " 0.00078507962505475204,\n",
       " -0.0022506756693693453,\n",
       " -0.00066392556993463692,\n",
       " -0.0043121618473499074,\n",
       " -0.00034096123087004604,\n",
       " 0.0020093169900908397,\n",
       " 0.0031395923362074196,\n",
       " -0.0028158874720756732,\n",
       " -0.0014702264215891159,\n",
       " -0.0033729197477380818,\n",
       " -0.0013926965769519017,\n",
       " -0.0036510742639533911,\n",
       " -0.0014135814755626419,\n",
       " -0.0019253209986389158,\n",
       " 0.0020798792129273491,\n",
       " -0.0046768923257063805,\n",
       " -0.0024721953578336481,\n",
       " 0.00084791190701134778,\n",
       " -0.0023057556196043189,\n",
       " -0.0062251458993118486,\n",
       " 0.00012190671055307967,\n",
       " -0.0030735486337377937,\n",
       " -0.0017322336337924626,\n",
       " 0.00068288889192394397,\n",
       " -0.0042536907042876049,\n",
       " -0.00451877403475269,\n",
       " 0.00083783122598865556,\n",
       " -0.0017128695614162248,\n",
       " -0.0025239833585731647,\n",
       " -0.0039198428665467577,\n",
       " 0.0061048867784426475,\n",
       " -0.0042553528892201459,\n",
       " 0.0022095527743064003,\n",
       " -0.0020706304867203068,\n",
       " 0.00053071517255766365,\n",
       " -0.00038895800868220254,\n",
       " 9.6758971263571913e-05,\n",
       " ...]"
      ]
     },
     "execution_count": 39,
     "metadata": {},
     "output_type": "execute_result"
    }
   ],
   "source": [
    "p_diffs #p_diffs consist of  \"converted\" probability  (𝑝′𝑛𝑒𝑤  -  𝑝′𝑜𝑙𝑑)  for your simulated samples"
   ]
  },
  {
   "cell_type": "markdown",
   "metadata": {},
   "source": [
    "**i. Histogram**<br> \n",
    "Plot a histogram of the **p_diffs**.  Does this plot look like what you expected?  Use the matching problem in the classroom to assure you fully understand what was computed here.<br><br>\n",
    "\n",
    "Also, use `plt.axvline()` method to mark the actual difference observed  in the `df2` data (recall `obs_diff`), in the chart.  \n",
    "\n"
   ]
  },
  {
   "cell_type": "code",
   "execution_count": 59,
   "metadata": {},
   "outputs": [
    {
     "data": {
      "image/png": "[encoded data removed]",
      "text/plain": [
       "<matplotlib.figure.Figure at 0x7ff784a6e240>"
      ]
     },
     "metadata": {
      "needs_background": "light"
     },
     "output_type": "display_data"
    }
   ],
   "source": [
    "plt.hist(p_diffs)\n",
    "plt.xlabel('p_diffs')\n",
    "plt.ylabel('Frequency')\n",
    "plt.title('Plot of 10,000 simulated p_diffs')\n",
    "lower, upper = np.percentile(p_diffs, .5), np.percentile(p_diffs, 99.5)\n",
    "plt.axvline(x=lower, color= 'r')\n",
    "plt.axvline(x=upper, color='r')\n",
    "plt.axvline(obs_diff, color='green');"
   ]
  },
  {
   "cell_type": "markdown",
   "metadata": {},
   "source": [
    "**j.** What proportion of the **p_diffs** are greater than the actual difference observed in the `df2` data?"
   ]
  },
  {
   "cell_type": "code",
   "execution_count": 55,
   "metadata": {},
   "outputs": [],
   "source": [
    "#Calculated the number of users with all new_page users and all old_page users who had a converted status\n",
    "\n",
    "convertNew = df2.query('converted == 1 and landing_page == \"new_page\"')['user_id'].nunique()\n",
    "\n",
    "convertOld = df2.query('converted == 1 and landing_page == \"old_page\"')['user_id'].nunique()"
   ]
  },
  {
   "cell_type": "code",
   "execution_count": 57,
   "metadata": {},
   "outputs": [],
   "source": [
    "# Actual converted rate\n",
    "\n",
    "convert_new_actual = float(convertNew)/ float(n_new) \n",
    "convert_old_actual = float(convertOld)/ float(n_old)"
   ]
  },
  {
   "cell_type": "code",
   "execution_count": 58,
   "metadata": {},
   "outputs": [
    {
     "name": "stdout",
     "output_type": "stream",
     "text": [
      "The proportion of new_page users who converted was 0.11880806551510564.\n",
      "The proportion of old_page users who converted was 0.1203863045004612.\n"
     ]
    }
   ],
   "source": [
    "print('The proportion of new_page users who converted was {}.'.format(convert_new_actual))\n",
    "print('The proportion of old_page users who converted was {}.'.format(convert_old_actual))"
   ]
  },
  {
   "cell_type": "markdown",
   "metadata": {},
   "source": [
    "**k.** Please explain in words what you have just computed in part **j** above.  \n",
    " - What is this value called in scientific studies?  \n",
    " - What does this value signify in terms of whether or not there is a difference between the new and old pages? "
   ]
  },
  {
   "cell_type": "markdown",
   "metadata": {},
   "source": [
    ">**Answer:**<br>\n",
    "We are calculating in part j. are p-values. A p-value is the probability of observing our statistic: whether or not the null hypothesis is true. In our case, the p-value is the probability of p_new being less than or equal to p_old. The value that we are observing above lets us know that there is no real advantage to converting to the new page. Thus, we are able to conclude that ths null hypothesis i true: as the old and new pages perform in such a way that there appears to be no statistically significant difference between the conversion rates of the old and new landing pages."
   ]
  },
  {
   "cell_type": "markdown",
   "metadata": {},
   "source": [
    "\n",
    "\n",
    "**l. Using Built-in Methods for Hypothesis Testing**<br>\n",
    "We could also use a built-in to achieve similar results.  Though using the built-in might be easier to code, the above portions are a walkthrough of the ideas that are critical to correctly thinking about statistical significance. \n",
    "\n",
    "Fill in the statements below to calculate the:\n",
    "- `convert_old`: number of conversions with the old_page\n",
    "- `convert_new`: number of conversions with the new_page\n",
    "- `n_old`: number of individuals who were shown the old_page\n",
    "- `n_new`: number of individuals who were shown the new_page\n"
   ]
  },
  {
   "cell_type": "code",
   "execution_count": 60,
   "metadata": {},
   "outputs": [
    {
     "name": "stderr",
     "output_type": "stream",
     "text": [
      "/opt/conda/lib/python3.6/site-packages/statsmodels/compat/pandas.py:56: FutureWarning: The pandas.core.datetools module is deprecated and will be removed in a future version. Please use the pandas.tseries module instead.\n",
      "  from pandas.core import datetools\n"
     ]
    }
   ],
   "source": [
    "import statsmodels.api as sm\n",
    "\n",
    "# number of conversions with the old_page\n",
    "convert_old = sum(df2.query(\"group == 'control'\")['converted'])\n",
    "\n",
    "# number of conversions with the new_page\n",
    "convert_new = sum(df2.query(\"group == 'treatment'\")['converted'])\n",
    "\n",
    "# number of individuals who were shown the old_page\n",
    "n_old = len(df2.query(\"group == 'control'\"))\n",
    "# number of individuals who received new_page\n",
    "n_new = len(df2.query(\"group == 'treatment'\"))\n"
   ]
  },
  {
   "cell_type": "markdown",
   "metadata": {},
   "source": [
    "**m.** Now use `sm.stats.proportions_ztest()` to compute your test statistic and p-value.  [Here](https://www.statsmodels.org/stable/generated/statsmodels.stats.proportion.proportions_ztest.html) is a helpful link on using the built in.\n",
    "\n",
    "The syntax is: \n",
    "```bash\n",
    "proportions_ztest(count_array, nobs_array, alternative='larger')\n",
    "```\n",
    "where, \n",
    "- `count_array` = represents the number of \"converted\" for each group\n",
    "- `nobs_array` = represents the total number of observations (rows) in each group\n",
    "- `alternative` = choose one of the values from `[‘two-sided’, ‘smaller’, ‘larger’]` depending upon two-tailed, left-tailed, or right-tailed respectively. \n",
    "\n",
    "\n",
    "The built-in function above will return the z_score, p_value. \n",
    "\n",
    "---\n",
    "### About the two-sample z-test\n",
    "Recall that you have plotted a distribution `p_diffs` representing the\n",
    "difference in the \"converted\" probability  $(p{'}_{new}-p{'}_{old})$  for your two simulated samples 10,000 times. \n",
    "\n",
    "Another way for comparing the mean of two independent and normal distribution is a **two-sample z-test**. You can perform the Z-test to calculate the Z_score, as shown in the equation below:\n",
    "\n",
    "$$\n",
    "Z_{score} = \\frac{ (p{'}_{new}-p{'}_{old}) - (p_{new}  -  p_{old})}{ \\sqrt{ \\frac{\\sigma^{2}_{new} }{n_{new}} + \\frac{\\sigma^{2}_{old} }{n_{old}}  } }\n",
    "$$\n",
    "\n",
    "where,\n",
    "- $p{'}$ is the \"converted\" success rate in the sample\n",
    "- $p_{new}$ and $p_{old}$ are the \"converted\" success rate for the two groups in the population. \n",
    "- $\\sigma_{new}$ and $\\sigma_{new}$ are the standard deviation for the two groups in the population. \n",
    "- $n_{new}$ and $n_{old}$ represent the size of the two groups or samples (it's same in our case)\n",
    "\n",
    "\n",
    ">Z-test is performed when the sample size is large, and the population variance is known. The z-score represents the distance between the two \"converted\" success rates in terms of the standard error. \n",
    "\n",
    "Next step is to make a decision to reject or fail to reject the null hypothesis based on comparing these two values: \n",
    "- $Z_{score}$\n",
    "- $Z_{\\alpha}$ or $Z_{0.05}$, also known as critical value at 95% confidence interval.  $Z_{0.05}$ is 1.645 for one-tailed tests,  and 1.960 for two-tailed test. You can determine the $Z_{\\alpha}$ from the z-table manually. \n",
    "\n",
    "Decide if your hypothesis is either a two-tailed, left-tailed, or right-tailed test. Accordingly, reject OR fail to reject the  null based on the comparison between $Z_{score}$ and $Z_{\\alpha}$. \n",
    "\n",
    "\n",
    "\n",
    "In other words, we determine whether or not the $Z_{score}$ lies in the \"rejection region\" in the distribution. A \"rejection region\" is an interval where the null hypothesis is rejected iff the $Z_{score}$ lies in that region.\n",
    "\n",
    "\n",
    "\n",
    "Reference: \n",
    "- Example 9.1.2 on this [page](https://stats.libretexts.org/Bookshelves/Introductory_Statistics/Book%3A_Introductory_Statistics_(Shafer_and_Zhang)/09%3A_Two-Sample_Problems/9.01%3A_Comparison_of_Two_Population_Means-_Large_Independent_Samples), courtesy www.stats.libretexts.org\n",
    "\n",
    "---\n",
    "\n"
   ]
  },
  {
   "cell_type": "code",
   "execution_count": 62,
   "metadata": {},
   "outputs": [
    {
     "name": "stdout",
     "output_type": "stream",
     "text": [
      "1.31092419842 0.905058312759\n"
     ]
    }
   ],
   "source": [
    "import statsmodels.api as sm\n",
    "# ToDo: Complete the sm.stats.proportions_ztest() method arguments\n",
    "z_score, p_value = sm.stats.proportions_ztest([convert_old, convert_new], [n_old, n_new], alternative='smaller')\n",
    "print(z_score, p_value)"
   ]
  },
  {
   "cell_type": "markdown",
   "metadata": {},
   "source": [
    "**n.** What do the z-score and p-value you computed in the previous question mean for the conversion rates of the old and new pages?  Do they agree with the findings in parts **j.** and **k.**?<br><br>\n",
    "\n"
   ]
  },
  {
   "cell_type": "code",
   "execution_count": 63,
   "metadata": {},
   "outputs": [
    {
     "name": "stdout",
     "output_type": "stream",
     "text": [
      "0.905058312759\n",
      "1.64485362695\n"
     ]
    }
   ],
   "source": [
    "from scipy.stats import norm\n",
    "\n",
    "print(norm.cdf(z_score))\n",
    "# Tells us how significant our z-score is\n",
    "\n",
    "# for our single-sides test, assumed at 95% confidence level, we calculate: \n",
    "print(norm.ppf(1-(0.05)))\n",
    "# Tells us what our critical value at 95% confidence is \n",
    "# Here, we take the 95% values as specified in PartII.1"
   ]
  },
  {
   "cell_type": "markdown",
   "metadata": {},
   "source": [
    ">**Answer**\n",
    "This model returned a z-score of 1.31092, which is less than the critical value of 1.64485. Thus, we are unable to reject the null hypothesis. Again, there is no discernible statistical difference in the performance of the old landing page and the new landing page. The observation in this section is in agreement with the findings from both parts j and k."
   ]
  },
  {
   "cell_type": "markdown",
   "metadata": {},
   "source": [
    "<a id='regression'></a>\n",
    "### Part III - A regression approach\n",
    "\n",
    "### ToDo 3.1 \n",
    "In this final part, you will see that the result you achieved in the A/B test in Part II above can also be achieved by performing regression.<br><br> \n",
    "\n",
    "**a.** Since each row in the `df2` data is either a conversion or no conversion, what type of regression should you be performing in this case?"
   ]
  },
  {
   "cell_type": "markdown",
   "metadata": {},
   "source": [
    "We should be performing a logistic regression in this case, since conversion is binary in nature and will likely lead to a logarithmic function (Sigmoid function)"
   ]
  },
  {
   "cell_type": "markdown",
   "metadata": {},
   "source": [
    "**b.** The goal is to use **statsmodels** library to fit the regression model you specified in part **a.** above to see if there is a significant difference in conversion based on the page-type a customer receives. However, you first need to create the following two columns in the `df2` dataframe:\n",
    " 1. `intercept` - It should be `1` in the entire column. \n",
    " 2. `ab_page` - It's a dummy variable column, having a value `1` when an individual receives the **treatment**, otherwise `0`.  "
   ]
  },
  {
   "cell_type": "code",
   "execution_count": 66,
   "metadata": {
    "scrolled": true
   },
   "outputs": [
    {
     "name": "stderr",
     "output_type": "stream",
     "text": [
      "/opt/conda/lib/python3.6/site-packages/ipykernel_launcher.py:1: SettingWithCopyWarning: \n",
      "A value is trying to be set on a copy of a slice from a DataFrame.\n",
      "Try using .loc[row_indexer,col_indexer] = value instead\n",
      "\n",
      "See the caveats in the documentation: http://pandas.pydata.org/pandas-docs/stable/indexing.html#indexing-view-versus-copy\n",
      "  \"\"\"Entry point for launching an IPython kernel.\n"
     ]
    }
   ],
   "source": [
    "df2['intercepts']=1"
   ]
  },
  {
   "cell_type": "code",
   "execution_count": 71,
   "metadata": {},
   "outputs": [
    {
     "name": "stderr",
     "output_type": "stream",
     "text": [
      "/opt/conda/lib/python3.6/site-packages/pandas/core/frame.py:3140: SettingWithCopyWarning: \n",
      "A value is trying to be set on a copy of a slice from a DataFrame.\n",
      "Try using .loc[row_indexer,col_indexer] = value instead\n",
      "\n",
      "See the caveats in the documentation: http://pandas.pydata.org/pandas-docs/stable/indexing.html#indexing-view-versus-copy\n",
      "  self[k1] = value[k2]\n"
     ]
    },
    {
     "data": {
      "text/html": [
       "<div>\n",
       "<style scoped>\n",
       "    .dataframe tbody tr th:only-of-type {\n",
       "        vertical-align: middle;\n",
       "    }\n",
       "\n",
       "    .dataframe tbody tr th {\n",
       "        vertical-align: top;\n",
       "    }\n",
       "\n",
       "    .dataframe thead th {\n",
       "        text-align: right;\n",
       "    }\n",
       "</style>\n",
       "<table border=\"1\" class=\"dataframe\">\n",
       "  <thead>\n",
       "    <tr style=\"text-align: right;\">\n",
       "      <th></th>\n",
       "      <th>user_id</th>\n",
       "      <th>timestamp</th>\n",
       "      <th>group</th>\n",
       "      <th>landing_page</th>\n",
       "      <th>converted</th>\n",
       "      <th>intercepts</th>\n",
       "      <th>control</th>\n",
       "      <th>treatment</th>\n",
       "      <th>old_page</th>\n",
       "      <th>new_page</th>\n",
       "      <th>ab_page</th>\n",
       "    </tr>\n",
       "  </thead>\n",
       "  <tbody>\n",
       "    <tr>\n",
       "      <th>0</th>\n",
       "      <td>851104</td>\n",
       "      <td>2017-01-21 22:11:48.556739</td>\n",
       "      <td>control</td>\n",
       "      <td>old_page</td>\n",
       "      <td>0</td>\n",
       "      <td>1</td>\n",
       "      <td>1</td>\n",
       "      <td>0</td>\n",
       "      <td>1</td>\n",
       "      <td>1</td>\n",
       "      <td>0</td>\n",
       "    </tr>\n",
       "    <tr>\n",
       "      <th>1</th>\n",
       "      <td>804228</td>\n",
       "      <td>2017-01-12 08:01:45.159739</td>\n",
       "      <td>control</td>\n",
       "      <td>old_page</td>\n",
       "      <td>0</td>\n",
       "      <td>1</td>\n",
       "      <td>1</td>\n",
       "      <td>0</td>\n",
       "      <td>1</td>\n",
       "      <td>1</td>\n",
       "      <td>0</td>\n",
       "    </tr>\n",
       "    <tr>\n",
       "      <th>2</th>\n",
       "      <td>661590</td>\n",
       "      <td>2017-01-11 16:55:06.154213</td>\n",
       "      <td>treatment</td>\n",
       "      <td>new_page</td>\n",
       "      <td>0</td>\n",
       "      <td>1</td>\n",
       "      <td>0</td>\n",
       "      <td>1</td>\n",
       "      <td>0</td>\n",
       "      <td>0</td>\n",
       "      <td>1</td>\n",
       "    </tr>\n",
       "    <tr>\n",
       "      <th>3</th>\n",
       "      <td>853541</td>\n",
       "      <td>2017-01-08 18:28:03.143765</td>\n",
       "      <td>treatment</td>\n",
       "      <td>new_page</td>\n",
       "      <td>0</td>\n",
       "      <td>1</td>\n",
       "      <td>0</td>\n",
       "      <td>1</td>\n",
       "      <td>0</td>\n",
       "      <td>0</td>\n",
       "      <td>1</td>\n",
       "    </tr>\n",
       "    <tr>\n",
       "      <th>4</th>\n",
       "      <td>864975</td>\n",
       "      <td>2017-01-21 01:52:26.210827</td>\n",
       "      <td>control</td>\n",
       "      <td>old_page</td>\n",
       "      <td>1</td>\n",
       "      <td>1</td>\n",
       "      <td>1</td>\n",
       "      <td>0</td>\n",
       "      <td>1</td>\n",
       "      <td>1</td>\n",
       "      <td>0</td>\n",
       "    </tr>\n",
       "  </tbody>\n",
       "</table>\n",
       "</div>"
      ],
      "text/plain": [
       "   user_id                   timestamp      group landing_page  converted  \\\n",
       "0   851104  2017-01-21 22:11:48.556739    control     old_page          0   \n",
       "1   804228  2017-01-12 08:01:45.159739    control     old_page          0   \n",
       "2   661590  2017-01-11 16:55:06.154213  treatment     new_page          0   \n",
       "3   853541  2017-01-08 18:28:03.143765  treatment     new_page          0   \n",
       "4   864975  2017-01-21 01:52:26.210827    control     old_page          1   \n",
       "\n",
       "   intercepts  control  treatment  old_page  new_page  ab_page  \n",
       "0           1        1          0         1         1        0  \n",
       "1           1        1          0         1         1        0  \n",
       "2           1        0          1         0         0        1  \n",
       "3           1        0          1         0         0        1  \n",
       "4           1        1          0         1         1        0  "
      ]
     },
     "execution_count": 71,
     "metadata": {},
     "output_type": "execute_result"
    }
   ],
   "source": [
    "df2[['control', 'treatment']] = pd.get_dummies(df2['group'])\n",
    "df2[['ab_page', 'old_page']] = pd.get_dummies(df2['landing_page'])\n",
    "df2.head()"
   ]
  },
  {
   "cell_type": "markdown",
   "metadata": {},
   "source": [
    "**c.** Use **statsmodels** to instantiate your regression model on the two columns you created in part (b). above, then fit the model to predict whether or not an individual converts. \n"
   ]
  },
  {
   "cell_type": "code",
   "execution_count": 72,
   "metadata": {},
   "outputs": [],
   "source": [
    "reg = sm.Logit(df2['converted'],df2[['intercepts','ab_page']]) ## logistic regression model using intercept and ab_page column\n"
   ]
  },
  {
   "cell_type": "markdown",
   "metadata": {},
   "source": [
    "**d.** Provide the summary of your model below, and use it as necessary to answer the following questions."
   ]
  },
  {
   "cell_type": "code",
   "execution_count": 73,
   "metadata": {},
   "outputs": [
    {
     "name": "stdout",
     "output_type": "stream",
     "text": [
      "Optimization terminated successfully.\n",
      "         Current function value: 0.366118\n",
      "         Iterations 6\n"
     ]
    },
    {
     "data": {
      "text/html": [
       "<table class=\"simpletable\">\n",
       "<tr>\n",
       "        <td>Model:</td>              <td>Logit</td>       <td>No. Iterations:</td>    <td>6.0000</td>   \n",
       "</tr>\n",
       "<tr>\n",
       "  <td>Dependent Variable:</td>     <td>converted</td>    <td>Pseudo R-squared:</td>    <td>0.000</td>   \n",
       "</tr>\n",
       "<tr>\n",
       "         <td>Date:</td>        <td>2022-01-30 16:41</td>       <td>AIC:</td>        <td>212780.3502</td>\n",
       "</tr>\n",
       "<tr>\n",
       "   <td>No. Observations:</td>       <td>290584</td>            <td>BIC:</td>        <td>212801.5095</td>\n",
       "</tr>\n",
       "<tr>\n",
       "       <td>Df Model:</td>              <td>1</td>         <td>Log-Likelihood:</td>  <td>-1.0639e+05</td>\n",
       "</tr>\n",
       "<tr>\n",
       "     <td>Df Residuals:</td>         <td>290582</td>          <td>LL-Null:</td>      <td>-1.0639e+05</td>\n",
       "</tr>\n",
       "<tr>\n",
       "      <td>Converged:</td>           <td>1.0000</td>           <td>Scale:</td>         <td>1.0000</td>   \n",
       "</tr>\n",
       "</table>\n",
       "<table class=\"simpletable\">\n",
       "<tr>\n",
       "       <td></td>       <th>Coef.</th>  <th>Std.Err.</th>     <th>z</th>      <th>P>|z|</th> <th>[0.025</th>  <th>0.975]</th> \n",
       "</tr>\n",
       "<tr>\n",
       "  <th>intercepts</th> <td>-1.9888</td>  <td>0.0081</td>  <td>-246.6690</td> <td>0.0000</td> <td>-2.0046</td> <td>-1.9730</td>\n",
       "</tr>\n",
       "<tr>\n",
       "  <th>ab_page</th>    <td>-0.0150</td>  <td>0.0114</td>   <td>-1.3109</td>  <td>0.1899</td> <td>-0.0374</td> <td>0.0074</td> \n",
       "</tr>\n",
       "</table>"
      ],
      "text/plain": [
       "<class 'statsmodels.iolib.summary2.Summary'>\n",
       "\"\"\"\n",
       "                          Results: Logit\n",
       "==================================================================\n",
       "Model:              Logit            No. Iterations:   6.0000     \n",
       "Dependent Variable: converted        Pseudo R-squared: 0.000      \n",
       "Date:               2022-01-30 16:41 AIC:              212780.3502\n",
       "No. Observations:   290584           BIC:              212801.5095\n",
       "Df Model:           1                Log-Likelihood:   -1.0639e+05\n",
       "Df Residuals:       290582           LL-Null:          -1.0639e+05\n",
       "Converged:          1.0000           Scale:            1.0000     \n",
       "-------------------------------------------------------------------\n",
       "              Coef.   Std.Err.      z      P>|z|    [0.025   0.975]\n",
       "-------------------------------------------------------------------\n",
       "intercepts   -1.9888    0.0081  -246.6690  0.0000  -2.0046  -1.9730\n",
       "ab_page      -0.0150    0.0114    -1.3109  0.1899  -0.0374   0.0074\n",
       "==================================================================\n",
       "\n",
       "\"\"\""
      ]
     },
     "execution_count": 73,
     "metadata": {},
     "output_type": "execute_result"
    }
   ],
   "source": [
    "result = reg.fit()\n",
    "result.summary2()"
   ]
  },
  {
   "cell_type": "code",
   "execution_count": 74,
   "metadata": {},
   "outputs": [
    {
     "data": {
      "text/plain": [
       "1.0151130646157189"
      ]
     },
     "execution_count": 74,
     "metadata": {},
     "output_type": "execute_result"
    }
   ],
   "source": [
    "1/np.exp(-0.0150) "
   ]
  },
  {
   "cell_type": "markdown",
   "metadata": {},
   "source": [
    "**e.** What is the p-value associated with **ab_page**? Why does it differ from the value you found in **Part II**?<br><br>  \n",
    "\n",
    "- What are the null and alternative hypotheses associated with your regression model, and how do they compare to the null and alternative hypotheses in **Part II**? \n",
    "- You may comment on if these hypothesis (Part II vs. Part III) are one-sided or two-sided. \n",
    "- You may also compare the current p-value with the Type I error rate (0.05).\n"
   ]
  },
  {
   "cell_type": "markdown",
   "metadata": {},
   "source": [
    "The ab_page p-value is 0.1899. It is larger than our Type 1 error rate of .05, which tells us that the landing page is not statistically significant in predicting whether the viewer converts or not.The big difference is, this is a two-tailed test and in Part II was one tailed test."
   ]
  },
  {
   "cell_type": "markdown",
   "metadata": {},
   "source": [
    "**f.** Now, you are considering other things that might influence whether or not an individual converts.  Discuss why it is a good idea to consider other factors to add into your regression model.  Are there any disadvantages to adding additional terms into your regression model?"
   ]
  },
  {
   "cell_type": "markdown",
   "metadata": {},
   "source": [
    " Age group limitations could influence whether or not an individual converts to new page or not. Sometimes adding too many factors could complicate the model making it hard to interprete properly.Something we can try is a timestamp, to let us know the time and day conversion takes place more. Also knowing about the user destination can give some useful insights."
   ]
  },
  {
   "cell_type": "markdown",
   "metadata": {},
   "source": [
    "**g. Adding countries**<br> \n",
    "Now along with testing if the conversion rate changes for different pages, also add an effect based on which country a user lives in. \n",
    "\n",
    "1. You will need to read in the **countries.csv** dataset and merge together your `df2` datasets on the appropriate rows. You call the resulting dataframe `df_merged`. [Here](https://pandas.pydata.org/pandas-docs/stable/reference/api/pandas.DataFrame.join.html) are the docs for joining tables. \n",
    "\n",
    "2. Does it appear that country had an impact on conversion?  To answer this question, consider the three unique values, `['UK', 'US', 'CA']`, in the `country` column. Create dummy variables for these country columns. \n",
    "\n",
    " Provide the statistical output as well as a written response to answer this question."
   ]
  },
  {
   "cell_type": "code",
   "execution_count": 75,
   "metadata": {},
   "outputs": [
    {
     "data": {
      "text/html": [
       "<div>\n",
       "<style scoped>\n",
       "    .dataframe tbody tr th:only-of-type {\n",
       "        vertical-align: middle;\n",
       "    }\n",
       "\n",
       "    .dataframe tbody tr th {\n",
       "        vertical-align: top;\n",
       "    }\n",
       "\n",
       "    .dataframe thead th {\n",
       "        text-align: right;\n",
       "    }\n",
       "</style>\n",
       "<table border=\"1\" class=\"dataframe\">\n",
       "  <thead>\n",
       "    <tr style=\"text-align: right;\">\n",
       "      <th></th>\n",
       "      <th>user_id</th>\n",
       "      <th>country</th>\n",
       "    </tr>\n",
       "  </thead>\n",
       "  <tbody>\n",
       "    <tr>\n",
       "      <th>0</th>\n",
       "      <td>834778</td>\n",
       "      <td>UK</td>\n",
       "    </tr>\n",
       "    <tr>\n",
       "      <th>1</th>\n",
       "      <td>928468</td>\n",
       "      <td>US</td>\n",
       "    </tr>\n",
       "    <tr>\n",
       "      <th>2</th>\n",
       "      <td>822059</td>\n",
       "      <td>UK</td>\n",
       "    </tr>\n",
       "    <tr>\n",
       "      <th>3</th>\n",
       "      <td>711597</td>\n",
       "      <td>UK</td>\n",
       "    </tr>\n",
       "    <tr>\n",
       "      <th>4</th>\n",
       "      <td>710616</td>\n",
       "      <td>UK</td>\n",
       "    </tr>\n",
       "  </tbody>\n",
       "</table>\n",
       "</div>"
      ],
      "text/plain": [
       "   user_id country\n",
       "0   834778      UK\n",
       "1   928468      US\n",
       "2   822059      UK\n",
       "3   711597      UK\n",
       "4   710616      UK"
      ]
     },
     "execution_count": 75,
     "metadata": {},
     "output_type": "execute_result"
    }
   ],
   "source": [
    "# Read the countries.csv\n",
    "countries_df = pd.read_csv('countries.csv')\n",
    "countries_df.head()"
   ]
  },
  {
   "cell_type": "code",
   "execution_count": 77,
   "metadata": {},
   "outputs": [],
   "source": [
    "# Join with the df2 dataframe\n",
    "df_merged = df2.set_index('user_id').join(countries_df.set_index('user_id'),on = \"user_id\")"
   ]
  },
  {
   "cell_type": "code",
   "execution_count": 78,
   "metadata": {},
   "outputs": [],
   "source": [
    "# Create the necessary dummy variables\n",
    "df_merged[['US','UK','CA']]= pd.get_dummies(df_merged['country'])"
   ]
  },
  {
   "cell_type": "code",
   "execution_count": 79,
   "metadata": {},
   "outputs": [
    {
     "data": {
      "text/html": [
       "<div>\n",
       "<style scoped>\n",
       "    .dataframe tbody tr th:only-of-type {\n",
       "        vertical-align: middle;\n",
       "    }\n",
       "\n",
       "    .dataframe tbody tr th {\n",
       "        vertical-align: top;\n",
       "    }\n",
       "\n",
       "    .dataframe thead th {\n",
       "        text-align: right;\n",
       "    }\n",
       "</style>\n",
       "<table border=\"1\" class=\"dataframe\">\n",
       "  <thead>\n",
       "    <tr style=\"text-align: right;\">\n",
       "      <th></th>\n",
       "      <th>timestamp</th>\n",
       "      <th>group</th>\n",
       "      <th>landing_page</th>\n",
       "      <th>converted</th>\n",
       "      <th>intercepts</th>\n",
       "      <th>control</th>\n",
       "      <th>treatment</th>\n",
       "      <th>old_page</th>\n",
       "      <th>new_page</th>\n",
       "      <th>ab_page</th>\n",
       "      <th>country</th>\n",
       "      <th>US</th>\n",
       "      <th>UK</th>\n",
       "      <th>CA</th>\n",
       "    </tr>\n",
       "    <tr>\n",
       "      <th>user_id</th>\n",
       "      <th></th>\n",
       "      <th></th>\n",
       "      <th></th>\n",
       "      <th></th>\n",
       "      <th></th>\n",
       "      <th></th>\n",
       "      <th></th>\n",
       "      <th></th>\n",
       "      <th></th>\n",
       "      <th></th>\n",
       "      <th></th>\n",
       "      <th></th>\n",
       "      <th></th>\n",
       "      <th></th>\n",
       "    </tr>\n",
       "  </thead>\n",
       "  <tbody>\n",
       "    <tr>\n",
       "      <th>851104</th>\n",
       "      <td>2017-01-21 22:11:48.556739</td>\n",
       "      <td>control</td>\n",
       "      <td>old_page</td>\n",
       "      <td>0</td>\n",
       "      <td>1</td>\n",
       "      <td>1</td>\n",
       "      <td>0</td>\n",
       "      <td>1</td>\n",
       "      <td>1</td>\n",
       "      <td>0</td>\n",
       "      <td>US</td>\n",
       "      <td>0</td>\n",
       "      <td>0</td>\n",
       "      <td>1</td>\n",
       "    </tr>\n",
       "    <tr>\n",
       "      <th>804228</th>\n",
       "      <td>2017-01-12 08:01:45.159739</td>\n",
       "      <td>control</td>\n",
       "      <td>old_page</td>\n",
       "      <td>0</td>\n",
       "      <td>1</td>\n",
       "      <td>1</td>\n",
       "      <td>0</td>\n",
       "      <td>1</td>\n",
       "      <td>1</td>\n",
       "      <td>0</td>\n",
       "      <td>US</td>\n",
       "      <td>0</td>\n",
       "      <td>0</td>\n",
       "      <td>1</td>\n",
       "    </tr>\n",
       "    <tr>\n",
       "      <th>661590</th>\n",
       "      <td>2017-01-11 16:55:06.154213</td>\n",
       "      <td>treatment</td>\n",
       "      <td>new_page</td>\n",
       "      <td>0</td>\n",
       "      <td>1</td>\n",
       "      <td>0</td>\n",
       "      <td>1</td>\n",
       "      <td>0</td>\n",
       "      <td>0</td>\n",
       "      <td>1</td>\n",
       "      <td>US</td>\n",
       "      <td>0</td>\n",
       "      <td>0</td>\n",
       "      <td>1</td>\n",
       "    </tr>\n",
       "    <tr>\n",
       "      <th>853541</th>\n",
       "      <td>2017-01-08 18:28:03.143765</td>\n",
       "      <td>treatment</td>\n",
       "      <td>new_page</td>\n",
       "      <td>0</td>\n",
       "      <td>1</td>\n",
       "      <td>0</td>\n",
       "      <td>1</td>\n",
       "      <td>0</td>\n",
       "      <td>0</td>\n",
       "      <td>1</td>\n",
       "      <td>US</td>\n",
       "      <td>0</td>\n",
       "      <td>0</td>\n",
       "      <td>1</td>\n",
       "    </tr>\n",
       "    <tr>\n",
       "      <th>864975</th>\n",
       "      <td>2017-01-21 01:52:26.210827</td>\n",
       "      <td>control</td>\n",
       "      <td>old_page</td>\n",
       "      <td>1</td>\n",
       "      <td>1</td>\n",
       "      <td>1</td>\n",
       "      <td>0</td>\n",
       "      <td>1</td>\n",
       "      <td>1</td>\n",
       "      <td>0</td>\n",
       "      <td>US</td>\n",
       "      <td>0</td>\n",
       "      <td>0</td>\n",
       "      <td>1</td>\n",
       "    </tr>\n",
       "  </tbody>\n",
       "</table>\n",
       "</div>"
      ],
      "text/plain": [
       "                          timestamp      group landing_page  converted  \\\n",
       "user_id                                                                  \n",
       "851104   2017-01-21 22:11:48.556739    control     old_page          0   \n",
       "804228   2017-01-12 08:01:45.159739    control     old_page          0   \n",
       "661590   2017-01-11 16:55:06.154213  treatment     new_page          0   \n",
       "853541   2017-01-08 18:28:03.143765  treatment     new_page          0   \n",
       "864975   2017-01-21 01:52:26.210827    control     old_page          1   \n",
       "\n",
       "         intercepts  control  treatment  old_page  new_page  ab_page country  \\\n",
       "user_id                                                                        \n",
       "851104            1        1          0         1         1        0      US   \n",
       "804228            1        1          0         1         1        0      US   \n",
       "661590            1        0          1         0         0        1      US   \n",
       "853541            1        0          1         0         0        1      US   \n",
       "864975            1        1          0         1         1        0      US   \n",
       "\n",
       "         US  UK  CA  \n",
       "user_id              \n",
       "851104    0   0   1  \n",
       "804228    0   0   1  \n",
       "661590    0   0   1  \n",
       "853541    0   0   1  \n",
       "864975    0   0   1  "
      ]
     },
     "execution_count": 79,
     "metadata": {},
     "output_type": "execute_result"
    }
   ],
   "source": [
    "df_merged.head()"
   ]
  },
  {
   "cell_type": "markdown",
   "metadata": {},
   "source": [
    "**h. Fit your model and obtain the results**<br> \n",
    "Though you have now looked at the individual factors of country and page on conversion, we would now like to look at an interaction between page and country to see if are there significant effects on conversion.  **Create the necessary additional columns, and fit the new model.** \n",
    "\n",
    "\n",
    "Provide the summary results (statistical output), and your conclusions (written response) based on the results. \n",
    "\n"
   ]
  },
  {
   "cell_type": "code",
   "execution_count": 90,
   "metadata": {},
   "outputs": [],
   "source": [
    "# Fit your model, and summarize the results\n",
    "reg1 = sm.Logit(df_merged['converted'],df_merged[['intercepts', 'CA', 'UK']]) ## logistic regression model using intercept and country column\n"
   ]
  },
  {
   "cell_type": "code",
   "execution_count": 91,
   "metadata": {},
   "outputs": [
    {
     "name": "stdout",
     "output_type": "stream",
     "text": [
      "Optimization terminated successfully.\n",
      "         Current function value: 0.366116\n",
      "         Iterations 6\n"
     ]
    },
    {
     "data": {
      "text/html": [
       "<table class=\"simpletable\">\n",
       "<tr>\n",
       "        <td>Model:</td>              <td>Logit</td>       <td>No. Iterations:</td>    <td>6.0000</td>   \n",
       "</tr>\n",
       "<tr>\n",
       "  <td>Dependent Variable:</td>     <td>converted</td>    <td>Pseudo R-squared:</td>    <td>0.000</td>   \n",
       "</tr>\n",
       "<tr>\n",
       "         <td>Date:</td>        <td>2022-01-30 17:03</td>       <td>AIC:</td>        <td>212780.8333</td>\n",
       "</tr>\n",
       "<tr>\n",
       "   <td>No. Observations:</td>       <td>290584</td>            <td>BIC:</td>        <td>212812.5723</td>\n",
       "</tr>\n",
       "<tr>\n",
       "       <td>Df Model:</td>              <td>2</td>         <td>Log-Likelihood:</td>  <td>-1.0639e+05</td>\n",
       "</tr>\n",
       "<tr>\n",
       "     <td>Df Residuals:</td>         <td>290581</td>          <td>LL-Null:</td>      <td>-1.0639e+05</td>\n",
       "</tr>\n",
       "<tr>\n",
       "      <td>Converged:</td>           <td>1.0000</td>           <td>Scale:</td>         <td>1.0000</td>   \n",
       "</tr>\n",
       "</table>\n",
       "<table class=\"simpletable\">\n",
       "<tr>\n",
       "       <td></td>       <th>Coef.</th>  <th>Std.Err.</th>     <th>z</th>     <th>P>|z|</th> <th>[0.025</th>  <th>0.975]</th> \n",
       "</tr>\n",
       "<tr>\n",
       "  <th>intercepts</th> <td>-2.0375</td>  <td>0.0260</td>  <td>-78.3639</td> <td>0.0000</td> <td>-2.0885</td> <td>-1.9866</td>\n",
       "</tr>\n",
       "<tr>\n",
       "  <th>CA</th>         <td>0.0408</td>   <td>0.0269</td>   <td>1.5178</td>  <td>0.1291</td> <td>-0.0119</td> <td>0.0935</td> \n",
       "</tr>\n",
       "<tr>\n",
       "  <th>UK</th>         <td>0.0507</td>   <td>0.0284</td>   <td>1.7863</td>  <td>0.0740</td> <td>-0.0049</td> <td>0.1064</td> \n",
       "</tr>\n",
       "</table>"
      ],
      "text/plain": [
       "<class 'statsmodels.iolib.summary2.Summary'>\n",
       "\"\"\"\n",
       "                          Results: Logit\n",
       "==================================================================\n",
       "Model:              Logit            No. Iterations:   6.0000     \n",
       "Dependent Variable: converted        Pseudo R-squared: 0.000      \n",
       "Date:               2022-01-30 17:03 AIC:              212780.8333\n",
       "No. Observations:   290584           BIC:              212812.5723\n",
       "Df Model:           2                Log-Likelihood:   -1.0639e+05\n",
       "Df Residuals:       290581           LL-Null:          -1.0639e+05\n",
       "Converged:          1.0000           Scale:            1.0000     \n",
       "-------------------------------------------------------------------\n",
       "               Coef.   Std.Err.     z      P>|z|    [0.025   0.975]\n",
       "-------------------------------------------------------------------\n",
       "intercepts    -2.0375    0.0260  -78.3639  0.0000  -2.0885  -1.9866\n",
       "CA             0.0408    0.0269    1.5178  0.1291  -0.0119   0.0935\n",
       "UK             0.0507    0.0284    1.7863  0.0740  -0.0049   0.1064\n",
       "==================================================================\n",
       "\n",
       "\"\"\""
      ]
     },
     "execution_count": 91,
     "metadata": {},
     "output_type": "execute_result"
    }
   ],
   "source": [
    "res = reg1.fit()\n",
    "res.summary2()"
   ]
  },
  {
   "cell_type": "code",
   "execution_count": 92,
   "metadata": {},
   "outputs": [
    {
     "data": {
      "text/plain": [
       "intercepts    0.130350\n",
       "CA            1.041647\n",
       "UK            1.052027\n",
       "dtype: float64"
      ]
     },
     "execution_count": 92,
     "metadata": {},
     "output_type": "execute_result"
    }
   ],
   "source": [
    "np.exp(res.params)\n"
   ]
  },
  {
   "cell_type": "markdown",
   "metadata": {},
   "source": [
    "As we can see all p-values are greater than our Type 1 error rate of 0.05, which tells us country does not have a significant impact on conversion.\n",
    "\n"
   ]
  },
  {
   "cell_type": "markdown",
   "metadata": {},
   "source": [
    "**`Regression Findings:`** <br>\n",
    "By performing this regression it is found that the values did not demonstrate a statistically significant difference in the conversion rates for the control gorup and the treatment group. Thus, we are unable to reject the Null Hypothesis. The best guidance from performing these analyses is that the existing page be kept and not be replaced by the new landing page."
   ]
  },
  {
   "cell_type": "markdown",
   "metadata": {},
   "source": [
    "## Summary: "
   ]
  },
  {
   "cell_type": "markdown",
   "metadata": {},
   "source": [
    "<br>By performing all of these analyses, we are unable to determine from this A/B Test if the new landing page performs better. In fact, what we were able to determine is that the old page performs slightly better than the old page (at very minimal values) through multiple statistical analysis techniques. As a result of this analysis, we were unable to reject our null hypotheses. Due to the limited amount of data at hand--including not having access to additional information about the individual users and their experiences with the website--we are limited in our conclusions.\n"
   ]
  },
  {
   "cell_type": "markdown",
   "metadata": {},
   "source": [
    "<a id='finalcheck'></a>\n",
    "## Final Check!\n",
    "\n",
    "Congratulations!  You have reached the end of the A/B Test Results project!  You should be very proud of all you have accomplished!\n",
    "\n",
    "\n",
    "\n",
    "\n",
    "<a id='submission'></a>\n",
    "## Submission\n",
    "You may either submit your notebook through the \"SUBMIT PROJECT\" button at the bottom of this workspace, or you may work from your local machine and submit on  the last page of this project lesson.  \n",
    "\n",
    "1. Before you submit your project, you need to create a .html or .pdf version of this notebook in the workspace here. To do that, run the code cell below. If it worked correctly, you should get a return code of 0, and you should see the generated .html file in the workspace directory (click on the orange Jupyter icon in the upper left).\n",
    "\n",
    "\n",
    "2. Alternatively, you can download this report as .html via the **File** > **Download as** submenu, and then manually upload it into the workspace directory by clicking on the orange Jupyter icon in the upper left, then using the Upload button.\n",
    "\n",
    "\n",
    "3. Once you've done this, you can submit your project by clicking on the \"Submit Project\" button in the lower right here. This will create and submit a zip file with this .ipynb doc and the .html or .pdf version you created. Congratulations!"
   ]
  },
  {
   "cell_type": "code",
   "execution_count": null,
   "metadata": {},
   "outputs": [],
   "source": [
    "from subprocess import call\n",
    "call(['python', '-m', 'nbconvert', 'Analyze_ab_test_results_notebook.ipynb'])"
   ]
  }
 ],
 "metadata": {
  "kernelspec": {
   "display_name": "Python 3",
   "language": "python",
   "name": "python3"
  },
  "language_info": {
   "codemirror_mode": {
    "name": "ipython",
    "version": 3
   },
   "file_extension": ".py",
   "mimetype": "text/x-python",
   "name": "python",
   "nbconvert_exporter": "python",
   "pygments_lexer": "ipython3",
   "version": "3.6.3"
  }
 },
 "nbformat": 4,
 "nbformat_minor": 2
}
