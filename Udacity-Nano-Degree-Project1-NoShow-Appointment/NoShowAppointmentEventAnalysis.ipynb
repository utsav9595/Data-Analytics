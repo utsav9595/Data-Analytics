{
 "cells": [
  {
   "cell_type": "markdown",
   "metadata": {},
   "source": [
    "# Project: Investigate a Dataset - Medical Appointment No Shows\n",
    "\n",
    "Dataset:- [noshowappointments-kagglev2-may-2016.csv](https://www.google.com/url?q=https://d17h27t6h515a5.cloudfront.net/topher/2017/October/59dd2e9a_noshowappointments-kagglev2-may-2016/noshowappointments-kagglev2-may-2016.csv&sa=D&ust=1532469042118000)\n",
    "\n",
    "\n",
    "## Table of Contents\n",
    "<ul>\n",
    "<li><a href=\"#intro\">Introduction</a></li>\n",
    "<li><a href=\"#wrangling\">Data Wrangling</a></li>\n",
    "<li><a href=\"#eda\">Exploratory Data Analysis</a></li>\n",
    "<li><a href=\"#conclusions\">Conclusions</a></li>\n",
    "</ul>"
   ]
  },
  {
   "cell_type": "markdown",
   "metadata": {},
   "source": [
    "<a id='intro'></a>\n",
    "## Introduction\n",
    "\n",
    "### Dataset Description \n",
    "\n",
    "> This dataset collects information from 100k medical appointments in Brazil and is focused on the question of whether or not patients show up for their appointment [(Kaggle)](https://www.kaggle.com/joniarroba/noshowappointments).\n",
    "<br>A number of characteristics about the patient are included in each row.\n",
    "* ‘ScheduledDay’ tells us on what day the patient set up their appointment.\n",
    "* ‘Neighborhood’ indicates the location of the hospital.\n",
    "* ‘Scholarship’ indicates whether or not the patient is enrolled in Brasilian welfare program Bolsa Família.\n",
    "* Be careful about the encoding of the last column: it says ‘No’ if the patient showed up to their appointment, and ‘Yes’ if they did not show up.\n",
    "\n",
    "\n",
    "\n",
    "## Question(s) for Analysis\n",
    "\n",
    "### Research Question 1 : Who is the most health consious patient & how many times he didnt visited as per appointment ?\n",
    "### Research Question 2:  Does Gender play any role for Show / No-Show counts ?\n",
    "### Research Question 3: Which Neighbourhood result in maximum no-show appointments ?\n",
    "### Research Question 4: Which age group impacts in maximum no-show appointments ? Which age group is the most disciplined group with minimum no-show appointments ?\n",
    "### Research Question 5: Does scheduled day & appointment day difference have any impact to the appointment NoShow event ?"
   ]
  },
  {
   "cell_type": "markdown",
   "metadata": {},
   "source": [
    "\n",
    "\n",
    "## Python Module import"
   ]
  },
  {
   "cell_type": "code",
   "execution_count": 1,
   "metadata": {},
   "outputs": [],
   "source": [
    "# Use this cell to set up import statements for all of the packages that you\n",
    "#   plan to use.\n",
    "import pandas as pd\n",
    "import numpy as np\n",
    "import matplotlib.pyplot as plt\n",
    "%matplotlib inline\n"
   ]
  },
  {
   "cell_type": "markdown",
   "metadata": {},
   "source": [
    "\n",
    "\n",
    "## Data loading"
   ]
  },
  {
   "cell_type": "code",
   "execution_count": 2,
   "metadata": {},
   "outputs": [
    {
     "data": {
      "text/html": [
       "<div>\n",
       "<style scoped>\n",
       "    .dataframe tbody tr th:only-of-type {\n",
       "        vertical-align: middle;\n",
       "    }\n",
       "\n",
       "    .dataframe tbody tr th {\n",
       "        vertical-align: top;\n",
       "    }\n",
       "\n",
       "    .dataframe thead th {\n",
       "        text-align: right;\n",
       "    }\n",
       "</style>\n",
       "<table border=\"1\" class=\"dataframe\">\n",
       "  <thead>\n",
       "    <tr style=\"text-align: right;\">\n",
       "      <th></th>\n",
       "      <th>PatientId</th>\n",
       "      <th>AppointmentID</th>\n",
       "      <th>Gender</th>\n",
       "      <th>ScheduledDay</th>\n",
       "      <th>AppointmentDay</th>\n",
       "      <th>Age</th>\n",
       "      <th>Neighbourhood</th>\n",
       "      <th>Scholarship</th>\n",
       "      <th>Hipertension</th>\n",
       "      <th>Diabetes</th>\n",
       "      <th>Alcoholism</th>\n",
       "      <th>Handcap</th>\n",
       "      <th>SMS_received</th>\n",
       "      <th>No-show</th>\n",
       "    </tr>\n",
       "  </thead>\n",
       "  <tbody>\n",
       "    <tr>\n",
       "      <th>0</th>\n",
       "      <td>2.987250e+13</td>\n",
       "      <td>5642903</td>\n",
       "      <td>F</td>\n",
       "      <td>2016-04-29T18:38:08Z</td>\n",
       "      <td>2016-04-29T00:00:00Z</td>\n",
       "      <td>62</td>\n",
       "      <td>JARDIM DA PENHA</td>\n",
       "      <td>0</td>\n",
       "      <td>1</td>\n",
       "      <td>0</td>\n",
       "      <td>0</td>\n",
       "      <td>0</td>\n",
       "      <td>0</td>\n",
       "      <td>No</td>\n",
       "    </tr>\n",
       "    <tr>\n",
       "      <th>1</th>\n",
       "      <td>5.589978e+14</td>\n",
       "      <td>5642503</td>\n",
       "      <td>M</td>\n",
       "      <td>2016-04-29T16:08:27Z</td>\n",
       "      <td>2016-04-29T00:00:00Z</td>\n",
       "      <td>56</td>\n",
       "      <td>JARDIM DA PENHA</td>\n",
       "      <td>0</td>\n",
       "      <td>0</td>\n",
       "      <td>0</td>\n",
       "      <td>0</td>\n",
       "      <td>0</td>\n",
       "      <td>0</td>\n",
       "      <td>No</td>\n",
       "    </tr>\n",
       "    <tr>\n",
       "      <th>2</th>\n",
       "      <td>4.262962e+12</td>\n",
       "      <td>5642549</td>\n",
       "      <td>F</td>\n",
       "      <td>2016-04-29T16:19:04Z</td>\n",
       "      <td>2016-04-29T00:00:00Z</td>\n",
       "      <td>62</td>\n",
       "      <td>MATA DA PRAIA</td>\n",
       "      <td>0</td>\n",
       "      <td>0</td>\n",
       "      <td>0</td>\n",
       "      <td>0</td>\n",
       "      <td>0</td>\n",
       "      <td>0</td>\n",
       "      <td>No</td>\n",
       "    </tr>\n",
       "    <tr>\n",
       "      <th>3</th>\n",
       "      <td>8.679512e+11</td>\n",
       "      <td>5642828</td>\n",
       "      <td>F</td>\n",
       "      <td>2016-04-29T17:29:31Z</td>\n",
       "      <td>2016-04-29T00:00:00Z</td>\n",
       "      <td>8</td>\n",
       "      <td>PONTAL DE CAMBURI</td>\n",
       "      <td>0</td>\n",
       "      <td>0</td>\n",
       "      <td>0</td>\n",
       "      <td>0</td>\n",
       "      <td>0</td>\n",
       "      <td>0</td>\n",
       "      <td>No</td>\n",
       "    </tr>\n",
       "    <tr>\n",
       "      <th>4</th>\n",
       "      <td>8.841186e+12</td>\n",
       "      <td>5642494</td>\n",
       "      <td>F</td>\n",
       "      <td>2016-04-29T16:07:23Z</td>\n",
       "      <td>2016-04-29T00:00:00Z</td>\n",
       "      <td>56</td>\n",
       "      <td>JARDIM DA PENHA</td>\n",
       "      <td>0</td>\n",
       "      <td>1</td>\n",
       "      <td>1</td>\n",
       "      <td>0</td>\n",
       "      <td>0</td>\n",
       "      <td>0</td>\n",
       "      <td>No</td>\n",
       "    </tr>\n",
       "  </tbody>\n",
       "</table>\n",
       "</div>"
      ],
      "text/plain": [
       "      PatientId  AppointmentID Gender          ScheduledDay  \\\n",
       "0  2.987250e+13        5642903      F  2016-04-29T18:38:08Z   \n",
       "1  5.589978e+14        5642503      M  2016-04-29T16:08:27Z   \n",
       "2  4.262962e+12        5642549      F  2016-04-29T16:19:04Z   \n",
       "3  8.679512e+11        5642828      F  2016-04-29T17:29:31Z   \n",
       "4  8.841186e+12        5642494      F  2016-04-29T16:07:23Z   \n",
       "\n",
       "         AppointmentDay  Age      Neighbourhood  Scholarship  Hipertension  \\\n",
       "0  2016-04-29T00:00:00Z   62    JARDIM DA PENHA            0             1   \n",
       "1  2016-04-29T00:00:00Z   56    JARDIM DA PENHA            0             0   \n",
       "2  2016-04-29T00:00:00Z   62      MATA DA PRAIA            0             0   \n",
       "3  2016-04-29T00:00:00Z    8  PONTAL DE CAMBURI            0             0   \n",
       "4  2016-04-29T00:00:00Z   56    JARDIM DA PENHA            0             1   \n",
       "\n",
       "   Diabetes  Alcoholism  Handcap  SMS_received No-show  \n",
       "0         0           0        0             0      No  \n",
       "1         0           0        0             0      No  \n",
       "2         0           0        0             0      No  \n",
       "3         0           0        0             0      No  \n",
       "4         1           0        0             0      No  "
      ]
     },
     "execution_count": 2,
     "metadata": {},
     "output_type": "execute_result"
    }
   ],
   "source": [
    "df_in= pd.read_csv(\"noshowappointments-kagglev2-may-2016.csv\") #Loading CSV dataset to pandas dataframe\n",
    "df_in.head()"
   ]
  },
  {
   "cell_type": "code",
   "execution_count": 3,
   "metadata": {},
   "outputs": [
    {
     "data": {
      "text/html": [
       "<div>\n",
       "<style scoped>\n",
       "    .dataframe tbody tr th:only-of-type {\n",
       "        vertical-align: middle;\n",
       "    }\n",
       "\n",
       "    .dataframe tbody tr th {\n",
       "        vertical-align: top;\n",
       "    }\n",
       "\n",
       "    .dataframe thead th {\n",
       "        text-align: right;\n",
       "    }\n",
       "</style>\n",
       "<table border=\"1\" class=\"dataframe\">\n",
       "  <thead>\n",
       "    <tr style=\"text-align: right;\">\n",
       "      <th></th>\n",
       "      <th>PatientId</th>\n",
       "      <th>AppointmentID</th>\n",
       "      <th>Age</th>\n",
       "      <th>Scholarship</th>\n",
       "      <th>Hipertension</th>\n",
       "      <th>Diabetes</th>\n",
       "      <th>Alcoholism</th>\n",
       "      <th>Handcap</th>\n",
       "      <th>SMS_received</th>\n",
       "    </tr>\n",
       "  </thead>\n",
       "  <tbody>\n",
       "    <tr>\n",
       "      <th>count</th>\n",
       "      <td>1.105270e+05</td>\n",
       "      <td>1.105270e+05</td>\n",
       "      <td>110527.000000</td>\n",
       "      <td>110527.000000</td>\n",
       "      <td>110527.000000</td>\n",
       "      <td>110527.000000</td>\n",
       "      <td>110527.000000</td>\n",
       "      <td>110527.000000</td>\n",
       "      <td>110527.000000</td>\n",
       "    </tr>\n",
       "    <tr>\n",
       "      <th>mean</th>\n",
       "      <td>1.474963e+14</td>\n",
       "      <td>5.675305e+06</td>\n",
       "      <td>37.088874</td>\n",
       "      <td>0.098266</td>\n",
       "      <td>0.197246</td>\n",
       "      <td>0.071865</td>\n",
       "      <td>0.030400</td>\n",
       "      <td>0.022248</td>\n",
       "      <td>0.321026</td>\n",
       "    </tr>\n",
       "    <tr>\n",
       "      <th>std</th>\n",
       "      <td>2.560949e+14</td>\n",
       "      <td>7.129575e+04</td>\n",
       "      <td>23.110205</td>\n",
       "      <td>0.297675</td>\n",
       "      <td>0.397921</td>\n",
       "      <td>0.258265</td>\n",
       "      <td>0.171686</td>\n",
       "      <td>0.161543</td>\n",
       "      <td>0.466873</td>\n",
       "    </tr>\n",
       "    <tr>\n",
       "      <th>min</th>\n",
       "      <td>3.921784e+04</td>\n",
       "      <td>5.030230e+06</td>\n",
       "      <td>-1.000000</td>\n",
       "      <td>0.000000</td>\n",
       "      <td>0.000000</td>\n",
       "      <td>0.000000</td>\n",
       "      <td>0.000000</td>\n",
       "      <td>0.000000</td>\n",
       "      <td>0.000000</td>\n",
       "    </tr>\n",
       "    <tr>\n",
       "      <th>25%</th>\n",
       "      <td>4.172614e+12</td>\n",
       "      <td>5.640286e+06</td>\n",
       "      <td>18.000000</td>\n",
       "      <td>0.000000</td>\n",
       "      <td>0.000000</td>\n",
       "      <td>0.000000</td>\n",
       "      <td>0.000000</td>\n",
       "      <td>0.000000</td>\n",
       "      <td>0.000000</td>\n",
       "    </tr>\n",
       "    <tr>\n",
       "      <th>50%</th>\n",
       "      <td>3.173184e+13</td>\n",
       "      <td>5.680573e+06</td>\n",
       "      <td>37.000000</td>\n",
       "      <td>0.000000</td>\n",
       "      <td>0.000000</td>\n",
       "      <td>0.000000</td>\n",
       "      <td>0.000000</td>\n",
       "      <td>0.000000</td>\n",
       "      <td>0.000000</td>\n",
       "    </tr>\n",
       "    <tr>\n",
       "      <th>75%</th>\n",
       "      <td>9.439172e+13</td>\n",
       "      <td>5.725524e+06</td>\n",
       "      <td>55.000000</td>\n",
       "      <td>0.000000</td>\n",
       "      <td>0.000000</td>\n",
       "      <td>0.000000</td>\n",
       "      <td>0.000000</td>\n",
       "      <td>0.000000</td>\n",
       "      <td>1.000000</td>\n",
       "    </tr>\n",
       "    <tr>\n",
       "      <th>max</th>\n",
       "      <td>9.999816e+14</td>\n",
       "      <td>5.790484e+06</td>\n",
       "      <td>115.000000</td>\n",
       "      <td>1.000000</td>\n",
       "      <td>1.000000</td>\n",
       "      <td>1.000000</td>\n",
       "      <td>1.000000</td>\n",
       "      <td>4.000000</td>\n",
       "      <td>1.000000</td>\n",
       "    </tr>\n",
       "  </tbody>\n",
       "</table>\n",
       "</div>"
      ],
      "text/plain": [
       "          PatientId  AppointmentID            Age    Scholarship  \\\n",
       "count  1.105270e+05   1.105270e+05  110527.000000  110527.000000   \n",
       "mean   1.474963e+14   5.675305e+06      37.088874       0.098266   \n",
       "std    2.560949e+14   7.129575e+04      23.110205       0.297675   \n",
       "min    3.921784e+04   5.030230e+06      -1.000000       0.000000   \n",
       "25%    4.172614e+12   5.640286e+06      18.000000       0.000000   \n",
       "50%    3.173184e+13   5.680573e+06      37.000000       0.000000   \n",
       "75%    9.439172e+13   5.725524e+06      55.000000       0.000000   \n",
       "max    9.999816e+14   5.790484e+06     115.000000       1.000000   \n",
       "\n",
       "        Hipertension       Diabetes     Alcoholism        Handcap  \\\n",
       "count  110527.000000  110527.000000  110527.000000  110527.000000   \n",
       "mean        0.197246       0.071865       0.030400       0.022248   \n",
       "std         0.397921       0.258265       0.171686       0.161543   \n",
       "min         0.000000       0.000000       0.000000       0.000000   \n",
       "25%         0.000000       0.000000       0.000000       0.000000   \n",
       "50%         0.000000       0.000000       0.000000       0.000000   \n",
       "75%         0.000000       0.000000       0.000000       0.000000   \n",
       "max         1.000000       1.000000       1.000000       4.000000   \n",
       "\n",
       "        SMS_received  \n",
       "count  110527.000000  \n",
       "mean        0.321026  \n",
       "std         0.466873  \n",
       "min         0.000000  \n",
       "25%         0.000000  \n",
       "50%         0.000000  \n",
       "75%         1.000000  \n",
       "max         1.000000  "
      ]
     },
     "execution_count": 3,
     "metadata": {},
     "output_type": "execute_result"
    }
   ],
   "source": [
    "# Getting statistical data about data\n",
    "df_in.describe()"
   ]
  },
  {
   "cell_type": "code",
   "execution_count": 4,
   "metadata": {},
   "outputs": [
    {
     "data": {
      "text/plain": [
       "(110527, 14)"
      ]
     },
     "execution_count": 4,
     "metadata": {},
     "output_type": "execute_result"
    }
   ],
   "source": [
    "# Data size examine\n",
    "df_in.shape"
   ]
  },
  {
   "cell_type": "code",
   "execution_count": 5,
   "metadata": {},
   "outputs": [
    {
     "data": {
      "text/plain": [
       "Index(['PatientId', 'AppointmentID', 'Gender', 'ScheduledDay',\n",
       "       'AppointmentDay', 'Age', 'Neighbourhood', 'Scholarship', 'Hipertension',\n",
       "       'Diabetes', 'Alcoholism', 'Handcap', 'SMS_received', 'No-show'],\n",
       "      dtype='object')"
      ]
     },
     "execution_count": 5,
     "metadata": {},
     "output_type": "execute_result"
    }
   ],
   "source": [
    "#Columns present\n",
    "df_in.columns"
   ]
  },
  {
   "cell_type": "code",
   "execution_count": 6,
   "metadata": {},
   "outputs": [
    {
     "name": "stdout",
     "output_type": "stream",
     "text": [
      "<class 'pandas.core.frame.DataFrame'>\n",
      "RangeIndex: 110527 entries, 0 to 110526\n",
      "Data columns (total 14 columns):\n",
      " #   Column          Non-Null Count   Dtype  \n",
      "---  ------          --------------   -----  \n",
      " 0   PatientId       110527 non-null  float64\n",
      " 1   AppointmentID   110527 non-null  int64  \n",
      " 2   Gender          110527 non-null  object \n",
      " 3   ScheduledDay    110527 non-null  object \n",
      " 4   AppointmentDay  110527 non-null  object \n",
      " 5   Age             110527 non-null  int64  \n",
      " 6   Neighbourhood   110527 non-null  object \n",
      " 7   Scholarship     110527 non-null  int64  \n",
      " 8   Hipertension    110527 non-null  int64  \n",
      " 9   Diabetes        110527 non-null  int64  \n",
      " 10  Alcoholism      110527 non-null  int64  \n",
      " 11  Handcap         110527 non-null  int64  \n",
      " 12  SMS_received    110527 non-null  int64  \n",
      " 13  No-show         110527 non-null  object \n",
      "dtypes: float64(1), int64(8), object(5)\n",
      "memory usage: 11.8+ MB\n"
     ]
    }
   ],
   "source": [
    "# Checking for Null values & column value types\n",
    "df_in.info()\n",
    "#No Null values found "
   ]
  },
  {
   "cell_type": "code",
   "execution_count": 7,
   "metadata": {},
   "outputs": [
    {
     "data": {
      "text/plain": [
       "0"
      ]
     },
     "execution_count": 7,
     "metadata": {},
     "output_type": "execute_result"
    }
   ],
   "source": [
    "#Duplicate check\n",
    "df_in.duplicated().sum()"
   ]
  },
  {
   "cell_type": "markdown",
   "metadata": {},
   "source": [
    "<a id='wrangling'></a>\n",
    "## Data Wrangling\n",
    "\n",
    ">  In this section of the report, we will check for cleanliness, and then trim and clean your dataset for analysis. \n"
   ]
  },
  {
   "cell_type": "markdown",
   "metadata": {},
   "source": [
    "\n",
    "### Data Cleaning\n"
   ]
  },
  {
   "cell_type": "markdown",
   "metadata": {},
   "source": [
    "> ## Histogram graph to check for data skeyness"
   ]
  },
  {
   "cell_type": "code",
   "execution_count": 18,
   "metadata": {},
   "outputs": [
    {
     "data": {
      "text/html": [
       "<div>\n",
       "<style scoped>\n",
       "    .dataframe tbody tr th:only-of-type {\n",
       "        vertical-align: middle;\n",
       "    }\n",
       "\n",
       "    .dataframe tbody tr th {\n",
       "        vertical-align: top;\n",
       "    }\n",
       "\n",
       "    .dataframe thead th {\n",
       "        text-align: right;\n",
       "    }\n",
       "</style>\n",
       "<table border=\"1\" class=\"dataframe\">\n",
       "  <thead>\n",
       "    <tr style=\"text-align: right;\">\n",
       "      <th></th>\n",
       "      <th>Age</th>\n",
       "    </tr>\n",
       "  </thead>\n",
       "  <tbody>\n",
       "    <tr>\n",
       "      <th>count</th>\n",
       "      <td>110527.000000</td>\n",
       "    </tr>\n",
       "    <tr>\n",
       "      <th>mean</th>\n",
       "      <td>37.088874</td>\n",
       "    </tr>\n",
       "    <tr>\n",
       "      <th>std</th>\n",
       "      <td>23.110205</td>\n",
       "    </tr>\n",
       "    <tr>\n",
       "      <th>min</th>\n",
       "      <td>-1.000000</td>\n",
       "    </tr>\n",
       "    <tr>\n",
       "      <th>25%</th>\n",
       "      <td>18.000000</td>\n",
       "    </tr>\n",
       "    <tr>\n",
       "      <th>50%</th>\n",
       "      <td>37.000000</td>\n",
       "    </tr>\n",
       "    <tr>\n",
       "      <th>75%</th>\n",
       "      <td>55.000000</td>\n",
       "    </tr>\n",
       "    <tr>\n",
       "      <th>max</th>\n",
       "      <td>115.000000</td>\n",
       "    </tr>\n",
       "  </tbody>\n",
       "</table>\n",
       "</div>"
      ],
      "text/plain": [
       "                 Age\n",
       "count  110527.000000\n",
       "mean       37.088874\n",
       "std        23.110205\n",
       "min        -1.000000\n",
       "25%        18.000000\n",
       "50%        37.000000\n",
       "75%        55.000000\n",
       "max       115.000000"
      ]
     },
     "execution_count": 18,
     "metadata": {},
     "output_type": "execute_result"
    },
    {
     "data": {
      "image/png": "[encoded data removed]",
      "text/plain": [
       "<Figure size 432x288 with 1 Axes>"
      ]
     },
     "metadata": {
      "needs_background": "light"
     },
     "output_type": "display_data"
    }
   ],
   "source": [
    "axA = df_in.Age.hist(edgecolor='black', linewidth=1.5) #Age histogram shows Age value as 0 & -1 which is not possible. This can be due to incorrect data-entry\n",
    "axA.set_xlabel('Age')\n",
    "axA.set_ylabel('Number of patients')\n",
    "axA.set_title('Age Vs Number of patients')\n",
    "pd.DataFrame(df_in['Age'].describe())"
   ]
  },
  {
   "cell_type": "code",
   "execution_count": 14,
   "metadata": {},
   "outputs": [
    {
     "name": "stdout",
     "output_type": "stream",
     "text": [
      "Percentage of data with wrong age value(Non positive values):3.203 % ,Wrong Age data Count:3540\n"
     ]
    }
   ],
   "source": [
    "NegAgeP = np.round((len(df_in[(df_in.Age <1)])/len(df_in))*100,3)\n",
    "NegAge = len(df_in[(df_in.Age <1)])\n",
    "print(\"Percentage of data with wrong age value(Non positive values):{} % ,Wrong Age data Count:{}\".format(NegAgeP,NegAge))\n",
    "# Percentage of data with wrong age value(Non positive values):3.203 % ,Wrong Age data Count:3540\n",
    "# As the wrong count data percentage is less, it can removed to have the clean data"
   ]
  },
  {
   "cell_type": "code",
   "execution_count": 15,
   "metadata": {},
   "outputs": [
    {
     "data": {
      "text/plain": [
       "array(['No', 'Yes'], dtype=object)"
      ]
     },
     "execution_count": 15,
     "metadata": {},
     "output_type": "execute_result"
    }
   ],
   "source": [
    "#Checking No-show unique category\n",
    "df_in['No-show'].unique()"
   ]
  },
  {
   "cell_type": "markdown",
   "metadata": {},
   "source": [
    "## Data preparation"
   ]
  },
  {
   "cell_type": "code",
   "execution_count": 16,
   "metadata": {},
   "outputs": [],
   "source": [
    "#Renaming columns & changing PatientId column type to int  \n",
    "df_in.rename({'No-show':'NoShow'},axis=1,inplace=True)\n",
    "df_in['PatientId'] = df_in['PatientId'].apply(lambda x: int(x))\n",
    "df_in['NoShow'] = df_in['NoShow'].apply(lambda x: str(x))"
   ]
  },
  {
   "cell_type": "code",
   "execution_count": 20,
   "metadata": {},
   "outputs": [
    {
     "data": {
      "text/html": [
       "<div>\n",
       "<style scoped>\n",
       "    .dataframe tbody tr th:only-of-type {\n",
       "        vertical-align: middle;\n",
       "    }\n",
       "\n",
       "    .dataframe tbody tr th {\n",
       "        vertical-align: top;\n",
       "    }\n",
       "\n",
       "    .dataframe thead th {\n",
       "        text-align: right;\n",
       "    }\n",
       "</style>\n",
       "<table border=\"1\" class=\"dataframe\">\n",
       "  <thead>\n",
       "    <tr style=\"text-align: right;\">\n",
       "      <th></th>\n",
       "      <th>PatientId</th>\n",
       "      <th>AppointmentID</th>\n",
       "      <th>Gender</th>\n",
       "      <th>ScheduledDay</th>\n",
       "      <th>AppointmentDay</th>\n",
       "      <th>Age</th>\n",
       "      <th>Neighbourhood</th>\n",
       "      <th>Scholarship</th>\n",
       "      <th>Hipertension</th>\n",
       "      <th>Diabetes</th>\n",
       "      <th>Alcoholism</th>\n",
       "      <th>Handcap</th>\n",
       "      <th>SMS_received</th>\n",
       "      <th>NoShow</th>\n",
       "    </tr>\n",
       "  </thead>\n",
       "  <tbody>\n",
       "    <tr>\n",
       "      <th>0</th>\n",
       "      <td>29872499824296</td>\n",
       "      <td>5642903</td>\n",
       "      <td>F</td>\n",
       "      <td>2016-04-29T18:38:08Z</td>\n",
       "      <td>2016-04-29T00:00:00Z</td>\n",
       "      <td>62</td>\n",
       "      <td>JARDIM DA PENHA</td>\n",
       "      <td>0</td>\n",
       "      <td>1</td>\n",
       "      <td>0</td>\n",
       "      <td>0</td>\n",
       "      <td>0</td>\n",
       "      <td>0</td>\n",
       "      <td>No</td>\n",
       "    </tr>\n",
       "    <tr>\n",
       "      <th>1</th>\n",
       "      <td>558997776694438</td>\n",
       "      <td>5642503</td>\n",
       "      <td>M</td>\n",
       "      <td>2016-04-29T16:08:27Z</td>\n",
       "      <td>2016-04-29T00:00:00Z</td>\n",
       "      <td>56</td>\n",
       "      <td>JARDIM DA PENHA</td>\n",
       "      <td>0</td>\n",
       "      <td>0</td>\n",
       "      <td>0</td>\n",
       "      <td>0</td>\n",
       "      <td>0</td>\n",
       "      <td>0</td>\n",
       "      <td>No</td>\n",
       "    </tr>\n",
       "    <tr>\n",
       "      <th>2</th>\n",
       "      <td>4262962299951</td>\n",
       "      <td>5642549</td>\n",
       "      <td>F</td>\n",
       "      <td>2016-04-29T16:19:04Z</td>\n",
       "      <td>2016-04-29T00:00:00Z</td>\n",
       "      <td>62</td>\n",
       "      <td>MATA DA PRAIA</td>\n",
       "      <td>0</td>\n",
       "      <td>0</td>\n",
       "      <td>0</td>\n",
       "      <td>0</td>\n",
       "      <td>0</td>\n",
       "      <td>0</td>\n",
       "      <td>No</td>\n",
       "    </tr>\n",
       "    <tr>\n",
       "      <th>3</th>\n",
       "      <td>867951213174</td>\n",
       "      <td>5642828</td>\n",
       "      <td>F</td>\n",
       "      <td>2016-04-29T17:29:31Z</td>\n",
       "      <td>2016-04-29T00:00:00Z</td>\n",
       "      <td>8</td>\n",
       "      <td>PONTAL DE CAMBURI</td>\n",
       "      <td>0</td>\n",
       "      <td>0</td>\n",
       "      <td>0</td>\n",
       "      <td>0</td>\n",
       "      <td>0</td>\n",
       "      <td>0</td>\n",
       "      <td>No</td>\n",
       "    </tr>\n",
       "    <tr>\n",
       "      <th>4</th>\n",
       "      <td>8841186448183</td>\n",
       "      <td>5642494</td>\n",
       "      <td>F</td>\n",
       "      <td>2016-04-29T16:07:23Z</td>\n",
       "      <td>2016-04-29T00:00:00Z</td>\n",
       "      <td>56</td>\n",
       "      <td>JARDIM DA PENHA</td>\n",
       "      <td>0</td>\n",
       "      <td>1</td>\n",
       "      <td>1</td>\n",
       "      <td>0</td>\n",
       "      <td>0</td>\n",
       "      <td>0</td>\n",
       "      <td>No</td>\n",
       "    </tr>\n",
       "    <tr>\n",
       "      <th>...</th>\n",
       "      <td>...</td>\n",
       "      <td>...</td>\n",
       "      <td>...</td>\n",
       "      <td>...</td>\n",
       "      <td>...</td>\n",
       "      <td>...</td>\n",
       "      <td>...</td>\n",
       "      <td>...</td>\n",
       "      <td>...</td>\n",
       "      <td>...</td>\n",
       "      <td>...</td>\n",
       "      <td>...</td>\n",
       "      <td>...</td>\n",
       "      <td>...</td>\n",
       "    </tr>\n",
       "    <tr>\n",
       "      <th>110522</th>\n",
       "      <td>2572134369293</td>\n",
       "      <td>5651768</td>\n",
       "      <td>F</td>\n",
       "      <td>2016-05-03T09:15:35Z</td>\n",
       "      <td>2016-06-07T00:00:00Z</td>\n",
       "      <td>56</td>\n",
       "      <td>MARIA ORTIZ</td>\n",
       "      <td>0</td>\n",
       "      <td>0</td>\n",
       "      <td>0</td>\n",
       "      <td>0</td>\n",
       "      <td>0</td>\n",
       "      <td>1</td>\n",
       "      <td>No</td>\n",
       "    </tr>\n",
       "    <tr>\n",
       "      <th>110523</th>\n",
       "      <td>3596266328735</td>\n",
       "      <td>5650093</td>\n",
       "      <td>F</td>\n",
       "      <td>2016-05-03T07:27:33Z</td>\n",
       "      <td>2016-06-07T00:00:00Z</td>\n",
       "      <td>51</td>\n",
       "      <td>MARIA ORTIZ</td>\n",
       "      <td>0</td>\n",
       "      <td>0</td>\n",
       "      <td>0</td>\n",
       "      <td>0</td>\n",
       "      <td>0</td>\n",
       "      <td>1</td>\n",
       "      <td>No</td>\n",
       "    </tr>\n",
       "    <tr>\n",
       "      <th>110524</th>\n",
       "      <td>15576631729893</td>\n",
       "      <td>5630692</td>\n",
       "      <td>F</td>\n",
       "      <td>2016-04-27T16:03:52Z</td>\n",
       "      <td>2016-06-07T00:00:00Z</td>\n",
       "      <td>21</td>\n",
       "      <td>MARIA ORTIZ</td>\n",
       "      <td>0</td>\n",
       "      <td>0</td>\n",
       "      <td>0</td>\n",
       "      <td>0</td>\n",
       "      <td>0</td>\n",
       "      <td>1</td>\n",
       "      <td>No</td>\n",
       "    </tr>\n",
       "    <tr>\n",
       "      <th>110525</th>\n",
       "      <td>92134931435557</td>\n",
       "      <td>5630323</td>\n",
       "      <td>F</td>\n",
       "      <td>2016-04-27T15:09:23Z</td>\n",
       "      <td>2016-06-07T00:00:00Z</td>\n",
       "      <td>38</td>\n",
       "      <td>MARIA ORTIZ</td>\n",
       "      <td>0</td>\n",
       "      <td>0</td>\n",
       "      <td>0</td>\n",
       "      <td>0</td>\n",
       "      <td>0</td>\n",
       "      <td>1</td>\n",
       "      <td>No</td>\n",
       "    </tr>\n",
       "    <tr>\n",
       "      <th>110526</th>\n",
       "      <td>377511518121127</td>\n",
       "      <td>5629448</td>\n",
       "      <td>F</td>\n",
       "      <td>2016-04-27T13:30:56Z</td>\n",
       "      <td>2016-06-07T00:00:00Z</td>\n",
       "      <td>54</td>\n",
       "      <td>MARIA ORTIZ</td>\n",
       "      <td>0</td>\n",
       "      <td>0</td>\n",
       "      <td>0</td>\n",
       "      <td>0</td>\n",
       "      <td>0</td>\n",
       "      <td>1</td>\n",
       "      <td>No</td>\n",
       "    </tr>\n",
       "  </tbody>\n",
       "</table>\n",
       "<p>110527 rows × 14 columns</p>\n",
       "</div>"
      ],
      "text/plain": [
       "              PatientId  AppointmentID Gender          ScheduledDay  \\\n",
       "0        29872499824296        5642903      F  2016-04-29T18:38:08Z   \n",
       "1       558997776694438        5642503      M  2016-04-29T16:08:27Z   \n",
       "2         4262962299951        5642549      F  2016-04-29T16:19:04Z   \n",
       "3          867951213174        5642828      F  2016-04-29T17:29:31Z   \n",
       "4         8841186448183        5642494      F  2016-04-29T16:07:23Z   \n",
       "...                 ...            ...    ...                   ...   \n",
       "110522    2572134369293        5651768      F  2016-05-03T09:15:35Z   \n",
       "110523    3596266328735        5650093      F  2016-05-03T07:27:33Z   \n",
       "110524   15576631729893        5630692      F  2016-04-27T16:03:52Z   \n",
       "110525   92134931435557        5630323      F  2016-04-27T15:09:23Z   \n",
       "110526  377511518121127        5629448      F  2016-04-27T13:30:56Z   \n",
       "\n",
       "              AppointmentDay  Age      Neighbourhood  Scholarship  \\\n",
       "0       2016-04-29T00:00:00Z   62    JARDIM DA PENHA            0   \n",
       "1       2016-04-29T00:00:00Z   56    JARDIM DA PENHA            0   \n",
       "2       2016-04-29T00:00:00Z   62      MATA DA PRAIA            0   \n",
       "3       2016-04-29T00:00:00Z    8  PONTAL DE CAMBURI            0   \n",
       "4       2016-04-29T00:00:00Z   56    JARDIM DA PENHA            0   \n",
       "...                      ...  ...                ...          ...   \n",
       "110522  2016-06-07T00:00:00Z   56        MARIA ORTIZ            0   \n",
       "110523  2016-06-07T00:00:00Z   51        MARIA ORTIZ            0   \n",
       "110524  2016-06-07T00:00:00Z   21        MARIA ORTIZ            0   \n",
       "110525  2016-06-07T00:00:00Z   38        MARIA ORTIZ            0   \n",
       "110526  2016-06-07T00:00:00Z   54        MARIA ORTIZ            0   \n",
       "\n",
       "        Hipertension  Diabetes  Alcoholism  Handcap  SMS_received NoShow  \n",
       "0                  1         0           0        0             0     No  \n",
       "1                  0         0           0        0             0     No  \n",
       "2                  0         0           0        0             0     No  \n",
       "3                  0         0           0        0             0     No  \n",
       "4                  1         1           0        0             0     No  \n",
       "...              ...       ...         ...      ...           ...    ...  \n",
       "110522             0         0           0        0             1     No  \n",
       "110523             0         0           0        0             1     No  \n",
       "110524             0         0           0        0             1     No  \n",
       "110525             0         0           0        0             1     No  \n",
       "110526             0         0           0        0             1     No  \n",
       "\n",
       "[110527 rows x 14 columns]"
      ]
     },
     "execution_count": 20,
     "metadata": {},
     "output_type": "execute_result"
    }
   ],
   "source": [
    "df_in"
   ]
  },
  {
   "cell_type": "code",
   "execution_count": 33,
   "metadata": {},
   "outputs": [
    {
     "data": {
      "text/plain": [
       "array(['04', '05', '06'], dtype=object)"
      ]
     },
     "execution_count": 33,
     "metadata": {},
     "output_type": "execute_result"
    },
    {
     "data": {
      "image/png": "[encoded data removed]",
      "text/plain": [
       "<Figure size 432x288 with 1 Axes>"
      ]
     },
     "metadata": {
      "needs_background": "light"
     },
     "output_type": "display_data"
    }
   ],
   "source": [
    "df_in['App_month'] = df_in['AppointmentDay'].apply(lambda x: x.split(\"-\")[1])\n",
    "temp_ = df_in[df_in['NoShow']=='Yes']\n",
    "axAD = temp_.App_month.hist(edgecolor='black', linewidth=1.5)\n",
    "axAD.set_xlabel('Appointment Month')\n",
    "axAD.set_ylabel('Number of patients')\n",
    "axAD.set_title('Appointment Month Vs Number of patients')\n",
    "pd.DataFrame(temp_['App_month'].describe())\n",
    "df_in['App_month'].unique()\n"
   ]
  },
  {
   "cell_type": "code",
   "execution_count": 36,
   "metadata": {},
   "outputs": [
    {
     "data": {
      "text/plain": [
       "array(['04', '05', '06'], dtype=object)"
      ]
     },
     "execution_count": 36,
     "metadata": {},
     "output_type": "execute_result"
    },
    {
     "data": {
      "image/png": "[encoded data removed]",
      "text/plain": [
       "<Figure size 432x288 with 1 Axes>"
      ]
     },
     "metadata": {
      "needs_background": "light"
     },
     "output_type": "display_data"
    }
   ],
   "source": [
    "df_in['Sch_month'] = df_in['ScheduledDay'].apply(lambda x: x.split(\"-\")[1])\n",
    "axSD = temp_.App_month.hist(edgecolor='black', linewidth=1.5)\n",
    "axSD.set_xlabel('Schedueled Month')\n",
    "axSD.set_ylabel('Number of patients')\n",
    "axSD.set_title('Scheduled Month Vs Number of patients')\n",
    "pd.DataFrame(temp_['Sch_month'].describe())\n",
    "df_in['App_month'].unique()"
   ]
  },
  {
   "cell_type": "markdown",
   "metadata": {},
   "source": [
    "## Scheduled month & Appointment month shows that the No-show appointment is highest for the month of May (05)"
   ]
  },
  {
   "cell_type": "code",
   "execution_count": 35,
   "metadata": {},
   "outputs": [
    {
     "data": {
      "text/plain": [
       "0"
      ]
     },
     "execution_count": 35,
     "metadata": {},
     "output_type": "execute_result"
    }
   ],
   "source": [
    "# Dropping rows where age is non positive\n",
    "df_in = df_in.drop(df_in[df_in.Age < 1].index)\n",
    "len(df_in[df_in.Age < 1]) #Check for drop"
   ]
  },
  {
   "cell_type": "code",
   "execution_count": 39,
   "metadata": {},
   "outputs": [
    {
     "data": {
      "text/html": [
       "<div>\n",
       "<style scoped>\n",
       "    .dataframe tbody tr th:only-of-type {\n",
       "        vertical-align: middle;\n",
       "    }\n",
       "\n",
       "    .dataframe tbody tr th {\n",
       "        vertical-align: top;\n",
       "    }\n",
       "\n",
       "    .dataframe thead th {\n",
       "        text-align: right;\n",
       "    }\n",
       "</style>\n",
       "<table border=\"1\" class=\"dataframe\">\n",
       "  <thead>\n",
       "    <tr style=\"text-align: right;\">\n",
       "      <th></th>\n",
       "      <th>PatientId</th>\n",
       "      <th>AppointmentID</th>\n",
       "      <th>Age</th>\n",
       "      <th>Scholarship</th>\n",
       "      <th>Hipertension</th>\n",
       "      <th>Diabetes</th>\n",
       "      <th>Alcoholism</th>\n",
       "      <th>Handcap</th>\n",
       "      <th>SMS_received</th>\n",
       "    </tr>\n",
       "  </thead>\n",
       "  <tbody>\n",
       "    <tr>\n",
       "      <th>PatientId</th>\n",
       "      <td>1.000000</td>\n",
       "      <td>0.004189</td>\n",
       "      <td>-0.002970</td>\n",
       "      <td>-0.002172</td>\n",
       "      <td>-0.006155</td>\n",
       "      <td>0.001873</td>\n",
       "      <td>0.011361</td>\n",
       "      <td>-0.007989</td>\n",
       "      <td>-0.008468</td>\n",
       "    </tr>\n",
       "    <tr>\n",
       "      <th>AppointmentID</th>\n",
       "      <td>0.004189</td>\n",
       "      <td>1.000000</td>\n",
       "      <td>-0.023401</td>\n",
       "      <td>0.022379</td>\n",
       "      <td>0.012092</td>\n",
       "      <td>0.022505</td>\n",
       "      <td>0.033159</td>\n",
       "      <td>0.013993</td>\n",
       "      <td>-0.254682</td>\n",
       "    </tr>\n",
       "    <tr>\n",
       "      <th>Age</th>\n",
       "      <td>-0.002970</td>\n",
       "      <td>-0.023401</td>\n",
       "      <td>1.000000</td>\n",
       "      <td>-0.112699</td>\n",
       "      <td>0.502091</td>\n",
       "      <td>0.290631</td>\n",
       "      <td>0.090391</td>\n",
       "      <td>0.074073</td>\n",
       "      <td>0.005251</td>\n",
       "    </tr>\n",
       "    <tr>\n",
       "      <th>Scholarship</th>\n",
       "      <td>-0.002172</td>\n",
       "      <td>0.022379</td>\n",
       "      <td>-0.112699</td>\n",
       "      <td>1.000000</td>\n",
       "      <td>-0.024530</td>\n",
       "      <td>-0.027622</td>\n",
       "      <td>0.033527</td>\n",
       "      <td>-0.009890</td>\n",
       "      <td>-0.000010</td>\n",
       "    </tr>\n",
       "    <tr>\n",
       "      <th>Hipertension</th>\n",
       "      <td>-0.006155</td>\n",
       "      <td>0.012092</td>\n",
       "      <td>0.502091</td>\n",
       "      <td>-0.024530</td>\n",
       "      <td>1.000000</td>\n",
       "      <td>0.430827</td>\n",
       "      <td>0.085459</td>\n",
       "      <td>0.078209</td>\n",
       "      <td>-0.008805</td>\n",
       "    </tr>\n",
       "    <tr>\n",
       "      <th>Diabetes</th>\n",
       "      <td>0.001873</td>\n",
       "      <td>0.022505</td>\n",
       "      <td>0.290631</td>\n",
       "      <td>-0.027622</td>\n",
       "      <td>0.430827</td>\n",
       "      <td>1.000000</td>\n",
       "      <td>0.016874</td>\n",
       "      <td>0.056377</td>\n",
       "      <td>-0.016136</td>\n",
       "    </tr>\n",
       "    <tr>\n",
       "      <th>Alcoholism</th>\n",
       "      <td>0.011361</td>\n",
       "      <td>0.033159</td>\n",
       "      <td>0.090391</td>\n",
       "      <td>0.033527</td>\n",
       "      <td>0.085459</td>\n",
       "      <td>0.016874</td>\n",
       "      <td>1.000000</td>\n",
       "      <td>0.003855</td>\n",
       "      <td>-0.027403</td>\n",
       "    </tr>\n",
       "    <tr>\n",
       "      <th>Handcap</th>\n",
       "      <td>-0.007989</td>\n",
       "      <td>0.013993</td>\n",
       "      <td>0.074073</td>\n",
       "      <td>-0.009890</td>\n",
       "      <td>0.078209</td>\n",
       "      <td>0.056377</td>\n",
       "      <td>0.003855</td>\n",
       "      <td>1.000000</td>\n",
       "      <td>-0.025155</td>\n",
       "    </tr>\n",
       "    <tr>\n",
       "      <th>SMS_received</th>\n",
       "      <td>-0.008468</td>\n",
       "      <td>-0.254682</td>\n",
       "      <td>0.005251</td>\n",
       "      <td>-0.000010</td>\n",
       "      <td>-0.008805</td>\n",
       "      <td>-0.016136</td>\n",
       "      <td>-0.027403</td>\n",
       "      <td>-0.025155</td>\n",
       "      <td>1.000000</td>\n",
       "    </tr>\n",
       "  </tbody>\n",
       "</table>\n",
       "</div>"
      ],
      "text/plain": [
       "               PatientId  AppointmentID       Age  Scholarship  Hipertension  \\\n",
       "PatientId       1.000000       0.004189 -0.002970    -0.002172     -0.006155   \n",
       "AppointmentID   0.004189       1.000000 -0.023401     0.022379      0.012092   \n",
       "Age            -0.002970      -0.023401  1.000000    -0.112699      0.502091   \n",
       "Scholarship    -0.002172       0.022379 -0.112699     1.000000     -0.024530   \n",
       "Hipertension   -0.006155       0.012092  0.502091    -0.024530      1.000000   \n",
       "Diabetes        0.001873       0.022505  0.290631    -0.027622      0.430827   \n",
       "Alcoholism      0.011361       0.033159  0.090391     0.033527      0.085459   \n",
       "Handcap        -0.007989       0.013993  0.074073    -0.009890      0.078209   \n",
       "SMS_received   -0.008468      -0.254682  0.005251    -0.000010     -0.008805   \n",
       "\n",
       "               Diabetes  Alcoholism   Handcap  SMS_received  \n",
       "PatientId      0.001873    0.011361 -0.007989     -0.008468  \n",
       "AppointmentID  0.022505    0.033159  0.013993     -0.254682  \n",
       "Age            0.290631    0.090391  0.074073      0.005251  \n",
       "Scholarship   -0.027622    0.033527 -0.009890     -0.000010  \n",
       "Hipertension   0.430827    0.085459  0.078209     -0.008805  \n",
       "Diabetes       1.000000    0.016874  0.056377     -0.016136  \n",
       "Alcoholism     0.016874    1.000000  0.003855     -0.027403  \n",
       "Handcap        0.056377    0.003855  1.000000     -0.025155  \n",
       "SMS_received  -0.016136   -0.027403 -0.025155      1.000000  "
      ]
     },
     "execution_count": 39,
     "metadata": {},
     "output_type": "execute_result"
    }
   ],
   "source": [
    "df_in.corr() #Checking variable correleation\n",
    "# Shows Age Vs hipertension a positive correlation 0.50"
   ]
  },
  {
   "cell_type": "markdown",
   "metadata": {},
   "source": [
    "<a id='eda'></a>\n",
    "## Exploratory Data Analysis\n",
    "\n",
    "\n",
    "\n",
    "\n",
    "### Research Question 1 : Who is the most health consious patient & how many times he didnt visited as per appointment?"
   ]
  },
  {
   "cell_type": "code",
   "execution_count": 40,
   "metadata": {},
   "outputs": [
    {
     "name": "stdout",
     "output_type": "stream",
     "text": [
      "Patient with maximum appointments>>\n",
      "Patient Id:822145925426128 ,Gender:M ,Age:38 ,Neighbourhood:REDENÇÃO ,Count of appointment:88 ,Percentage of no-show:1.136%\n",
      "This patient is health consious as:\n",
      "    Scholarship  Hipertension  Diabetes  Alcoholism  Handcap\n",
      "0            0             0         0           0        0\n",
      "Percentage show as per appointment: \n"
     ]
    }
   ],
   "source": [
    "# Use this, and more code cells, to explore your data. Don't forget to add\n",
    "# \n",
    "df_group = df_in.groupby(['PatientId']).NoShow.agg([('Join', ','.join)])  # aggregate separated with commas\n",
    "df_group['NoShow'] = df_group.Join.map(lambda x: [i.strip() for i in x.split(\",\")]) #convert typw\n",
    "df_group['Count_yes'] = df_group['Join'].apply(lambda x : x.count('Yes'))# Get count\n",
    "df_group['Count'] = df_group.NoShow.apply(len) # total number of visits\n",
    "df_group['Percentage_NoShow'] = (df_group['Count_yes'] /  df_group['Count'])*100\n",
    "is_max = df_group['Count'] ==max(df_group['Count'])  \n",
    "df_health_consious = df_group[is_max]   \n",
    "df_health_consious.reset_index(level=0, inplace=True)\n",
    "df_join =pd.merge(df_in,df_health_consious,on=['PatientId'])   # inner join\n",
    "\n",
    "print(\"Patient with maximum appointments>>\\nPatient Id:{} ,Gender:{} ,Age:{} ,Neighbourhood:{} ,Count of appointment:{} ,Percentage of no-show:{}%\".format(df_join['PatientId'][0],df_join['Gender'][0],df_join['Age'][0],df_join['Neighbourhood'][0],df_join['Count'][0],np.round(df_join['Percentage_NoShow'][0],3)))\n",
    "print(\"This patient is health consious as:\\n\",df_join[['Scholarship','Hipertension','Diabetes','Alcoholism','Handcap']].drop_duplicates())\n",
    "print(\"Percentage show as per appointment: \",)"
   ]
  },
  {
   "cell_type": "markdown",
   "metadata": {},
   "source": [
    "### Finding:- Patient Id:822145925426128 ,Gender:M ,Age:38 ,Neighbourhood:REDENÇÃO ,Count of appointment:88 ,Percentage of no-show:1.136%\n",
    "This patient is most health consious as at age of 38 he is doing repeated checkups with less no-show count & no diseases like hipertension,diabetes found for him."
   ]
  },
  {
   "cell_type": "markdown",
   "metadata": {},
   "source": [
    "### Research Question 2:  Does Gender play any role for Show / No-Show counts?"
   ]
  },
  {
   "cell_type": "code",
   "execution_count": 41,
   "metadata": {},
   "outputs": [
    {
     "name": "stderr",
     "output_type": "stream",
     "text": [
      "C:\\Users\\I0001327\\AppData\\Local\\Continuum\\anaconda3\\lib\\site-packages\\ipykernel_launcher.py:48: UserWarning: Matplotlib is currently using module://ipykernel.pylab.backend_inline, which is a non-GUI backend, so cannot show the figure.\n"
     ]
    },
    {
     "data": {
      "image/png": "[encoded data removed]",
      "text/plain": [
       "<Figure size 1080x1080 with 1 Axes>"
      ]
     },
     "metadata": {
      "needs_background": "light"
     },
     "output_type": "display_data"
    }
   ],
   "source": [
    "# Continue to explore the data to address your additional research\n",
    "isM = df_in.Gender=='M'  #Gender male\n",
    "isNs = df_in.NoShow=='Yes'  #All No-show-Yes\n",
    "isS = df_in.NoShow=='No' #All Show-up(No-show-No)\n",
    "isF = df_in.Gender=='F'  #Gender Female\n",
    "isM_Ns = (df_in.Gender=='M') & (df_in.NoShow =='Yes')  #Male no show\n",
    "isF_Ns = (df_in.Gender=='F') & (df_in.NoShow =='Yes')  #Female no show\n",
    "isM_S = (df_in.Gender=='M') & (df_in.NoShow =='No')  #Male show-up\n",
    "isF_S = (df_in.Gender=='F') & (df_in.NoShow =='No')  #Female show-up\n",
    "\n",
    "df_Ns=df_in[isNs]   #No-show-Yea\n",
    "df_S=df_in[isS]   #No-show - No\n",
    "df_M_Ns=df_in[isM_Ns]   #No-show-Male\n",
    "df_F_Ns=df_in[isF_Ns]   #No-show-Female\n",
    "df_M_S=df_in[isM_S]   #Show - Male\n",
    "df_F_S =df_in[isF_S]   #Show - Female\n",
    "\n",
    "#Perctage Wise Plot between Male & female  \n",
    "fig = plt.figure()\n",
    "ax = fig.add_subplot(111)\n",
    "fig.set_figheight(15)\n",
    "fig.set_figwidth(15)\n",
    "width=1\n",
    "rect1 = ax.bar(1,(len(df_M_Ns)/len(df_in[isM]))*100,width,color='b',label='Count',align='edge') # Male NoShow perc\n",
    "rect2 = ax.bar(2,(len(df_F_Ns)/len(df_in[isF]))*100,width,color='r',label='Count',align='edge') #Female NoShow perc \n",
    "rect3 = ax.bar(5,(len(df_M_S)/len(df_in[isM]))*100,width,color='b',label='Count',align='edge') #Male Show perc\n",
    "rect4 = ax.bar(6,(len(df_F_S)/len(df_in[isF]))*100,width,color='r',label='Count',align='edge') #Female Show perc\n",
    "rect5 = ax.bar(9,(len(df_M_Ns)/len(df_in[isNs]))*100,width,color='b',label='Count',align='edge') #Male No-Show out of total no-show perc\n",
    "rect6 = ax.bar(10,(len(df_F_Ns)/len(df_in[isNs]))*100,width,color='r',label='Count',align='edge') #Female No-Show out of total no-show perc\n",
    "rect7 = ax.bar(13,(len(df_in[isM])/len(df_in))*100,width,color='b',label='Count',align='edge') #Male count-perc\n",
    "rect8 = ax.bar(14,(len(df_in[isF])/len(df_in))*100,width,color='r',label='Count',align='edge') #Female count-perc\n",
    "a =[np.round((len(df_M_Ns)/len(df_in[isM]))*100,3) ,np.round((len(df_F_Ns)/len(df_in[isF]))*100,3), np.round((len(df_M_S)/len(df_in[isM]))*100,3),np.round( (len(df_F_S)/len(df_in[isF]))*100,3),np.round((len(df_M_Ns)/len(df_in[isNs]))*100,3),np.round((len(df_F_Ns)/len(df_in[isNs]))*100,3),np.round((len(df_in[isM])/len(df_in))*100,3),np.round((len(df_in[isF])/len(df_in))*100,3)]\n",
    "\n",
    "ax.text(1.2 , a[0]+0.3 , str(a[0]),  color = 'black', fontweight = 'bold')\n",
    "ax.text(2.2 , a[1]+0.3 , str(a[1]),  color = 'black', fontweight = 'bold')\n",
    "ax.text(5.2 , a[2]+0.3 , str(a[2]),  color = 'black', fontweight = 'bold')\n",
    "ax.text(6.2 , a[3]+0.3 , str(a[3]),  color = 'black', fontweight = 'bold')\n",
    "ax.text(9.2 , a[4]+0.3 , str(a[4]),  color = 'black', fontweight = 'bold')\n",
    "ax.text(10.2 , a[5]+0.3 , str(a[5]),  color = 'black', fontweight = 'bold')\n",
    "ax.text(13.2 , a[6]+0.3 , str(a[6]),  color = 'black', fontweight = 'bold')\n",
    "ax.text(14.2 , a[7]+0.3 , str(a[7]),  color = 'black', fontweight = 'bold')\n",
    "\n",
    "\n",
    "ax.legend((rect1, rect2,rect3,rect4), ('Men', 'Women'))\n",
    "ax.set_xticklabels(( '','No-show out of\\nrespective Gender','', 'Show out of\\nrespective Gender','','No-show out of\\ntotal no-show count','','Count Male Vs Female'))\n",
    "ax.set_ylabel('Count in percentage (%)')\n",
    "ax.set_title('Gender Vs Show-noShow Appointment Analysis', fontsize = 14, fontweight ='bold')\n",
    "fig.show();\n",
    "    \n"
   ]
  },
  {
   "cell_type": "markdown",
   "metadata": {},
   "source": [
    "### Finding:- Gender doesnt play major role as the bar graph shows above, but percentage wise it shows for No-show count is more for females considering the total count for the respective gender instead of total dataframe count to avoid Simpson Paradox \n",
    "Females are contributing more towards the no-show count, hence showing high bar in the 6th bar. But 1st bar shows that similar percentage of females compared to male are not showing up for appointment."
   ]
  },
  {
   "cell_type": "markdown",
   "metadata": {},
   "source": [
    "### Research Question 3: Which Neighbourhood result in maximum no-show appointments?"
   ]
  },
  {
   "cell_type": "code",
   "execution_count": 53,
   "metadata": {},
   "outputs": [
    {
     "data": {
      "text/html": [
       "<div>\n",
       "<style scoped>\n",
       "    .dataframe tbody tr th:only-of-type {\n",
       "        vertical-align: middle;\n",
       "    }\n",
       "\n",
       "    .dataframe tbody tr th {\n",
       "        vertical-align: top;\n",
       "    }\n",
       "\n",
       "    .dataframe thead th {\n",
       "        text-align: right;\n",
       "    }\n",
       "</style>\n",
       "<table border=\"1\" class=\"dataframe\">\n",
       "  <thead>\n",
       "    <tr style=\"text-align: right;\">\n",
       "      <th></th>\n",
       "      <th>Neighbourhood</th>\n",
       "    </tr>\n",
       "  </thead>\n",
       "  <tbody>\n",
       "    <tr>\n",
       "      <th>count</th>\n",
       "      <td>80.000000</td>\n",
       "    </tr>\n",
       "    <tr>\n",
       "      <th>mean</th>\n",
       "      <td>271.000000</td>\n",
       "    </tr>\n",
       "    <tr>\n",
       "      <th>std</th>\n",
       "      <td>271.361546</td>\n",
       "    </tr>\n",
       "    <tr>\n",
       "      <th>min</th>\n",
       "      <td>1.000000</td>\n",
       "    </tr>\n",
       "    <tr>\n",
       "      <th>25%</th>\n",
       "      <td>73.750000</td>\n",
       "    </tr>\n",
       "    <tr>\n",
       "      <th>50%</th>\n",
       "      <td>181.000000</td>\n",
       "    </tr>\n",
       "    <tr>\n",
       "      <th>75%</th>\n",
       "      <td>419.750000</td>\n",
       "    </tr>\n",
       "    <tr>\n",
       "      <th>max</th>\n",
       "      <td>1432.000000</td>\n",
       "    </tr>\n",
       "  </tbody>\n",
       "</table>\n",
       "</div>"
      ],
      "text/plain": [
       "       Neighbourhood\n",
       "count      80.000000\n",
       "mean      271.000000\n",
       "std       271.361546\n",
       "min         1.000000\n",
       "25%        73.750000\n",
       "50%       181.000000\n",
       "75%       419.750000\n",
       "max      1432.000000"
      ]
     },
     "execution_count": 53,
     "metadata": {},
     "output_type": "execute_result"
    }
   ],
   "source": [
    "df =df_in[['Neighbourhood','NoShow']]\n",
    "df =df[df['NoShow'] =='Yes']  # Filter for no-show\n",
    "test = df['Neighbourhood'].value_counts(ascending=False) # creating number of unique value counts\n",
    "pd.DataFrame(test).describe()\n",
    "\n"
   ]
  },
  {
   "cell_type": "markdown",
   "metadata": {},
   "source": [
    "## Histogram plot to show Neighbourhood Vs Number of No-show patients for top 75% No-show patient counts"
   ]
  },
  {
   "cell_type": "code",
   "execution_count": 54,
   "metadata": {},
   "outputs": [
    {
     "data": {
      "text/plain": [
       "Text(0.5, 1.0, 'Neighbourhood Vs Number of No-show patients for top 75% No-show counts')"
      ]
     },
     "execution_count": 54,
     "metadata": {},
     "output_type": "execute_result"
    },
    {
     "data": {
      "image/png": "[encoded data removed]",
      "text/plain": [
       "<Figure size 1440x1080 with 1 Axes>"
      ]
     },
     "metadata": {
      "needs_background": "light"
     },
     "output_type": "display_data"
    }
   ],
   "source": [
    "test1 = test[test > 419.75] #Creating custom filter to see higher NoShow counts with the respective neighbourhoods\n",
    "axN =test1.plot.bar(x='Index',y='Neighbourhood',figsize=(20,15));\n",
    "axN.set_xlabel('Neighbourhood')\n",
    "axN.set_ylabel('Number of NoShow Patients')\n",
    "axN.set_title('Neighbourhood Vs Number of No-show patients for top 75% No-show counts')\n"
   ]
  },
  {
   "cell_type": "code",
   "execution_count": 55,
   "metadata": {},
   "outputs": [
    {
     "name": "stdout",
     "output_type": "stream",
     "text": [
      "Top 3 places with maximum no-show appointments are:\n",
      "PLACE-Count\n",
      "1)JARDIM CAMBURI-1432\n",
      "2)MARIA ORTIZ-1194\n",
      "3)ITARARÉ-898\n"
     ]
    }
   ],
   "source": [
    "print(\"Top 3 places with maximum no-show appointments are:\\nPLACE-Count\\n1){}-{}\\n2){}-{}\\n3){}-{}\".format(test.index[0],test[0],test.index[1],test[1],test.index[2],test[2]))"
   ]
  },
  {
   "cell_type": "code",
   "execution_count": 56,
   "metadata": {},
   "outputs": [
    {
     "name": "stdout",
     "output_type": "stream",
     "text": [
      "Top 3 places with least no-show appointments are:\n",
      "PLACE-Count\n",
      "1)AEROPORTO-1\n",
      "2)ILHA DO FRADE-2\n",
      "3)ILHAS OCEÂNICAS DE TRINDADE-2\n"
     ]
    }
   ],
   "source": [
    "length = len(test)\n",
    "print(\"Top 3 places with least no-show appointments are:\\nPLACE-Count\\n1){}-{}\\n2){}-{}\\n3){}-{}\".format(test.index[length-1],test[length-1],test.index[length-2],test[length-2],test.index[length-3],test[length-3]))"
   ]
  },
  {
   "cell_type": "markdown",
   "metadata": {},
   "source": [
    "##  Looking deeply into the data for the Neighbourhood : 'JARDIM CAMBURI' which shows max NoShow appointment records\n"
   ]
  },
  {
   "cell_type": "code",
   "execution_count": 57,
   "metadata": {},
   "outputs": [
    {
     "data": {
      "text/html": [
       "<div>\n",
       "<style scoped>\n",
       "    .dataframe tbody tr th:only-of-type {\n",
       "        vertical-align: middle;\n",
       "    }\n",
       "\n",
       "    .dataframe tbody tr th {\n",
       "        vertical-align: top;\n",
       "    }\n",
       "\n",
       "    .dataframe thead th {\n",
       "        text-align: right;\n",
       "    }\n",
       "</style>\n",
       "<table border=\"1\" class=\"dataframe\">\n",
       "  <thead>\n",
       "    <tr style=\"text-align: right;\">\n",
       "      <th></th>\n",
       "      <th>PatientId</th>\n",
       "      <th>AppointmentID</th>\n",
       "      <th>Gender</th>\n",
       "      <th>ScheduledDay</th>\n",
       "      <th>AppointmentDay</th>\n",
       "      <th>Age</th>\n",
       "      <th>Neighbourhood</th>\n",
       "      <th>Scholarship</th>\n",
       "      <th>Hipertension</th>\n",
       "      <th>Diabetes</th>\n",
       "      <th>Alcoholism</th>\n",
       "      <th>Handcap</th>\n",
       "      <th>SMS_received</th>\n",
       "      <th>NoShow</th>\n",
       "      <th>App_month</th>\n",
       "      <th>Sch_month</th>\n",
       "    </tr>\n",
       "  </thead>\n",
       "  <tbody>\n",
       "    <tr>\n",
       "      <th>446</th>\n",
       "      <td>24494241866</td>\n",
       "      <td>5562707</td>\n",
       "      <td>F</td>\n",
       "      <td>2016-04-08T14:13:23Z</td>\n",
       "      <td>2016-04-29T00:00:00Z</td>\n",
       "      <td>60</td>\n",
       "      <td>JARDIM CAMBURI</td>\n",
       "      <td>0</td>\n",
       "      <td>0</td>\n",
       "      <td>0</td>\n",
       "      <td>0</td>\n",
       "      <td>0</td>\n",
       "      <td>1</td>\n",
       "      <td>Yes</td>\n",
       "      <td>04</td>\n",
       "      <td>04</td>\n",
       "    </tr>\n",
       "    <tr>\n",
       "      <th>448</th>\n",
       "      <td>62818436793537</td>\n",
       "      <td>5564809</td>\n",
       "      <td>M</td>\n",
       "      <td>2016-04-11T08:06:06Z</td>\n",
       "      <td>2016-04-29T00:00:00Z</td>\n",
       "      <td>12</td>\n",
       "      <td>JARDIM CAMBURI</td>\n",
       "      <td>0</td>\n",
       "      <td>0</td>\n",
       "      <td>0</td>\n",
       "      <td>0</td>\n",
       "      <td>0</td>\n",
       "      <td>1</td>\n",
       "      <td>Yes</td>\n",
       "      <td>04</td>\n",
       "      <td>04</td>\n",
       "    </tr>\n",
       "    <tr>\n",
       "      <th>575</th>\n",
       "      <td>299778815147872</td>\n",
       "      <td>5609550</td>\n",
       "      <td>M</td>\n",
       "      <td>2016-04-20T16:09:23Z</td>\n",
       "      <td>2016-04-29T00:00:00Z</td>\n",
       "      <td>23</td>\n",
       "      <td>JARDIM CAMBURI</td>\n",
       "      <td>0</td>\n",
       "      <td>0</td>\n",
       "      <td>0</td>\n",
       "      <td>0</td>\n",
       "      <td>0</td>\n",
       "      <td>1</td>\n",
       "      <td>Yes</td>\n",
       "      <td>04</td>\n",
       "      <td>04</td>\n",
       "    </tr>\n",
       "    <tr>\n",
       "      <th>610</th>\n",
       "      <td>3385223672972</td>\n",
       "      <td>5634237</td>\n",
       "      <td>M</td>\n",
       "      <td>2016-04-28T10:37:09Z</td>\n",
       "      <td>2016-04-29T00:00:00Z</td>\n",
       "      <td>48</td>\n",
       "      <td>JARDIM CAMBURI</td>\n",
       "      <td>0</td>\n",
       "      <td>0</td>\n",
       "      <td>0</td>\n",
       "      <td>0</td>\n",
       "      <td>0</td>\n",
       "      <td>0</td>\n",
       "      <td>Yes</td>\n",
       "      <td>04</td>\n",
       "      <td>04</td>\n",
       "    </tr>\n",
       "    <tr>\n",
       "      <th>1960</th>\n",
       "      <td>975822937729569</td>\n",
       "      <td>5628416</td>\n",
       "      <td>M</td>\n",
       "      <td>2016-04-27T10:59:08Z</td>\n",
       "      <td>2016-04-29T00:00:00Z</td>\n",
       "      <td>17</td>\n",
       "      <td>JARDIM CAMBURI</td>\n",
       "      <td>0</td>\n",
       "      <td>0</td>\n",
       "      <td>0</td>\n",
       "      <td>0</td>\n",
       "      <td>0</td>\n",
       "      <td>0</td>\n",
       "      <td>Yes</td>\n",
       "      <td>04</td>\n",
       "      <td>04</td>\n",
       "    </tr>\n",
       "    <tr>\n",
       "      <th>...</th>\n",
       "      <td>...</td>\n",
       "      <td>...</td>\n",
       "      <td>...</td>\n",
       "      <td>...</td>\n",
       "      <td>...</td>\n",
       "      <td>...</td>\n",
       "      <td>...</td>\n",
       "      <td>...</td>\n",
       "      <td>...</td>\n",
       "      <td>...</td>\n",
       "      <td>...</td>\n",
       "      <td>...</td>\n",
       "      <td>...</td>\n",
       "      <td>...</td>\n",
       "      <td>...</td>\n",
       "      <td>...</td>\n",
       "    </tr>\n",
       "    <tr>\n",
       "      <th>109838</th>\n",
       "      <td>5289177614313</td>\n",
       "      <td>5769488</td>\n",
       "      <td>M</td>\n",
       "      <td>2016-06-03T08:53:01Z</td>\n",
       "      <td>2016-06-07T00:00:00Z</td>\n",
       "      <td>68</td>\n",
       "      <td>JARDIM CAMBURI</td>\n",
       "      <td>0</td>\n",
       "      <td>0</td>\n",
       "      <td>0</td>\n",
       "      <td>0</td>\n",
       "      <td>0</td>\n",
       "      <td>1</td>\n",
       "      <td>Yes</td>\n",
       "      <td>06</td>\n",
       "      <td>06</td>\n",
       "    </tr>\n",
       "    <tr>\n",
       "      <th>109992</th>\n",
       "      <td>496891744474147</td>\n",
       "      <td>5765854</td>\n",
       "      <td>F</td>\n",
       "      <td>2016-06-02T13:51:52Z</td>\n",
       "      <td>2016-06-06T00:00:00Z</td>\n",
       "      <td>63</td>\n",
       "      <td>JARDIM CAMBURI</td>\n",
       "      <td>0</td>\n",
       "      <td>0</td>\n",
       "      <td>0</td>\n",
       "      <td>0</td>\n",
       "      <td>0</td>\n",
       "      <td>1</td>\n",
       "      <td>Yes</td>\n",
       "      <td>06</td>\n",
       "      <td>06</td>\n",
       "    </tr>\n",
       "    <tr>\n",
       "      <th>110095</th>\n",
       "      <td>415876789177954</td>\n",
       "      <td>5734648</td>\n",
       "      <td>F</td>\n",
       "      <td>2016-05-24T15:58:41Z</td>\n",
       "      <td>2016-06-01T00:00:00Z</td>\n",
       "      <td>10</td>\n",
       "      <td>JARDIM CAMBURI</td>\n",
       "      <td>0</td>\n",
       "      <td>0</td>\n",
       "      <td>0</td>\n",
       "      <td>0</td>\n",
       "      <td>0</td>\n",
       "      <td>1</td>\n",
       "      <td>Yes</td>\n",
       "      <td>06</td>\n",
       "      <td>05</td>\n",
       "    </tr>\n",
       "    <tr>\n",
       "      <th>110194</th>\n",
       "      <td>62561566671256</td>\n",
       "      <td>5756776</td>\n",
       "      <td>F</td>\n",
       "      <td>2016-06-01T08:40:09Z</td>\n",
       "      <td>2016-06-03T00:00:00Z</td>\n",
       "      <td>52</td>\n",
       "      <td>JARDIM CAMBURI</td>\n",
       "      <td>0</td>\n",
       "      <td>0</td>\n",
       "      <td>0</td>\n",
       "      <td>0</td>\n",
       "      <td>0</td>\n",
       "      <td>0</td>\n",
       "      <td>Yes</td>\n",
       "      <td>06</td>\n",
       "      <td>06</td>\n",
       "    </tr>\n",
       "    <tr>\n",
       "      <th>110356</th>\n",
       "      <td>571789196444851</td>\n",
       "      <td>5707184</td>\n",
       "      <td>M</td>\n",
       "      <td>2016-05-17T09:17:42Z</td>\n",
       "      <td>2016-06-08T00:00:00Z</td>\n",
       "      <td>6</td>\n",
       "      <td>JARDIM CAMBURI</td>\n",
       "      <td>0</td>\n",
       "      <td>0</td>\n",
       "      <td>0</td>\n",
       "      <td>0</td>\n",
       "      <td>0</td>\n",
       "      <td>0</td>\n",
       "      <td>Yes</td>\n",
       "      <td>06</td>\n",
       "      <td>05</td>\n",
       "    </tr>\n",
       "  </tbody>\n",
       "</table>\n",
       "<p>1432 rows × 16 columns</p>\n",
       "</div>"
      ],
      "text/plain": [
       "              PatientId  AppointmentID Gender          ScheduledDay  \\\n",
       "446         24494241866        5562707      F  2016-04-08T14:13:23Z   \n",
       "448      62818436793537        5564809      M  2016-04-11T08:06:06Z   \n",
       "575     299778815147872        5609550      M  2016-04-20T16:09:23Z   \n",
       "610       3385223672972        5634237      M  2016-04-28T10:37:09Z   \n",
       "1960    975822937729569        5628416      M  2016-04-27T10:59:08Z   \n",
       "...                 ...            ...    ...                   ...   \n",
       "109838    5289177614313        5769488      M  2016-06-03T08:53:01Z   \n",
       "109992  496891744474147        5765854      F  2016-06-02T13:51:52Z   \n",
       "110095  415876789177954        5734648      F  2016-05-24T15:58:41Z   \n",
       "110194   62561566671256        5756776      F  2016-06-01T08:40:09Z   \n",
       "110356  571789196444851        5707184      M  2016-05-17T09:17:42Z   \n",
       "\n",
       "              AppointmentDay  Age   Neighbourhood  Scholarship  Hipertension  \\\n",
       "446     2016-04-29T00:00:00Z   60  JARDIM CAMBURI            0             0   \n",
       "448     2016-04-29T00:00:00Z   12  JARDIM CAMBURI            0             0   \n",
       "575     2016-04-29T00:00:00Z   23  JARDIM CAMBURI            0             0   \n",
       "610     2016-04-29T00:00:00Z   48  JARDIM CAMBURI            0             0   \n",
       "1960    2016-04-29T00:00:00Z   17  JARDIM CAMBURI            0             0   \n",
       "...                      ...  ...             ...          ...           ...   \n",
       "109838  2016-06-07T00:00:00Z   68  JARDIM CAMBURI            0             0   \n",
       "109992  2016-06-06T00:00:00Z   63  JARDIM CAMBURI            0             0   \n",
       "110095  2016-06-01T00:00:00Z   10  JARDIM CAMBURI            0             0   \n",
       "110194  2016-06-03T00:00:00Z   52  JARDIM CAMBURI            0             0   \n",
       "110356  2016-06-08T00:00:00Z    6  JARDIM CAMBURI            0             0   \n",
       "\n",
       "        Diabetes  Alcoholism  Handcap  SMS_received NoShow App_month Sch_month  \n",
       "446            0           0        0             1    Yes        04        04  \n",
       "448            0           0        0             1    Yes        04        04  \n",
       "575            0           0        0             1    Yes        04        04  \n",
       "610            0           0        0             0    Yes        04        04  \n",
       "1960           0           0        0             0    Yes        04        04  \n",
       "...          ...         ...      ...           ...    ...       ...       ...  \n",
       "109838         0           0        0             1    Yes        06        06  \n",
       "109992         0           0        0             1    Yes        06        06  \n",
       "110095         0           0        0             1    Yes        06        05  \n",
       "110194         0           0        0             0    Yes        06        06  \n",
       "110356         0           0        0             0    Yes        06        05  \n",
       "\n",
       "[1432 rows x 16 columns]"
      ]
     },
     "execution_count": 57,
     "metadata": {},
     "output_type": "execute_result"
    }
   ],
   "source": [
    "temp = df_in[df_in.Neighbourhood =='JARDIM CAMBURI']\n",
    "temp = temp[temp.NoShow =='Yes']\n",
    "temp"
   ]
  },
  {
   "cell_type": "markdown",
   "metadata": {},
   "source": [
    "## Pie plot to show Gender wise distribution for No-show patients count for the Neighbourhood :JARDIM CAMBURI (Neighbourhood with highest No-show count)"
   ]
  },
  {
   "cell_type": "code",
   "execution_count": 69,
   "metadata": {},
   "outputs": [
    {
     "data": {
      "text/plain": [
       "Text(0.5, 1.0, 'Pie plot to show Gender wise distribution for No-show patients count for the Neighbourhood :JARDIM CAMBURI')"
      ]
     },
     "execution_count": 69,
     "metadata": {},
     "output_type": "execute_result"
    },
    {
     "data": {
      "image/png": "[encoded data removed]",
      "text/plain": [
       "<Figure size 1440x1080 with 1 Axes>"
      ]
     },
     "metadata": {},
     "output_type": "display_data"
    }
   ],
   "source": [
    "\n",
    "plot = temp.Gender.value_counts().plot(kind='pie', figsize=(20, 15))\n",
    "plot.set_xlabel('Blue:Female, Orange:Male')\n",
    "plot.set_ylabel('Number of NoShow Patients')\n",
    "plot.set_title('Pie plot to show Gender wise distribution for No-show patients count for the Neighbourhood :JARDIM CAMBURI')"
   ]
  },
  {
   "cell_type": "markdown",
   "metadata": {},
   "source": [
    "## Bar graph to show Age-group wise distribution for No-show patients count  for Neighbourhood 'JARDIM CAMBURI'"
   ]
  },
  {
   "cell_type": "code",
   "execution_count": 110,
   "metadata": {},
   "outputs": [
    {
     "data": {
      "text/plain": [
       "Text(0.5, 1.0, 'Bar graph to show Age-group wise distribution for No-show patients count in JARDIM CAMBURI')"
      ]
     },
     "execution_count": 110,
     "metadata": {},
     "output_type": "execute_result"
    },
    {
     "data": {
      "image/png": "[encoded data removed]",
      "text/plain": [
       "<Figure size 1440x1080 with 1 Axes>"
      ]
     },
     "metadata": {
      "needs_background": "light"
     },
     "output_type": "display_data"
    }
   ],
   "source": [
    "ranges = [0,10,20,30,40,50,60,70,80,90,100,120] #Age wise distribution\n",
    "df_age_temp = temp.groupby(pd.cut(temp.Age, ranges)).count()\n",
    "df_age_temp = df_age_temp[['NoShow']]\n",
    "total=sum(df_age_temp.NoShow)\n",
    "df_age_temp['PercentageNoShow'] = (df_age_temp['NoShow']/total)*100\n",
    "df_age_temp.reset_index(level=0, inplace=True)\n",
    "\n",
    "# Age wise distribution for the Region \"\"\n",
    "Age_plot =df_age_temp.plot.bar(x='Age',y='NoShow',figsize=(20,15));\n",
    "Age_plot.set_xlabel('Age range')\n",
    "Age_plot.set_ylabel('Number of NoShow Patients')\n",
    "Age_plot.set_title('Bar graph to show Age-group wise distribution for No-show patients count in JARDIM CAMBURI')"
   ]
  },
  {
   "cell_type": "markdown",
   "metadata": {},
   "source": [
    "### Findings:- Plot showing Age Vs No-show count for Neighbourhood 'JARDIM CAMBURI' with maximum NoShow appointment records\n",
    "Age group 40-60 shows major No-show count for Neighbourhood 'JARDIM CAMBURI'"
   ]
  },
  {
   "cell_type": "markdown",
   "metadata": {},
   "source": [
    "### Research Question 4: Which age group impacts in maximum no-show appointments? Which age group is the most disciplined group with minimum no-show appointments?"
   ]
  },
  {
   "cell_type": "code",
   "execution_count": 75,
   "metadata": {},
   "outputs": [
    {
     "name": "stderr",
     "output_type": "stream",
     "text": [
      "C:\\Users\\I0001327\\AppData\\Local\\Continuum\\anaconda3\\lib\\site-packages\\ipykernel_launcher.py:6: SettingWithCopyWarning: \n",
      "A value is trying to be set on a copy of a slice from a DataFrame.\n",
      "Try using .loc[row_indexer,col_indexer] = value instead\n",
      "\n",
      "See the caveats in the documentation: https://pandas.pydata.org/pandas-docs/stable/user_guide/indexing.html#returning-a-view-versus-a-copy\n",
      "  \n"
     ]
    },
    {
     "data": {
      "text/plain": [
       "Text(0.5, 1.0, 'Bar graph to show Age-group wise distribution for No-show patients count across entire data')"
      ]
     },
     "execution_count": 75,
     "metadata": {},
     "output_type": "execute_result"
    },
    {
     "data": {
      "image/png": "[encoded data removed]",
      "text/plain": [
       "<Figure size 1440x1080 with 1 Axes>"
      ]
     },
     "metadata": {
      "needs_background": "light"
     },
     "output_type": "display_data"
    }
   ],
   "source": [
    "ranges1 = [0,5,10,15,20,25,30,35,40,45,50,55,60,65,70,75,80,85,90,95,100,105,110,115,120] #Age wise distribution\n",
    "temp1 = df_in[df_in.NoShow == 'Yes'] #Filter for now show\n",
    "temp1 = temp1.groupby(pd.cut(temp1.Age, ranges1)).count()\n",
    "df_age_temp1 = temp1[['NoShow']]\n",
    "total1=sum(df_age_temp1.NoShow)\n",
    "df_age_temp1['Percentage-NoShow'] = (df_age_temp1['NoShow']/total1)*100\n",
    "df_age_temp1.reset_index(level=0, inplace=True)\n",
    "\n",
    "# Age wise distribution for the entire dataset\n",
    "Age_plot1 =df_age_temp1.plot.bar(x='Age',y='NoShow',figsize=(20,15));\n",
    "Age_plot1.set_xlabel('Age range')\n",
    "Age_plot1.set_ylabel('Number of NoShow Patients')\n",
    "Age_plot1.set_title('Bar graph to show Age-group wise distribution for No-show patients count across entire data')"
   ]
  },
  {
   "cell_type": "markdown",
   "metadata": {},
   "source": [
    " ## Plot showing Age Vs No-show count for all Neighbourhood with NoShow appointment records"
   ]
  },
  {
   "cell_type": "markdown",
   "metadata": {},
   "source": [
    "## Finding:- Age group 15-20 has the most count for NoShow Appointments"
   ]
  },
  {
   "cell_type": "code",
   "execution_count": 23,
   "metadata": {},
   "outputs": [
    {
     "data": {
      "text/html": [
       "<div>\n",
       "<style scoped>\n",
       "    .dataframe tbody tr th:only-of-type {\n",
       "        vertical-align: middle;\n",
       "    }\n",
       "\n",
       "    .dataframe tbody tr th {\n",
       "        vertical-align: top;\n",
       "    }\n",
       "\n",
       "    .dataframe thead th {\n",
       "        text-align: right;\n",
       "    }\n",
       "</style>\n",
       "<table border=\"1\" class=\"dataframe\">\n",
       "  <thead>\n",
       "    <tr style=\"text-align: right;\">\n",
       "      <th></th>\n",
       "      <th>Age</th>\n",
       "      <th>NoShow</th>\n",
       "      <th>Percentage-NoShow</th>\n",
       "    </tr>\n",
       "  </thead>\n",
       "  <tbody>\n",
       "    <tr>\n",
       "      <th>0</th>\n",
       "      <td>(0, 5]</td>\n",
       "      <td>1546</td>\n",
       "      <td>7.130996</td>\n",
       "    </tr>\n",
       "    <tr>\n",
       "      <th>1</th>\n",
       "      <td>(5, 10]</td>\n",
       "      <td>1603</td>\n",
       "      <td>7.393911</td>\n",
       "    </tr>\n",
       "    <tr>\n",
       "      <th>2</th>\n",
       "      <td>(10, 15]</td>\n",
       "      <td>1460</td>\n",
       "      <td>6.734317</td>\n",
       "    </tr>\n",
       "    <tr>\n",
       "      <th>3</th>\n",
       "      <td>(15, 20]</td>\n",
       "      <td>1848</td>\n",
       "      <td>8.523985</td>\n",
       "    </tr>\n",
       "    <tr>\n",
       "      <th>4</th>\n",
       "      <td>(20, 25]</td>\n",
       "      <td>1722</td>\n",
       "      <td>7.942804</td>\n",
       "    </tr>\n",
       "    <tr>\n",
       "      <th>5</th>\n",
       "      <td>(25, 30]</td>\n",
       "      <td>1672</td>\n",
       "      <td>7.712177</td>\n",
       "    </tr>\n",
       "    <tr>\n",
       "      <th>6</th>\n",
       "      <td>(30, 35]</td>\n",
       "      <td>1610</td>\n",
       "      <td>7.426199</td>\n",
       "    </tr>\n",
       "    <tr>\n",
       "      <th>7</th>\n",
       "      <td>(35, 40]</td>\n",
       "      <td>1622</td>\n",
       "      <td>7.481550</td>\n",
       "    </tr>\n",
       "    <tr>\n",
       "      <th>8</th>\n",
       "      <td>(40, 45]</td>\n",
       "      <td>1460</td>\n",
       "      <td>6.734317</td>\n",
       "    </tr>\n",
       "    <tr>\n",
       "      <th>9</th>\n",
       "      <td>(45, 50]</td>\n",
       "      <td>1410</td>\n",
       "      <td>6.503690</td>\n",
       "    </tr>\n",
       "    <tr>\n",
       "      <th>10</th>\n",
       "      <td>(50, 55]</td>\n",
       "      <td>1424</td>\n",
       "      <td>6.568266</td>\n",
       "    </tr>\n",
       "    <tr>\n",
       "      <th>11</th>\n",
       "      <td>(55, 60]</td>\n",
       "      <td>1297</td>\n",
       "      <td>5.982472</td>\n",
       "    </tr>\n",
       "    <tr>\n",
       "      <th>12</th>\n",
       "      <td>(60, 65]</td>\n",
       "      <td>940</td>\n",
       "      <td>4.335793</td>\n",
       "    </tr>\n",
       "    <tr>\n",
       "      <th>13</th>\n",
       "      <td>(65, 70]</td>\n",
       "      <td>708</td>\n",
       "      <td>3.265683</td>\n",
       "    </tr>\n",
       "    <tr>\n",
       "      <th>14</th>\n",
       "      <td>(70, 75]</td>\n",
       "      <td>488</td>\n",
       "      <td>2.250923</td>\n",
       "    </tr>\n",
       "    <tr>\n",
       "      <th>15</th>\n",
       "      <td>(75, 80]</td>\n",
       "      <td>401</td>\n",
       "      <td>1.849631</td>\n",
       "    </tr>\n",
       "    <tr>\n",
       "      <th>16</th>\n",
       "      <td>(80, 85]</td>\n",
       "      <td>274</td>\n",
       "      <td>1.263838</td>\n",
       "    </tr>\n",
       "    <tr>\n",
       "      <th>17</th>\n",
       "      <td>(85, 90]</td>\n",
       "      <td>133</td>\n",
       "      <td>0.613469</td>\n",
       "    </tr>\n",
       "    <tr>\n",
       "      <th>18</th>\n",
       "      <td>(90, 95]</td>\n",
       "      <td>55</td>\n",
       "      <td>0.253690</td>\n",
       "    </tr>\n",
       "    <tr>\n",
       "      <th>19</th>\n",
       "      <td>(95, 100]</td>\n",
       "      <td>4</td>\n",
       "      <td>0.018450</td>\n",
       "    </tr>\n",
       "    <tr>\n",
       "      <th>20</th>\n",
       "      <td>(100, 105]</td>\n",
       "      <td>0</td>\n",
       "      <td>0.000000</td>\n",
       "    </tr>\n",
       "    <tr>\n",
       "      <th>21</th>\n",
       "      <td>(105, 110]</td>\n",
       "      <td>0</td>\n",
       "      <td>0.000000</td>\n",
       "    </tr>\n",
       "    <tr>\n",
       "      <th>22</th>\n",
       "      <td>(110, 115]</td>\n",
       "      <td>3</td>\n",
       "      <td>0.013838</td>\n",
       "    </tr>\n",
       "    <tr>\n",
       "      <th>23</th>\n",
       "      <td>(115, 120]</td>\n",
       "      <td>0</td>\n",
       "      <td>0.000000</td>\n",
       "    </tr>\n",
       "  </tbody>\n",
       "</table>\n",
       "</div>"
      ],
      "text/plain": [
       "           Age  NoShow  Percentage-NoShow\n",
       "0       (0, 5]    1546           7.130996\n",
       "1      (5, 10]    1603           7.393911\n",
       "2     (10, 15]    1460           6.734317\n",
       "3     (15, 20]    1848           8.523985\n",
       "4     (20, 25]    1722           7.942804\n",
       "5     (25, 30]    1672           7.712177\n",
       "6     (30, 35]    1610           7.426199\n",
       "7     (35, 40]    1622           7.481550\n",
       "8     (40, 45]    1460           6.734317\n",
       "9     (45, 50]    1410           6.503690\n",
       "10    (50, 55]    1424           6.568266\n",
       "11    (55, 60]    1297           5.982472\n",
       "12    (60, 65]     940           4.335793\n",
       "13    (65, 70]     708           3.265683\n",
       "14    (70, 75]     488           2.250923\n",
       "15    (75, 80]     401           1.849631\n",
       "16    (80, 85]     274           1.263838\n",
       "17    (85, 90]     133           0.613469\n",
       "18    (90, 95]      55           0.253690\n",
       "19   (95, 100]       4           0.018450\n",
       "20  (100, 105]       0           0.000000\n",
       "21  (105, 110]       0           0.000000\n",
       "22  (110, 115]       3           0.013838\n",
       "23  (115, 120]       0           0.000000"
      ]
     },
     "execution_count": 23,
     "metadata": {},
     "output_type": "execute_result"
    }
   ],
   "source": [
    "df_age_temp1"
   ]
  },
  {
   "cell_type": "code",
   "execution_count": 76,
   "metadata": {},
   "outputs": [
    {
     "name": "stderr",
     "output_type": "stream",
     "text": [
      "C:\\Users\\I0001327\\AppData\\Local\\Continuum\\anaconda3\\lib\\site-packages\\ipykernel_launcher.py:7: SettingWithCopyWarning: \n",
      "A value is trying to be set on a copy of a slice from a DataFrame.\n",
      "Try using .loc[row_indexer,col_indexer] = value instead\n",
      "\n",
      "See the caveats in the documentation: https://pandas.pydata.org/pandas-docs/stable/user_guide/indexing.html#returning-a-view-versus-a-copy\n",
      "  import sys\n",
      "C:\\Users\\I0001327\\AppData\\Local\\Continuum\\anaconda3\\lib\\site-packages\\pandas\\core\\frame.py:4308: SettingWithCopyWarning: \n",
      "A value is trying to be set on a copy of a slice from a DataFrame\n",
      "\n",
      "See the caveats in the documentation: https://pandas.pydata.org/pandas-docs/stable/user_guide/indexing.html#returning-a-view-versus-a-copy\n",
      "  errors=errors,\n"
     ]
    },
    {
     "data": {
      "text/plain": [
       "Text(0.5, 1.0, 'Bar graph to show Age-group wise distribution for health-consious patients count across entire data')"
      ]
     },
     "execution_count": 76,
     "metadata": {},
     "output_type": "execute_result"
    },
    {
     "data": {
      "image/png": "[encoded data removed]",
      "text/plain": [
       "<Figure size 1440x1080 with 1 Axes>"
      ]
     },
     "metadata": {
      "needs_background": "light"
     },
     "output_type": "display_data"
    }
   ],
   "source": [
    "temp2 = df_in[df_in.NoShow == 'No'] #Filter for now show\n",
    "temp2 = temp2.groupby(pd.cut(temp2.Age, ranges1)).count()\n",
    "df_age_temp2 = temp2[['NoShow']]\n",
    "total2=sum(df_age_temp2.NoShow)\n",
    "df_age_temp2 = temp2[['NoShow']]\n",
    "\n",
    "df_age_temp2['Percentage-Show'] = (df_age_temp2['NoShow']/total2)*100\n",
    "df_age_temp2.reset_index(level=0, inplace=True)\n",
    "df_age_temp2.rename({'NoShow':'Show'},axis=1,inplace=True)\n",
    "\n",
    "# Age wise distribution for the entire dataset\n",
    "Age_plot2  = df_age_temp2.plot.bar(x='Age',y='Show',figsize=(20,15));\n",
    "Age_plot2.set_xlabel('Age range')\n",
    "Age_plot2.set_ylabel('Number of Show Patients')\n",
    "Age_plot2.set_title('Bar graph to show Age-group wise distribution for health-consious patients count across entire data')"
   ]
  },
  {
   "cell_type": "markdown",
   "metadata": {},
   "source": [
    "## Age group 0-5, 50-60 are the most disciplined group who miss their appointments the least & have major appointment count"
   ]
  },
  {
   "cell_type": "code",
   "execution_count": 25,
   "metadata": {},
   "outputs": [
    {
     "data": {
      "text/html": [
       "<div>\n",
       "<style scoped>\n",
       "    .dataframe tbody tr th:only-of-type {\n",
       "        vertical-align: middle;\n",
       "    }\n",
       "\n",
       "    .dataframe tbody tr th {\n",
       "        vertical-align: top;\n",
       "    }\n",
       "\n",
       "    .dataframe thead th {\n",
       "        text-align: right;\n",
       "    }\n",
       "</style>\n",
       "<table border=\"1\" class=\"dataframe\">\n",
       "  <thead>\n",
       "    <tr style=\"text-align: right;\">\n",
       "      <th></th>\n",
       "      <th>Age</th>\n",
       "      <th>Show</th>\n",
       "      <th>Percentage-Show</th>\n",
       "    </tr>\n",
       "  </thead>\n",
       "  <tbody>\n",
       "    <tr>\n",
       "      <th>0</th>\n",
       "      <td>(0, 5]</td>\n",
       "      <td>6646</td>\n",
       "      <td>7.790685</td>\n",
       "    </tr>\n",
       "    <tr>\n",
       "      <th>1</th>\n",
       "      <td>(5, 10]</td>\n",
       "      <td>5415</td>\n",
       "      <td>6.347662</td>\n",
       "    </tr>\n",
       "    <tr>\n",
       "      <th>2</th>\n",
       "      <td>(10, 15]</td>\n",
       "      <td>4259</td>\n",
       "      <td>4.992556</td>\n",
       "    </tr>\n",
       "    <tr>\n",
       "      <th>3</th>\n",
       "      <td>(15, 20]</td>\n",
       "      <td>5532</td>\n",
       "      <td>6.484814</td>\n",
       "    </tr>\n",
       "    <tr>\n",
       "      <th>4</th>\n",
       "      <td>(20, 25]</td>\n",
       "      <td>5029</td>\n",
       "      <td>5.895179</td>\n",
       "    </tr>\n",
       "    <tr>\n",
       "      <th>5</th>\n",
       "      <td>(25, 30]</td>\n",
       "      <td>5360</td>\n",
       "      <td>6.283189</td>\n",
       "    </tr>\n",
       "    <tr>\n",
       "      <th>6</th>\n",
       "      <td>(30, 35]</td>\n",
       "      <td>5762</td>\n",
       "      <td>6.754428</td>\n",
       "    </tr>\n",
       "    <tr>\n",
       "      <th>7</th>\n",
       "      <td>(35, 40]</td>\n",
       "      <td>6058</td>\n",
       "      <td>7.101410</td>\n",
       "    </tr>\n",
       "    <tr>\n",
       "      <th>8</th>\n",
       "      <td>(40, 45]</td>\n",
       "      <td>5442</td>\n",
       "      <td>6.379312</td>\n",
       "    </tr>\n",
       "    <tr>\n",
       "      <th>9</th>\n",
       "      <td>(45, 50]</td>\n",
       "      <td>6108</td>\n",
       "      <td>7.160022</td>\n",
       "    </tr>\n",
       "    <tr>\n",
       "      <th>10</th>\n",
       "      <td>(50, 55]</td>\n",
       "      <td>6495</td>\n",
       "      <td>7.613678</td>\n",
       "    </tr>\n",
       "    <tr>\n",
       "      <th>11</th>\n",
       "      <td>(55, 60]</td>\n",
       "      <td>6445</td>\n",
       "      <td>7.555066</td>\n",
       "    </tr>\n",
       "    <tr>\n",
       "      <th>12</th>\n",
       "      <td>(60, 65]</td>\n",
       "      <td>5521</td>\n",
       "      <td>6.471919</td>\n",
       "    </tr>\n",
       "    <tr>\n",
       "      <th>13</th>\n",
       "      <td>(65, 70]</td>\n",
       "      <td>4020</td>\n",
       "      <td>4.712392</td>\n",
       "    </tr>\n",
       "    <tr>\n",
       "      <th>14</th>\n",
       "      <td>(70, 75]</td>\n",
       "      <td>2693</td>\n",
       "      <td>3.156834</td>\n",
       "    </tr>\n",
       "    <tr>\n",
       "      <th>15</th>\n",
       "      <td>(75, 80]</td>\n",
       "      <td>2139</td>\n",
       "      <td>2.507414</td>\n",
       "    </tr>\n",
       "    <tr>\n",
       "      <th>16</th>\n",
       "      <td>(80, 85]</td>\n",
       "      <td>1418</td>\n",
       "      <td>1.662232</td>\n",
       "    </tr>\n",
       "    <tr>\n",
       "      <th>17</th>\n",
       "      <td>(85, 90]</td>\n",
       "      <td>719</td>\n",
       "      <td>0.842838</td>\n",
       "    </tr>\n",
       "    <tr>\n",
       "      <th>18</th>\n",
       "      <td>(90, 95]</td>\n",
       "      <td>207</td>\n",
       "      <td>0.242653</td>\n",
       "    </tr>\n",
       "    <tr>\n",
       "      <th>19</th>\n",
       "      <td>(95, 100]</td>\n",
       "      <td>35</td>\n",
       "      <td>0.041028</td>\n",
       "    </tr>\n",
       "    <tr>\n",
       "      <th>20</th>\n",
       "      <td>(100, 105]</td>\n",
       "      <td>2</td>\n",
       "      <td>0.002344</td>\n",
       "    </tr>\n",
       "    <tr>\n",
       "      <th>21</th>\n",
       "      <td>(105, 110]</td>\n",
       "      <td>0</td>\n",
       "      <td>0.000000</td>\n",
       "    </tr>\n",
       "    <tr>\n",
       "      <th>22</th>\n",
       "      <td>(110, 115]</td>\n",
       "      <td>2</td>\n",
       "      <td>0.002344</td>\n",
       "    </tr>\n",
       "    <tr>\n",
       "      <th>23</th>\n",
       "      <td>(115, 120]</td>\n",
       "      <td>0</td>\n",
       "      <td>0.000000</td>\n",
       "    </tr>\n",
       "  </tbody>\n",
       "</table>\n",
       "</div>"
      ],
      "text/plain": [
       "           Age  Show  Percentage-Show\n",
       "0       (0, 5]  6646         7.790685\n",
       "1      (5, 10]  5415         6.347662\n",
       "2     (10, 15]  4259         4.992556\n",
       "3     (15, 20]  5532         6.484814\n",
       "4     (20, 25]  5029         5.895179\n",
       "5     (25, 30]  5360         6.283189\n",
       "6     (30, 35]  5762         6.754428\n",
       "7     (35, 40]  6058         7.101410\n",
       "8     (40, 45]  5442         6.379312\n",
       "9     (45, 50]  6108         7.160022\n",
       "10    (50, 55]  6495         7.613678\n",
       "11    (55, 60]  6445         7.555066\n",
       "12    (60, 65]  5521         6.471919\n",
       "13    (65, 70]  4020         4.712392\n",
       "14    (70, 75]  2693         3.156834\n",
       "15    (75, 80]  2139         2.507414\n",
       "16    (80, 85]  1418         1.662232\n",
       "17    (85, 90]   719         0.842838\n",
       "18    (90, 95]   207         0.242653\n",
       "19   (95, 100]    35         0.041028\n",
       "20  (100, 105]     2         0.002344\n",
       "21  (105, 110]     0         0.000000\n",
       "22  (110, 115]     2         0.002344\n",
       "23  (115, 120]     0         0.000000"
      ]
     },
     "execution_count": 25,
     "metadata": {},
     "output_type": "execute_result"
    }
   ],
   "source": [
    "df_age_temp2"
   ]
  },
  {
   "cell_type": "markdown",
   "metadata": {},
   "source": [
    "## Research Question 5: Does scheduled day & appointment day difference have any impact to the appointment NoShow event?"
   ]
  },
  {
   "cell_type": "code",
   "execution_count": 82,
   "metadata": {},
   "outputs": [],
   "source": [
    "# Calculating date difference between Appointment Day & Scheduled day based on the delimiter \"T\"\n",
    "df_in['App_date'] = df_in['AppointmentDay'].apply(lambda x: x.split(\"T\")[0])\n",
    "df_in['Sch_date'] = df_in['ScheduledDay'].apply(lambda x: x.split(\"T\")[0])\n",
    "df_in['App_date']= df_in['App_date'].apply(lambda x: pd.to_datetime(x))\n",
    "df_in['Sch_date']= df_in['Sch_date'].apply(lambda x: pd.to_datetime(x))\n",
    "df_in['Date_dif']=df_in.App_date - df_in.Sch_date"
   ]
  },
  {
   "cell_type": "code",
   "execution_count": 83,
   "metadata": {},
   "outputs": [
    {
     "name": "stdout",
     "output_type": "stream",
     "text": [
      "<class 'numpy.int64'>\n"
     ]
    }
   ],
   "source": [
    "df_in['Date_dif']= df_in.Date_dif.apply(lambda x:x.days)\n",
    "df_in['Date_dif']= df_in.Date_dif.apply(lambda x:int(x))\n",
    "\n",
    "print(type(df_in.Date_dif[0]))"
   ]
  },
  {
   "cell_type": "code",
   "execution_count": 103,
   "metadata": {},
   "outputs": [
    {
     "data": {
      "text/plain": [
       "Text(0.5, 1.0, 'Bar graph to show Day difference between Scheduled date & Appointment date relationship with No-Showe count')"
      ]
     },
     "execution_count": 103,
     "metadata": {},
     "output_type": "execute_result"
    },
    {
     "data": {
      "image/png": "[encoded data removed]",
      "text/plain": [
       "<Figure size 1440x1080 with 1 Axes>"
      ]
     },
     "metadata": {
      "needs_background": "light"
     },
     "output_type": "display_data"
    }
   ],
   "source": [
    "test = df_in[['Date_dif','NoShow']]\n",
    "test = test.drop(test[test.Date_dif<0].index)\n",
    "test = test[test.NoShow =='Yes']\n",
    "#test.plot.bar(x='Date_dif',y='NoShow',figsize=(20,15));\n",
    "test1 =test['Date_dif'].value_counts()\n",
    "test2 = test1[test1 >=266.5] # 75%\n",
    "Age_plot3 = test2.plot.bar(x='Index',y='NoShow',figsize=(20,15));\n",
    "Age_plot3.set_xlabel('Day difference between Scheduled date & Appointment date')\n",
    "Age_plot3.set_ylabel('Number of No-Show Patients')\n",
    "Age_plot3.set_title('Bar graph to show Day difference between Scheduled date & Appointment date relationship with No-Showe count')\n",
    "# 0 day difference represents same Day appointment & scheduled date"
   ]
  },
  {
   "cell_type": "markdown",
   "metadata": {},
   "source": [
    "## Same day for scheduled date & appointment day represents maximum No-Show Patient Count"
   ]
  },
  {
   "cell_type": "code",
   "execution_count": 101,
   "metadata": {},
   "outputs": [
    {
     "data": {
      "text/html": [
       "<div>\n",
       "<style scoped>\n",
       "    .dataframe tbody tr th:only-of-type {\n",
       "        vertical-align: middle;\n",
       "    }\n",
       "\n",
       "    .dataframe tbody tr th {\n",
       "        vertical-align: top;\n",
       "    }\n",
       "\n",
       "    .dataframe thead th {\n",
       "        text-align: right;\n",
       "    }\n",
       "</style>\n",
       "<table border=\"1\" class=\"dataframe\">\n",
       "  <thead>\n",
       "    <tr style=\"text-align: right;\">\n",
       "      <th></th>\n",
       "      <th>Date_dif</th>\n",
       "    </tr>\n",
       "  </thead>\n",
       "  <tbody>\n",
       "    <tr>\n",
       "      <th>count</th>\n",
       "      <td>110.000000</td>\n",
       "    </tr>\n",
       "    <tr>\n",
       "      <th>mean</th>\n",
       "      <td>197.045455</td>\n",
       "    </tr>\n",
       "    <tr>\n",
       "      <th>std</th>\n",
       "      <td>333.055231</td>\n",
       "    </tr>\n",
       "    <tr>\n",
       "      <th>min</th>\n",
       "      <td>1.000000</td>\n",
       "    </tr>\n",
       "    <tr>\n",
       "      <th>25%</th>\n",
       "      <td>9.500000</td>\n",
       "    </tr>\n",
       "    <tr>\n",
       "      <th>50%</th>\n",
       "      <td>35.000000</td>\n",
       "    </tr>\n",
       "    <tr>\n",
       "      <th>75%</th>\n",
       "      <td>266.500000</td>\n",
       "    </tr>\n",
       "    <tr>\n",
       "      <th>max</th>\n",
       "      <td>1741.000000</td>\n",
       "    </tr>\n",
       "  </tbody>\n",
       "</table>\n",
       "</div>"
      ],
      "text/plain": [
       "          Date_dif\n",
       "count   110.000000\n",
       "mean    197.045455\n",
       "std     333.055231\n",
       "min       1.000000\n",
       "25%       9.500000\n",
       "50%      35.000000\n",
       "75%     266.500000\n",
       "max    1741.000000"
      ]
     },
     "execution_count": 101,
     "metadata": {},
     "output_type": "execute_result"
    }
   ],
   "source": [
    "pd.DataFrame(test1).describe() #Count of 266.5 shows 75% of No-Show count data\n"
   ]
  },
  {
   "cell_type": "markdown",
   "metadata": {},
   "source": [
    "Date difference- NoShow statistics"
   ]
  },
  {
   "cell_type": "markdown",
   "metadata": {},
   "source": [
    "### Plot showing Date difference between Scheduled date & appointment date Vs No-show\n",
    "X axis:- Day difference\n",
    "Y axis:- Count of No-show\n",
    "* Max NoShow appointment events observed for same day scheduled date & appointment date"
   ]
  },
  {
   "cell_type": "code",
   "execution_count": 106,
   "metadata": {},
   "outputs": [
    {
     "name": "stdout",
     "output_type": "stream",
     "text": [
      "Same day for scheduled date & appointment day represents maximum No-Show Patient Count Percentage:\n",
      "58.351725251655274 %\n"
     ]
    }
   ],
   "source": [
    "same_day_noShow_perc = (len(df_in[df_in['NoShow']=='Yes']) /len(df_in[df_in['Date_dif']==0]))*100\n",
    "print(\"Same day for scheduled date & appointment day represents maximum No-Show Patient Count Percentage:\")\n",
    "print(same_day_noShow_perc,\"%\") #Same day noShow event out of total Same day events "
   ]
  },
  {
   "cell_type": "markdown",
   "metadata": {},
   "source": [
    "## Same day for scheduled date & appointment day represents maximum No-Show Patient Count Percentage: 58.3517 %"
   ]
  },
  {
   "cell_type": "code",
   "execution_count": 107,
   "metadata": {},
   "outputs": [
    {
     "name": "stdout",
     "output_type": "stream",
     "text": [
      "Percentage for No-show appointment events for same day marked for appointment day & scheduled day:8.032 % with max appointment no-show occurence for same day count \n",
      "Percentage for No-show appointment events for date difference between appointment day & scheduled day for less than or equal to 14 days(2 weeks):59.414 % \n"
     ]
    }
   ],
   "source": [
    "perc_2wk = np.round((len(test[test.Date_dif <15])/len(test))*100,3)\n",
    "perc_same_day = np.round((len(test[test.Date_dif ==0])/len(test))*100,3)\n",
    "print(\"Percentage for No-show appointment events for same day marked for appointment day & scheduled day:{} % with max appointment no-show occurence for same day count \".format(perc_same_day))\n",
    "print(\"Percentage for No-show appointment events for date difference between appointment day & scheduled day for less than or equal to 14 days(2 weeks):{} % \".format(perc_2wk))"
   ]
  },
  {
   "cell_type": "code",
   "execution_count": 108,
   "metadata": {},
   "outputs": [
    {
     "name": "stdout",
     "output_type": "stream",
     "text": [
      "Mean day difference between Appointment date & scheduled date: 10.166721190425005\n",
      "Max day difference between Appointment date & scheduled date: 179\n",
      "Median day difference between Appointment date & scheduled date: 4.0\n"
     ]
    }
   ],
   "source": [
    "print(\"Mean day difference between Appointment date & scheduled date:\",np.mean(df_in['Date_dif']))\n",
    "print(\"Max day difference between Appointment date & scheduled date:\",np.max(df_in['Date_dif']))\n",
    "print(\"Median day difference between Appointment date & scheduled date:\",np.median(df_in['Date_dif']))"
   ]
  },
  {
   "cell_type": "markdown",
   "metadata": {},
   "source": [
    "<a id='conclusions'></a>\n",
    "## Conclusions\n",
    "Sample size of data is rows 110527. Of that 3540 records have wrong Age value shown as 0 & 1 which are dropped for analysis as this represents 3.2% of the data size. Additionally columns like \n",
    "Considering the number of neighbourhoods shown here, the data is very less. We can get more data to have a better statistical view. Also in the data we see count of female patients are more, hence it has a chance to impact the analysis contributing to the major count. This may lead to Simpson Paradox if not handled properly.\n",
    "\n",
    "Outliers:-\n",
    "* In age we see non positive values\n",
    "* Scheduled date is after appointment date\n",
    "\n",
    "Limitation:- \n",
    "* The data doesnt have medical facility location. It also does not contain the information that whether this data is from 1 medical centre or more.\n",
    "* Data is not enough to present statistics for the entire population.\n",
    "* Factors like mode of transportation to the medical facility may also contribute to the No-show count. \n",
    "\n",
    "Below are the some pf the findings from this given dataset with the investigation questions:-\n",
    "\n",
    "* Patients are more likely to **miss their appointments if they have same scheduled date & appointment date.**\n",
    "\n",
    "* Patient Id:**822145925426128 ,Gender:M ,Age:38** ,Neighbourhood:REDENÇÃO ,Count of appointment:88 ,Percentage of no-show:1.136%\n",
    ">This patient is most health consious as at age of 38 he is doing repeated checkups with less no-show count & no diseases like hipertension,diabetes found for him.\n",
    "\n",
    "\n",
    "* Percentage wise it shows for No-show count is more for females considering the total count for the respective gender instead of total dataframe count to avoid Simpson Paradox\n",
    "Females are contributing more towards the no-show count, hence showing high bar in the 6th bar. But 1st bar shows that similar percentage of females compared to male are not showing up for appointment.\n",
    "\n",
    "\n",
    "* Top 3 places with maximum no-show appointments are: PLACE - NoShow Count\n",
    "\n",
    "> * JARDIM CAMBURI-1432 (Age group 40-60 are the patients with major NoShow counts. Also most of NoShow count in this area is contributed by female patients as per counts)\n",
    "> * MARIA ORTIZ-1194\n",
    "> * ITARARÉ-898\n",
    ">> This can imply also that the medical centres are available near to these locations.\n",
    "\n",
    "* Top 3 places with least no-show appointments are: PLACE - NoShow Count\n",
    "\n",
    "> * AEROPORTO-1\n",
    "> * ILHAS OCEÂNICAS DE TRINDADE-2\n",
    "> * ILHA DO FRADE-2\n",
    "\n",
    "\n",
    "* Age group 15-20 has the most count for NoShow Appointments \n",
    "\n",
    "\n",
    "* **Age group 0-5, 50-60 are the most disciplined group who miss their appointments the least** & show up major time for appointments\n",
    "\n",
    "\n",
    "* Max NoShow appointment events observed for same day scheduled date & appointment date\n",
    "\n",
    "\n",
    "* Percentage for No-show appointment events for same day marked for appointment day & scheduled day:8.032 % with max appointment no-show occurence for same day count \n",
    "\n",
    "\n",
    "* Percentage for No-show appointment events for date difference between appointment day & scheduled day for less than or equal to 14 days(2 weeks):59.414 %  (Out of total no-show events)\n",
    "\n",
    "\n",
    "* Out of total same day appointment & scheduled day events , NoShow events happen for 58.3517% times.\n",
    "\n",
    "\n",
    "* Scheduled month & Appointment month shows that the **No-show appointment is highest for the month of May (05)**\n",
    "\n",
    "## Submitting your Project \n",
    "\n"
   ]
  },
  {
   "cell_type": "code",
   "execution_count": 109,
   "metadata": {},
   "outputs": [
    {
     "data": {
      "text/plain": [
       "0"
      ]
     },
     "execution_count": 109,
     "metadata": {},
     "output_type": "execute_result"
    }
   ],
   "source": [
    "from subprocess import call\n",
    "call(['python', '-m', 'nbconvert', 'Investigate_a_Dataset.ipynb'])"
   ]
  }
 ],
 "metadata": {
  "kernelspec": {
   "display_name": "Python 3",
   "language": "python",
   "name": "python3"
  },
  "language_info": {
   "codemirror_mode": {
    "name": "ipython",
    "version": 3
   },
   "file_extension": ".py",
   "mimetype": "text/x-python",
   "name": "python",
   "nbconvert_exporter": "python",
   "pygments_lexer": "ipython3",
   "version": "3.7.4"
  }
 },
 "nbformat": 4,
 "nbformat_minor": 2
}
